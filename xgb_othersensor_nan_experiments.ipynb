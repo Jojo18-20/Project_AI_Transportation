{
 "cells": [
  {
   "cell_type": "code",
   "execution_count": 1,
   "id": "27ea00d2-1f45-4b3f-b6ac-92e8b99bcfef",
   "metadata": {},
   "outputs": [
    {
     "name": "stdout",
     "output_type": "stream",
     "text": [
      "C:\\Users\\Johanna\\anaconda3\\envs\\AI_project\\python.exe\n"
     ]
    }
   ],
   "source": [
    "import sys\n",
    "print(sys.executable)\n",
    "#should be AI project"
   ]
  },
  {
   "cell_type": "code",
   "execution_count": 2,
   "id": "7b94929e-3da5-45ac-93e3-d17424bc0f86",
   "metadata": {},
   "outputs": [],
   "source": [
    "#import libraries\n",
    "from xgboost import XGBRegressor\n",
    "import pandas as pd\n",
    "from sklearn.model_selection import train_test_split\n",
    "from sklearn.metrics import mean_squared_error, mean_absolute_error,r2_score\n",
    "from datetime import time\n",
    "from functools import reduce\n"
   ]
  },
  {
   "cell_type": "code",
   "execution_count": 3,
   "id": "9733b619-058f-4d1a-bf70-98856337a5ef",
   "metadata": {},
   "outputs": [],
   "source": [
    "#import dataframes\n",
    "df_lagged_all = pd.read_parquet(\"data/processed/df_lagged_all_v3.parquet\")\n",
    "df_2_full = pd.read_parquet(\"data/processed/df_2_full_v3.parquet\")  #v3 for three portals\n"
   ]
  },
  {
   "cell_type": "markdown",
   "id": "d1674dd4-0e11-48b1-817a-689af911f5b2",
   "metadata": {},
   "source": [
    "XGBoost train flow with other portal"
   ]
  },
  {
   "cell_type": "code",
   "execution_count": 4,
   "id": "d8d4c7e4-2a00-4a1e-acca-4146c66a6e5f",
   "metadata": {},
   "outputs": [],
   "source": [
    "nlags=15"
   ]
  },
  {
   "cell_type": "code",
   "execution_count": 8,
   "id": "78fbd863-e4c2-4197-aeac-2055cd5852d7",
   "metadata": {},
   "outputs": [
    {
     "name": "stdout",
     "output_type": "stream",
     "text": [
      "[ 353 1443  749]\n"
     ]
    }
   ],
   "source": [
    "#define target sensor and other portal (not direct neighbour, further away)\n",
    "target_sensor = 1076\n",
    "\n",
    "further_portal = \"57055\"\n",
    "further_sensors = df_2_full[df_2_full['PORTAL_clean'] == further_portal]['DP_ID'].unique()\n",
    "\n",
    "#define features corresponding to the sensors\n",
    "flow_features_further = [\n",
    "    f'SENSOR_{sensor}_FLOW_lag_{i+1}'\n",
    "    for sensor in further_sensors\n",
    "    for i in range(nlags)\n",
    "]\n",
    "\n",
    "speed_features_further = [\n",
    "    f'SENSOR_{sensor}_SPEED_lag_{i+1}'\n",
    "    for sensor in further_sensors\n",
    "    for i in range(nlags)\n",
    "]    \n",
    "print(further_sensors)\n"
   ]
  },
  {
   "cell_type": "code",
   "execution_count": 25,
   "id": "c172011c-970b-4142-a0fb-6a156c5d04c1",
   "metadata": {},
   "outputs": [],
   "source": [
    "#train-test split\n",
    "df_train, df_test = train_test_split(df_lagged_all, test_size=0.2, random_state=42)\n"
   ]
  },
  {
   "cell_type": "code",
   "execution_count": 26,
   "id": "80d0d53b-d4d9-4aa9-90ab-d7668a6ab222",
   "metadata": {},
   "outputs": [
    {
     "name": "stdout",
     "output_type": "stream",
     "text": [
      "XGBoost Regression (FLOW) -> RMSE: 25.015, MAE: 17.155, R²: 0.909\n",
      "XGBoost Regression (SPEED) -> RMSE: 1.093, MAE: 0.575, R²: 0.530\n"
     ]
    },
    {
     "name": "stderr",
     "output_type": "stream",
     "text": [
      "C:\\Users\\Johanna\\anaconda3\\envs\\AI_project\\Lib\\site-packages\\sklearn\\metrics\\_regression.py:483: FutureWarning: 'squared' is deprecated in version 1.4 and will be removed in 1.6. To calculate the root mean squared error, use the function'root_mean_squared_error'.\n",
      "  warnings.warn(\n",
      "C:\\Users\\Johanna\\anaconda3\\envs\\AI_project\\Lib\\site-packages\\sklearn\\metrics\\_regression.py:483: FutureWarning: 'squared' is deprecated in version 1.4 and will be removed in 1.6. To calculate the root mean squared error, use the function'root_mean_squared_error'.\n",
      "  warnings.warn(\n"
     ]
    }
   ],
   "source": [
    "#model flow\n",
    "model_flow = XGBRegressor( #retrain with the best parameters of gridsearch for neighbour portal\n",
    "    n_estimators=200,\n",
    "    max_depth=7,\n",
    "    learning_rate=0.05,\n",
    "    subsample=0.8,\n",
    "    colsample_bytree=0.6,\n",
    "    random_state=42\n",
    ")\n",
    "model_flow.fit(df_train[flow_features_further], df_train['FLOW_future_sum'])\n",
    "model_flow.save_model(\"model/xgb_flow_furtherneighbour.json\")\n",
    "\n",
    "#model speed\n",
    "model_speed = XGBRegressor( #retrain with the best parameters of gridsearch for neighbour portal\n",
    "    n_estimators=200,\n",
    "    max_depth=7,\n",
    "    learning_rate=0.05,\n",
    "    subsample=0.8,\n",
    "    colsample_bytree=0.6,\n",
    "    random_state=42\n",
    ")\n",
    "model_speed.fit(df_train[speed_features_further], df_train['SPEED_future_mean'])\n",
    "model_speed.save_model(\"model/xgb_speed_furtherneighbour.json\")\n",
    "\n",
    "\n",
    "#predict flow values\n",
    "y_pred = model_flow.predict(df_test[flow_features_further])\n",
    "y_test = df_test['FLOW_future_sum']\n",
    "rmse = mean_squared_error(y_test, y_pred, squared=False)\n",
    "mae = mean_absolute_error(y_test, y_pred)\n",
    "r2 = r2_score(y_test, y_pred)\n",
    "\n",
    "print(f\"XGBoost Regression (FLOW) -> RMSE: {rmse:.3f}, MAE: {mae:.3f}, R²: {r2:.3f}\")\n",
    "\n",
    "#predict speed values\n",
    "y_pred = model_speed.predict(df_test[speed_features_further])\n",
    "y_test = df_test['SPEED_future_mean']\n",
    "rmse = mean_squared_error(y_test, y_pred, squared=False)\n",
    "mae = mean_absolute_error(y_test, y_pred)\n",
    "r2 = r2_score(y_test, y_pred)\n",
    "\n",
    "print(f\"XGBoost Regression (SPEED) -> RMSE: {rmse:.3f}, MAE: {mae:.3f}, R²: {r2:.3f}\")"
   ]
  },
  {
   "cell_type": "markdown",
   "id": "850517ef-d2af-4213-90ab-c1b27954754c",
   "metadata": {},
   "source": [
    "XGBoost train with Nan-values"
   ]
  },
  {
   "cell_type": "code",
   "execution_count": 10,
   "id": "b04bc086-386b-4ee6-8d76-0c83eb07959a",
   "metadata": {},
   "outputs": [],
   "source": [
    "#import dataframe where nan-values are not yet filled up\n",
    "df_2_wnan=pd.read_parquet(\"data/processed/df_2_wnan.parquet\")"
   ]
  },
  {
   "cell_type": "code",
   "execution_count": 11,
   "id": "5bc4daaf-0e57-4e38-be47-75a5b37758bc",
   "metadata": {},
   "outputs": [],
   "source": [
    "#define variables: target sensor and same/neighbour portal sensors\n",
    "target_sensor = 1076\n",
    "same_portal=\"55620\"\n",
    "neighbour_portal = \"56160\"\n",
    "\n",
    "same_portal_sensors = df_2_wnan[df_2_wnan['PORTAL_clean'] == same_portal]['DP_ID'].unique()\n",
    "same_sensors = [s for s in same_portal_sensors if s != target_sensor]\n",
    "\n",
    "\n",
    "neighbour_sensors = df_2_wnan[df_2_wnan['PORTAL_clean'] == neighbour_portal]['DP_ID'].unique()\n",
    "bothportals_sensors = df_2_wnan[df_2_wnan['PORTAL_clean'].isin([neighbour_portal, same_portal])]['DP_ID'].unique()\n",
    "except_target_sensors = [s for s in bothportals_sensors if s != target_sensor]\n",
    "\n",
    "\n"
   ]
  },
  {
   "cell_type": "code",
   "execution_count": 15,
   "id": "626e7199-bc89-4770-91f1-457463ff6e45",
   "metadata": {},
   "outputs": [],
   "source": [
    "nlags=15"
   ]
  },
  {
   "cell_type": "code",
   "execution_count": 16,
   "id": "dddd1525-600f-45a0-94e7-e29d4ffc900c",
   "metadata": {},
   "outputs": [],
   "source": [
    "#group features according to speed vs flow, same vs neighbour\n",
    "flow_features_same = [\n",
    "    f'SENSOR_{sensor}_FLOW_lag_{i+1}'\n",
    "    for sensor in same_sensors\n",
    "    for i in range(nlags)\n",
    "]\n",
    "flow_features_neighbour = [\n",
    "    f'SENSOR_{sensor}_FLOW_lag_{i+1}'\n",
    "    for sensor in neighbour_sensors\n",
    "    for i in range(nlags)\n",
    "]\n",
    "speed_features_same = [\n",
    "    f'SENSOR_{sensor}_SPEED_lag_{i+1}'\n",
    "    for sensor in same_sensors\n",
    "    for i in range(nlags)\n",
    "]\n",
    "speed_features_neighbour = [\n",
    "    f'SENSOR_{sensor}_SPEED_lag_{i+1}'\n",
    "    for sensor in neighbour_sensors\n",
    "    for i in range(nlags)\n",
    "]        "
   ]
  },
  {
   "cell_type": "code",
   "execution_count": 17,
   "id": "d4dc21e4-fa61-4158-a6c8-bd80a947eb1d",
   "metadata": {},
   "outputs": [],
   "source": [
    "#function for building lag features\n",
    "def build_lag_features(df, target_col, lags=nlags):\n",
    "    df = df.sort_values('Datetime')\n",
    "    for i in range(1, lags + 1):\n",
    "        df[f'{target_col}_lag_{i}'] = df.groupby('DP_ID')[target_col].shift(i)\n",
    "    return df\n"
   ]
  },
  {
   "cell_type": "code",
   "execution_count": 18,
   "id": "43a8b157-0576-47b7-a4f6-1dba8b36e0e8",
   "metadata": {},
   "outputs": [
    {
     "name": "stdout",
     "output_type": "stream",
     "text": [
      "(73006, 155)\n",
      "(69841, 155)\n",
      "Datetime                       0\n",
      "SENSOR_539_FLOW_lag_1        346\n",
      "SENSOR_539_FLOW_lag_2        373\n",
      "SENSOR_539_FLOW_lag_3        388\n",
      "SENSOR_539_FLOW_lag_4        398\n",
      "                            ... \n",
      "SENSOR_1254_SPEED_lag_15    4201\n",
      "FLOW                           0\n",
      "SPEED_MS_AVG                   0\n",
      "FLOW_future_sum                0\n",
      "SPEED_future_mean              0\n",
      "Length: 155, dtype: int64\n"
     ]
    }
   ],
   "source": [
    "#build lag-features (analog to building lag-features for filledup dataframe in the other notebook)\n",
    "df_lagged_wnan = build_lag_features(df_2_wnan, 'FLOW', lags=nlags)\n",
    "df_lagged_wnan = build_lag_features(df_lagged_wnan,\"SPEED_MS_AVG\", lags=nlags)\n",
    "#remove the first 15 entries as the lag-features are not fully available for that time\n",
    "df_lagged_wnan = df_lagged_wnan[df_lagged_wnan[\"Time_only\"]>= time(4, 15)]\n",
    "#reordner the lagged features in columns for every sensors\n",
    "df_lagged_all_wnan = []\n",
    "for sensor in except_target_sensors:\n",
    "    df_sensor = df_lagged_wnan[df_lagged_wnan['DP_ID'] == sensor].copy()\n",
    "    #add sensor-name in column name for flow columsn\n",
    "    df_sensor = df_sensor.rename(columns={\n",
    "        f'FLOW_lag_{i+1}': f'SENSOR_{sensor}_FLOW_lag_{i+1}' for i in range(nlags)\n",
    "    })\n",
    "    #add sensor-name in column name for flow columsn\n",
    "    df_sensor = df_sensor.rename(columns={\n",
    "        f'SPEED_MS_AVG_lag_{i+1}': f'SENSOR_{sensor}_SPEED_lag_{i+1}' for i in range(nlags)\n",
    "    })\n",
    "    df_sensor = df_sensor[['Datetime'] + [f'SENSOR_{sensor}_FLOW_lag_{i+1}' for i in range(nlags)]+[f'SENSOR_{sensor}_SPEED_lag_{i+1}' for i in range(nlags)]]\n",
    "    df_lagged_all_wnan.append(df_sensor)\n",
    "df_lagged_all_wnan = reduce(lambda l, r: pd.merge(l, r, on='Datetime', how='inner'), df_lagged_all_wnan)\n",
    "df_lagged_all_wnan=df_lagged_all_wnan.merge(df_2_wnan[df_2_wnan['DP_ID']==target_sensor][[\"Datetime\",\"FLOW\",\"SPEED_MS_AVG\"]], on=['Datetime'], how='left')\n",
    "#create target value (summed flow)\n",
    "df_2_wnan['FLOW_future_sum'] = (\n",
    "    df_2_wnan.groupby('DP_ID')['FLOW']\n",
    "    .rolling(15, min_periods=15)\n",
    "    .sum()\n",
    "    .shift(-14) \n",
    "    .reset_index(level=0, drop=True)\n",
    ")\n",
    "#create target value (mean speed)\n",
    "df_2_wnan['SPEED_future_mean'] = (\n",
    "    df_2_wnan.groupby('DP_ID')['SPEED_MS_AVG']\n",
    "    .rolling(15, min_periods=15)\n",
    "    .mean()\n",
    "    .shift(-14) \n",
    "    .reset_index(level=0, drop=True)\n",
    ")\n",
    "df_lagged_all_wnan=df_lagged_all_wnan.merge(df_2_wnan[df_2_wnan['DP_ID']==target_sensor][[\"Datetime\",\"FLOW_future_sum\",\"SPEED_future_mean\"]], on=['Datetime'], how='left')\n",
    "print(df_lagged_all_wnan.shape)\n",
    "df_lagged_all_wnan = df_lagged_all_wnan[df_lagged_all_wnan['Datetime'].dt.time <= time(9, 45)]\n",
    "print(df_lagged_all_wnan.shape)\n",
    "\n",
    "\n",
    "df_lagged_all_wnan = df_lagged_all_wnan.dropna(subset=[\"FLOW_future_sum\"])\n",
    "print(df_lagged_all_wnan.isna().sum())\n",
    "\n",
    "\n"
   ]
  },
  {
   "cell_type": "code",
   "execution_count": 22,
   "id": "7d2bd52c-d48f-4bcd-b181-6b86854f32cb",
   "metadata": {},
   "outputs": [],
   "source": [
    "#split random testtrain\n",
    "df_train, df_test = train_test_split(df_lagged_all_wnan, test_size=0.2, random_state=42)\n"
   ]
  },
  {
   "cell_type": "code",
   "execution_count": 23,
   "id": "bf9db2cc-1da5-4e95-b2ae-8160f326bbae",
   "metadata": {},
   "outputs": [
    {
     "name": "stdout",
     "output_type": "stream",
     "text": [
      "XGBoost Regression (FLOW) -> RMSE: 25.293, MAE: 19.391, R²: 0.886\n",
      "XGBoost Regression (SPEED) -> RMSE: 0.706, MAE: 0.369, R²: 0.789\n"
     ]
    },
    {
     "name": "stderr",
     "output_type": "stream",
     "text": [
      "C:\\Users\\Johanna\\anaconda3\\envs\\AI_project\\Lib\\site-packages\\sklearn\\metrics\\_regression.py:483: FutureWarning: 'squared' is deprecated in version 1.4 and will be removed in 1.6. To calculate the root mean squared error, use the function'root_mean_squared_error'.\n",
      "  warnings.warn(\n",
      "C:\\Users\\Johanna\\anaconda3\\envs\\AI_project\\Lib\\site-packages\\sklearn\\metrics\\_regression.py:483: FutureWarning: 'squared' is deprecated in version 1.4 and will be removed in 1.6. To calculate the root mean squared error, use the function'root_mean_squared_error'.\n",
      "  warnings.warn(\n"
     ]
    }
   ],
   "source": [
    "#prediction from sensors in the same portal\n",
    "#model flow\n",
    "model_flow = XGBRegressor( #use best parameters from randomsearch without nann\n",
    "    n_estimators=200,\n",
    "    max_depth=7,\n",
    "    learning_rate=0.05,\n",
    "    subsample=1,\n",
    "    colsample_bytree=0.8,\n",
    ")\n",
    "model_flow.fit(df_train[flow_features_same], df_train['FLOW_future_sum'])\n",
    "model_flow.save_model(\"model/xgb_flow_same_nan.json\")\n",
    "\n",
    "#model speed\n",
    "model_speed = XGBRegressor(  #use best parameters from randomsearch without nann\n",
    "    n_estimators=200,\n",
    "    max_depth=5,\n",
    "    learning_rate=0.05,\n",
    "    subsample=0.6,\n",
    "    colsample_bytree=0.6,\n",
    "    random_state=42\n",
    ")\n",
    "model_speed.fit(df_train[speed_features_same], df_train['SPEED_future_mean'])\n",
    "model_speed.save_model(\"model/xgb_speed_same_nan.json\")\n",
    "\n",
    "\n",
    "\n",
    "#predict flow values\n",
    "y_pred = model_flow.predict(df_test[flow_features_same])\n",
    "y_test = df_test['FLOW_future_sum']\n",
    "rmse = mean_squared_error(y_test, y_pred, squared=False)\n",
    "mae = mean_absolute_error(y_test, y_pred)\n",
    "r2 = r2_score(y_test, y_pred)\n",
    "\n",
    "print(f\"XGBoost Regression (FLOW) -> RMSE: {rmse:.3f}, MAE: {mae:.3f}, R²: {r2:.3f}\")\n",
    "\n",
    "#predict speed values\n",
    "y_pred = model_speed.predict(df_test[speed_features_same])\n",
    "y_test = df_test['SPEED_future_mean']\n",
    "rmse = mean_squared_error(y_test, y_pred, squared=False)\n",
    "mae = mean_absolute_error(y_test, y_pred)\n",
    "r2 = r2_score(y_test, y_pred)\n",
    "\n",
    "print(f\"XGBoost Regression (SPEED) -> RMSE: {rmse:.3f}, MAE: {mae:.3f}, R²: {r2:.3f}\")"
   ]
  },
  {
   "cell_type": "code",
   "execution_count": 24,
   "id": "21f9e5cc-1f80-46e6-a31e-5d3e38b8e873",
   "metadata": {},
   "outputs": [
    {
     "name": "stdout",
     "output_type": "stream",
     "text": [
      "XGBoost Regression (FLOW) -> RMSE: 21.319, MAE: 16.166, R²: 0.919\n",
      "XGBoost Regression (SPEED) -> RMSE: 0.857, MAE: 0.390, R²: 0.690\n"
     ]
    },
    {
     "name": "stderr",
     "output_type": "stream",
     "text": [
      "C:\\Users\\Johanna\\anaconda3\\envs\\AI_project\\Lib\\site-packages\\sklearn\\metrics\\_regression.py:483: FutureWarning: 'squared' is deprecated in version 1.4 and will be removed in 1.6. To calculate the root mean squared error, use the function'root_mean_squared_error'.\n",
      "  warnings.warn(\n",
      "C:\\Users\\Johanna\\anaconda3\\envs\\AI_project\\Lib\\site-packages\\sklearn\\metrics\\_regression.py:483: FutureWarning: 'squared' is deprecated in version 1.4 and will be removed in 1.6. To calculate the root mean squared error, use the function'root_mean_squared_error'.\n",
      "  warnings.warn(\n"
     ]
    }
   ],
   "source": [
    "#prediction from sensors in the neighbour portal\n",
    "#model flow\n",
    "model_flow = XGBRegressor(   #use best parameters from randomsearch without nann\n",
    "    n_estimators=200,\n",
    "    max_depth=7,\n",
    "    learning_rate=0.05,\n",
    "    subsample=0.8,\n",
    "    colsample_bytree=0.6,\n",
    "    random_state=42\n",
    ")\n",
    "model_flow.fit(df_train[flow_features_neighbour], df_train['FLOW_future_sum'])\n",
    "model_flow.save_model(\"model/xgb_flow_neighbour_nan.json\")\n",
    "\n",
    "#model speed\n",
    "model_speed = XGBRegressor(   #use best parameters from randomsearch without nann\n",
    "    n_estimators=100,\n",
    "    max_depth=7,\n",
    "    learning_rate=0.05,\n",
    "    subsample=0.8,\n",
    "    colsample_bytree=0.6,\n",
    "    random_state=42\n",
    ")\n",
    "model_speed.fit(df_train[speed_features_neighbour], df_train['SPEED_future_mean'])\n",
    "model_speed.save_model(\"model/xgb_speed_neighbour_nan.json\")\n",
    "\n",
    "\n",
    "\n",
    "#predict flow value\n",
    "y_pred = model_flow.predict(df_test[flow_features_neighbour])\n",
    "y_test = df_test['FLOW_future_sum']\n",
    "rmse = mean_squared_error(y_test, y_pred, squared=False)\n",
    "mae = mean_absolute_error(y_test, y_pred)\n",
    "r2 = r2_score(y_test, y_pred)\n",
    "\n",
    "print(f\"XGBoost Regression (FLOW) -> RMSE: {rmse:.3f}, MAE: {mae:.3f}, R²: {r2:.3f}\")\n",
    "\n",
    "#predict speed values\n",
    "y_pred = model_speed.predict(df_test[speed_features_neighbour])\n",
    "y_test = df_test['SPEED_future_mean']\n",
    "rmse = mean_squared_error(y_test, y_pred, squared=False)\n",
    "mae = mean_absolute_error(y_test, y_pred)\n",
    "r2 = r2_score(y_test, y_pred)\n",
    "\n",
    "print(f\"XGBoost Regression (SPEED) -> RMSE: {rmse:.3f}, MAE: {mae:.3f}, R²: {r2:.3f}\")"
   ]
  },
  {
   "cell_type": "code",
   "execution_count": null,
   "id": "3341d13e-72d4-4b81-b09e-e7e25468d55f",
   "metadata": {},
   "outputs": [],
   "source": []
  }
 ],
 "metadata": {
  "kernelspec": {
   "display_name": "Python 3 (ipykernel)",
   "language": "python",
   "name": "python3"
  },
  "language_info": {
   "codemirror_mode": {
    "name": "ipython",
    "version": 3
   },
   "file_extension": ".py",
   "mimetype": "text/x-python",
   "name": "python",
   "nbconvert_exporter": "python",
   "pygments_lexer": "ipython3",
   "version": "3.12.11"
  }
 },
 "nbformat": 4,
 "nbformat_minor": 5
}
