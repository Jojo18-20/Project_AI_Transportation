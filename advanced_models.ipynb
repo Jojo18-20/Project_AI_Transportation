{
 "cells": [
  {
   "cell_type": "code",
   "execution_count": 1,
   "id": "7768fd51-9f7b-4fd1-89f7-ce9bb3043009",
   "metadata": {},
   "outputs": [
    {
     "name": "stdout",
     "output_type": "stream",
     "text": [
      "C:\\Users\\Johanna\\anaconda3\\envs\\AI_project\\python.exe\n"
     ]
    }
   ],
   "source": [
    "import sys\n",
    "print(sys.executable)\n",
    "\n",
    "\n"
   ]
  },
  {
   "cell_type": "code",
   "execution_count": 40,
   "id": "75c90a7d-5da1-483e-bae3-efadce722ef7",
   "metadata": {},
   "outputs": [
    {
     "name": "stdout",
     "output_type": "stream",
     "text": [
      "Collecting scikeras\n",
      "  Downloading scikeras-0.13.0-py3-none-any.whl.metadata (3.1 kB)\n",
      "Requirement already satisfied: keras>=3.2.0 in c:\\users\\johanna\\anaconda3\\envs\\ai_project\\lib\\site-packages (from scikeras) (3.11.3)\n",
      "Requirement already satisfied: scikit-learn>=1.4.2 in c:\\users\\johanna\\anaconda3\\envs\\ai_project\\lib\\site-packages (from scikeras) (1.4.2)\n",
      "Requirement already satisfied: absl-py in c:\\users\\johanna\\anaconda3\\envs\\ai_project\\lib\\site-packages (from keras>=3.2.0->scikeras) (2.3.1)\n",
      "Requirement already satisfied: numpy in c:\\users\\johanna\\anaconda3\\envs\\ai_project\\lib\\site-packages (from keras>=3.2.0->scikeras) (1.26.4)\n",
      "Requirement already satisfied: rich in c:\\users\\johanna\\anaconda3\\envs\\ai_project\\lib\\site-packages (from keras>=3.2.0->scikeras) (14.1.0)\n",
      "Requirement already satisfied: namex in c:\\users\\johanna\\anaconda3\\envs\\ai_project\\lib\\site-packages (from keras>=3.2.0->scikeras) (0.1.0)\n",
      "Requirement already satisfied: h5py in c:\\users\\johanna\\anaconda3\\envs\\ai_project\\lib\\site-packages (from keras>=3.2.0->scikeras) (3.14.0)\n",
      "Requirement already satisfied: optree in c:\\users\\johanna\\anaconda3\\envs\\ai_project\\lib\\site-packages (from keras>=3.2.0->scikeras) (0.17.0)\n",
      "Requirement already satisfied: ml-dtypes in c:\\users\\johanna\\anaconda3\\envs\\ai_project\\lib\\site-packages (from keras>=3.2.0->scikeras) (0.5.3)\n",
      "Requirement already satisfied: packaging in c:\\users\\johanna\\anaconda3\\envs\\ai_project\\lib\\site-packages (from keras>=3.2.0->scikeras) (25.0)\n",
      "Requirement already satisfied: scipy>=1.6.0 in c:\\users\\johanna\\anaconda3\\envs\\ai_project\\lib\\site-packages (from scikit-learn>=1.4.2->scikeras) (1.16.2)\n",
      "Requirement already satisfied: joblib>=1.2.0 in c:\\users\\johanna\\anaconda3\\envs\\ai_project\\lib\\site-packages (from scikit-learn>=1.4.2->scikeras) (1.5.2)\n",
      "Requirement already satisfied: threadpoolctl>=2.0.0 in c:\\users\\johanna\\anaconda3\\envs\\ai_project\\lib\\site-packages (from scikit-learn>=1.4.2->scikeras) (3.6.0)\n",
      "Requirement already satisfied: typing-extensions>=4.6.0 in c:\\users\\johanna\\anaconda3\\envs\\ai_project\\lib\\site-packages (from optree->keras>=3.2.0->scikeras) (4.15.0)\n",
      "Requirement already satisfied: markdown-it-py>=2.2.0 in c:\\users\\johanna\\anaconda3\\envs\\ai_project\\lib\\site-packages (from rich->keras>=3.2.0->scikeras) (4.0.0)\n",
      "Requirement already satisfied: pygments<3.0.0,>=2.13.0 in c:\\users\\johanna\\anaconda3\\envs\\ai_project\\lib\\site-packages (from rich->keras>=3.2.0->scikeras) (2.19.1)\n",
      "Requirement already satisfied: mdurl~=0.1 in c:\\users\\johanna\\anaconda3\\envs\\ai_project\\lib\\site-packages (from markdown-it-py>=2.2.0->rich->keras>=3.2.0->scikeras) (0.1.2)\n",
      "Downloading scikeras-0.13.0-py3-none-any.whl (26 kB)\n",
      "Installing collected packages: scikeras\n",
      "Successfully installed scikeras-0.13.0\n"
     ]
    }
   ],
   "source": [
    "!pip install scikeras"
   ]
  },
  {
   "cell_type": "code",
   "execution_count": 52,
   "id": "41a6217c-7087-4837-8f49-17e63cf13968",
   "metadata": {},
   "outputs": [],
   "source": [
    "import pandas as pd\n",
    "import numpy as np\n",
    "from tensorflow.keras.models import Sequential\n",
    "from tensorflow.keras.layers import LSTM, Dense\n",
    "from sklearn.metrics import mean_squared_error, mean_absolute_error,r2_score\n",
    "from sklearn.model_selection import GridSearchCV, train_test_split, RandomizedSearchCV\n",
    "from xgboost import XGBRegressor\n",
    "from tensorflow.keras.layers import  Dropout\n",
    "from sklearn.preprocessing import StandardScaler\n",
    "from tensorflow.keras.callbacks import EarlyStopping, ReduceLROnPlateau, ModelCheckpoint\n",
    "from scikeras.wrappers import KerasRegressor\n",
    "from tensorflow.keras.optimizers import Adam\n",
    "from keras.models import load_model\n",
    "from tensorflow.keras.layers import Input\n"
   ]
  },
  {
   "cell_type": "code",
   "execution_count": 4,
   "id": "aabf74bb-a1c9-4222-a454-9b31c8d8a0a1",
   "metadata": {},
   "outputs": [],
   "source": [
    "df_lagged_all = pd.read_parquet(\"data/processed/df_lagged_all.parquet\")\n",
    "df_2_full = pd.read_parquet(\"data/processed/df_2_full_v2.parquet\")\n",
    "df_all=pd.read_parquet(\"data/processed/df_all.parquet\")\n",
    "\n"
   ]
  },
  {
   "cell_type": "code",
   "execution_count": 5,
   "id": "ac797839-78ec-4f39-b417-f351d8b13d83",
   "metadata": {},
   "outputs": [],
   "source": [
    "target_sensor = 1076\n",
    "same_portal=\"55620\"\n",
    "neighbour_portal = \"56160\"\n",
    "\n",
    "same_portal_sensors = df_2_full[df_2_full['PORTAL_clean'] == same_portal]['DP_ID'].unique()\n",
    "same_sensors = [s for s in same_portal_sensors if s != target_sensor]\n",
    "\n",
    "\n",
    "neighbour_sensors = df_2_full[df_2_full['PORTAL_clean'] == neighbour_portal]['DP_ID'].unique()\n",
    "all_sensors=df_2_full['DP_ID'].unique()\n",
    "except_target_sensors = [s for s in all_sensors if s != target_sensor]\n",
    "\n",
    "\n"
   ]
  },
  {
   "cell_type": "code",
   "execution_count": 6,
   "id": "3c27edb9-8c27-4658-8c63-b99c6a27ac71",
   "metadata": {},
   "outputs": [],
   "source": [
    "\n",
    "\n",
    "flow_features_same = [\n",
    "    f'SENSOR_{sensor}_FLOW_lag_{i+1}'\n",
    "    for sensor in same_sensors\n",
    "    for i in range(15)\n",
    "]\n",
    "flow_features_neighbour = [\n",
    "    f'SENSOR_{sensor}_FLOW_lag_{i+1}'\n",
    "    for sensor in neighbour_sensors\n",
    "    for i in range(15)\n",
    "]\n",
    "speed_features_same = [\n",
    "    f'SENSOR_{sensor}_SPEED_lag_{i+1}'\n",
    "    for sensor in same_sensors\n",
    "    for i in range(15)\n",
    "]\n",
    "speed_features_neighbour = [\n",
    "    f'SENSOR_{sensor}_SPEED_lag_{i+1}'\n",
    "    for sensor in neighbour_sensors\n",
    "    for i in range(15)\n",
    "]        "
   ]
  },
  {
   "cell_type": "markdown",
   "id": "b2466b25-b0cf-45cb-b70b-70174bae1b91",
   "metadata": {},
   "source": [
    "xgb-boost : hyperparameter tuning"
   ]
  },
  {
   "cell_type": "code",
   "execution_count": 10,
   "id": "a65de289-ff0f-4bbc-bca0-7a623f17634c",
   "metadata": {},
   "outputs": [],
   "source": [
    "df_train, df_test = train_test_split(df_lagged_all, test_size=0.2, random_state=42)\n",
    "\n",
    "#split_time = df_2_full['Datetime'].quantile(0.8)\n",
    "#print(split_time)\n",
    "\n",
    "#df_train = df_lagged_all[df_lagged_all['Datetime'] <= split_time]\n",
    "#df_test = df_lagged_all[df_lagged_all['Datetime'] > split_time]\n"
   ]
  },
  {
   "cell_type": "code",
   "execution_count": null,
   "id": "f1cf3a3b-e25d-425b-bd55-9a52baf9e12e",
   "metadata": {},
   "outputs": [],
   "source": [
    "param_grid = {\n",
    "    \"n_estimators\": [100, 200, 300],\n",
    "    \"max_depth\": [3, 5, 7],\n",
    "    \"learning_rate\": [0.001,0.005,0.01, 0.05],\n",
    "    \"subsample\": [0.6, 0.8, 1.0],\n",
    "    \"colsample_bytree\": [0.6, 0.8, 1.0]\n",
    "}\n"
   ]
  },
  {
   "cell_type": "code",
   "execution_count": 18,
   "id": "b359e1cf-6971-4402-8351-98cabfaa939b",
   "metadata": {},
   "outputs": [
    {
     "name": "stdout",
     "output_type": "stream",
     "text": [
      "Fitting 3 folds for each of 30 candidates, totalling 90 fits\n",
      "Beste Parameter (FLOW): {'subsample': 0.8, 'n_estimators': 100, 'max_depth': 7, 'learning_rate': 0.05, 'colsample_bytree': 0.8}\n",
      "XGBoost Regression (FLOW) -> RMSE: 28.452, MAE: 20.456, R²: 0.882\n",
      "Fitting 3 folds for each of 30 candidates, totalling 90 fits\n"
     ]
    },
    {
     "name": "stderr",
     "output_type": "stream",
     "text": [
      "C:\\Users\\Johanna\\anaconda3\\envs\\AI_project\\Lib\\site-packages\\sklearn\\metrics\\_regression.py:483: FutureWarning: 'squared' is deprecated in version 1.4 and will be removed in 1.6. To calculate the root mean squared error, use the function'root_mean_squared_error'.\n",
      "  warnings.warn(\n"
     ]
    },
    {
     "name": "stdout",
     "output_type": "stream",
     "text": [
      "Beste Parameter (FLOW): {'subsample': 0.8, 'n_estimators': 100, 'max_depth': 7, 'learning_rate': 0.05, 'colsample_bytree': 1.0}\n",
      "XGBoost Regression (SPEED) -> RMSE: 0.813, MAE: 0.398, R²: 0.740\n"
     ]
    },
    {
     "name": "stderr",
     "output_type": "stream",
     "text": [
      "C:\\Users\\Johanna\\anaconda3\\envs\\AI_project\\Lib\\site-packages\\sklearn\\metrics\\_regression.py:483: FutureWarning: 'squared' is deprecated in version 1.4 and will be removed in 1.6. To calculate the root mean squared error, use the function'root_mean_squared_error'.\n",
      "  warnings.warn(\n"
     ]
    }
   ],
   "source": [
    "\n",
    "\n",
    "random_search_flow = RandomizedSearchCV(\n",
    "    estimator=XGBRegressor(random_state=42),\n",
    "    param_distributions=param_grid,\n",
    "    n_iter=30,  # Anzahl zufälliger Kombinationen\n",
    "    scoring=\"neg_root_mean_squared_error\",\n",
    "    cv=3,\n",
    "    verbose=2,\n",
    "    n_jobs=-2\n",
    ")\n",
    "\n",
    "random_search_flow.fit(df_train[flow_features_same], df_train[\"FLOW_future_sum\"])\n",
    "print(\"Beste Parameter (FLOW):\", random_search_flow.best_params_)\n",
    "model_flow = random_search_flow.best_estimator_\n",
    "y_pred = model_flow.predict(df_test[flow_features_same])\n",
    "y_test = df_test['FLOW_future_sum']\n",
    "\n",
    "rmse = mean_squared_error(y_test, y_pred, squared=False)\n",
    "mae = mean_absolute_error(y_test, y_pred)\n",
    "r2 = r2_score(y_test, y_pred)\n",
    "\n",
    "print(f\"XGBoost Regression (FLOW) -> RMSE: {rmse:.3f}, MAE: {mae:.3f}, R²: {r2:.3f}\")\n",
    "\n",
    "\n",
    "random_search_speed = RandomizedSearchCV(\n",
    "    estimator=XGBRegressor(random_state=42),\n",
    "    param_distributions=param_grid,\n",
    "    n_iter=30,  # Anzahl zufälliger Kombinationen\n",
    "    scoring=\"neg_root_mean_squared_error\",\n",
    "    cv=3,\n",
    "    verbose=2,\n",
    "    n_jobs=-2\n",
    ")\n",
    "\n",
    "\n",
    "random_search_speed.fit(df_train[speed_features_same], df_train[\"SPEED_future_mean\"])\n",
    "print(\"Beste Parameter (FLOW):\", random_search_speed.best_params_)\n",
    "model_speed = random_search_speed.best_estimator_\n",
    "\n",
    "y_pred = model_speed.predict(df_test[speed_features_same])\n",
    "y_test = df_test['SPEED_future_mean']\n",
    "\n",
    "rmse = mean_squared_error(y_test, y_pred, squared=False)\n",
    "mae = mean_absolute_error(y_test, y_pred)\n",
    "r2 = r2_score(y_test, y_pred)\n",
    "\n",
    "print(f\"XGBoost Regression (SPEED) -> RMSE: {rmse:.3f}, MAE: {mae:.3f}, R²: {r2:.3f}\")"
   ]
  },
  {
   "cell_type": "code",
   "execution_count": 19,
   "id": "8c16d6f1-4dd1-4fac-a0d5-19846c3a7caa",
   "metadata": {},
   "outputs": [
    {
     "name": "stdout",
     "output_type": "stream",
     "text": [
      "Fitting 3 folds for each of 30 candidates, totalling 90 fits\n",
      "Beste Parameter (FLOW): {'subsample': 0.8, 'n_estimators': 200, 'max_depth': 7, 'learning_rate': 0.05, 'colsample_bytree': 0.6}\n",
      "XGBoost Regression (FLOW) -> RMSE: 24.096, MAE: 16.871, R²: 0.915\n",
      "Fitting 3 folds for each of 30 candidates, totalling 90 fits\n"
     ]
    },
    {
     "name": "stderr",
     "output_type": "stream",
     "text": [
      "C:\\Users\\Johanna\\anaconda3\\envs\\AI_project\\Lib\\site-packages\\sklearn\\metrics\\_regression.py:483: FutureWarning: 'squared' is deprecated in version 1.4 and will be removed in 1.6. To calculate the root mean squared error, use the function'root_mean_squared_error'.\n",
      "  warnings.warn(\n"
     ]
    },
    {
     "name": "stdout",
     "output_type": "stream",
     "text": [
      "Beste Parameter (FLOW): {'subsample': 0.6, 'n_estimators': 100, 'max_depth': 7, 'learning_rate': 0.05, 'colsample_bytree': 0.6}\n",
      "XGBoost Regression (SPEED) -> RMSE: 0.934, MAE: 0.421, R²: 0.657\n"
     ]
    },
    {
     "name": "stderr",
     "output_type": "stream",
     "text": [
      "C:\\Users\\Johanna\\anaconda3\\envs\\AI_project\\Lib\\site-packages\\sklearn\\metrics\\_regression.py:483: FutureWarning: 'squared' is deprecated in version 1.4 and will be removed in 1.6. To calculate the root mean squared error, use the function'root_mean_squared_error'.\n",
      "  warnings.warn(\n"
     ]
    }
   ],
   "source": [
    "#neighbour portal\n",
    "\n",
    "random_search_flow = RandomizedSearchCV(\n",
    "    estimator=XGBRegressor(random_state=42),\n",
    "    param_distributions=param_grid,\n",
    "    n_iter=30,  # Anzahl zufälliger Kombinationen\n",
    "    scoring=\"neg_root_mean_squared_error\",\n",
    "    cv=3,\n",
    "    verbose=2,\n",
    "    n_jobs=-2\n",
    ")\n",
    "\n",
    "random_search_flow.fit(df_train[flow_features_neighbour], df_train[\"FLOW_future_sum\"])\n",
    "print(\"Beste Parameter (FLOW):\", random_search_flow.best_params_)\n",
    "model_flow = random_search_flow.best_estimator_\n",
    "y_pred = model_flow.predict(df_test[flow_features_neighbour])\n",
    "y_test = df_test['FLOW_future_sum']\n",
    "\n",
    "rmse = mean_squared_error(y_test, y_pred, squared=False)\n",
    "mae = mean_absolute_error(y_test, y_pred)\n",
    "r2 = r2_score(y_test, y_pred)\n",
    "\n",
    "print(f\"XGBoost Regression (FLOW) -> RMSE: {rmse:.3f}, MAE: {mae:.3f}, R²: {r2:.3f}\")\n",
    "\n",
    "\n",
    "random_search_speed = RandomizedSearchCV(\n",
    "    estimator=XGBRegressor(random_state=42),\n",
    "    param_distributions=param_grid,\n",
    "    n_iter=30,  # Anzahl zufälliger Kombinationen\n",
    "    scoring=\"neg_root_mean_squared_error\",\n",
    "    cv=3,\n",
    "    verbose=2,\n",
    "    n_jobs=-2\n",
    ")\n",
    "\n",
    "\n",
    "random_search_speed.fit(df_train[speed_features_neighbour], df_train[\"SPEED_future_mean\"])\n",
    "print(\"Beste Parameter (FLOW):\", random_search_speed.best_params_)\n",
    "model_speed = random_search_speed.best_estimator_\n",
    "\n",
    "y_pred = model_speed.predict(df_test[speed_features_neighbour])\n",
    "y_test = df_test['SPEED_future_mean']\n",
    "\n",
    "rmse = mean_squared_error(y_test, y_pred, squared=False)\n",
    "mae = mean_absolute_error(y_test, y_pred)\n",
    "r2 = r2_score(y_test, y_pred)\n",
    "\n",
    "print(f\"XGBoost Regression (SPEED) -> RMSE: {rmse:.3f}, MAE: {mae:.3f}, R²: {r2:.3f}\")"
   ]
  },
  {
   "cell_type": "markdown",
   "id": "0f597a15-b86d-4f1f-9416-95e166f15ad4",
   "metadata": {},
   "source": [
    "Feedforward Neural Network (NN)"
   ]
  },
  {
   "cell_type": "code",
   "execution_count": 42,
   "id": "b8ca1684-15c4-4658-b733-77b9618c820a",
   "metadata": {},
   "outputs": [],
   "source": [
    " def construct_network_model(layer_sizes,dropout_rate,input_dim,learning_rate):\n",
    "  # Create a Sequential model, which is a linear stack of layers.\n",
    "  model = Sequential()\n",
    "  model.add(Input(shape=(input_dim,)))\n",
    "  for size in layer_sizes:\n",
    "        model.add(Dense(size, activation='relu'))\n",
    "        if dropout_rate > 0:\n",
    "            model.add(Dropout(dropout_rate))\n",
    "  model.add(Dense(1))  # Regression\n",
    "  optimizer = Adam(learning_rate=learning_rate)\n",
    "  model.compile(optimizer=optimizer, loss='mae', metrics=['mae'])\n",
    "  return model"
   ]
  },
  {
   "cell_type": "code",
   "execution_count": 43,
   "id": "770e6df0-3513-4d4a-8f5e-8bea1040e430",
   "metadata": {},
   "outputs": [],
   "source": [
    "early_stop = EarlyStopping(monitor='val_mae', patience=5, restore_best_weights=True)\n",
    "reduce_lr = ReduceLROnPlateau(monitor='val_mae', factor=0.5, patience=3)\n"
   ]
  },
  {
   "cell_type": "code",
   "execution_count": 44,
   "id": "d8fc99cb-1230-4fbc-985b-b3a35f625597",
   "metadata": {},
   "outputs": [],
   "source": [
    "param_dist = {\n",
    "    \"model__learning_rate\": [0.0005, 0.001, 0.005],\n",
    "    \"batch_size\": [32, 64],\n",
    "    \"epochs\": [200],\n",
    "    \"model__layer_sizes\": [\n",
    "        [128, 64, 32],\n",
    "        [64, 32],\n",
    "        [64, 64],\n",
    "        [256, 128, 64],\n",
    "        [32, 32, 32],\n",
    "        [128, 128]\n",
    "    ],\n",
    "    \"model__dropout_rate\": [0.0, 0.2, 0.3, 0.5]\n",
    "}\n",
    "\n"
   ]
  },
  {
   "cell_type": "code",
   "execution_count": 55,
   "id": "1dc0affd-ec89-402c-86c1-ca212271e65e",
   "metadata": {},
   "outputs": [
    {
     "name": "stdout",
     "output_type": "stream",
     "text": [
      "Fitting 2 folds for each of 10 candidates, totalling 20 fits\n",
      "[CV] END batch_size=32, epochs=200, model__dropout_rate=0.5, model__layer_sizes=[128, 128], model__learning_rate=0.0005; total time= 2.8min\n",
      "[CV] END batch_size=32, epochs=200, model__dropout_rate=0.5, model__layer_sizes=[128, 128], model__learning_rate=0.0005; total time= 2.8min\n",
      "[CV] END batch_size=64, epochs=200, model__dropout_rate=0.5, model__layer_sizes=[128, 64, 32], model__learning_rate=0.001; total time= 1.6min\n",
      "[CV] END batch_size=64, epochs=200, model__dropout_rate=0.5, model__layer_sizes=[128, 64, 32], model__learning_rate=0.001; total time= 1.7min\n",
      "[CV] END batch_size=32, epochs=200, model__dropout_rate=0.2, model__layer_sizes=[256, 128, 64], model__learning_rate=0.005; total time= 3.3min\n",
      "[CV] END batch_size=32, epochs=200, model__dropout_rate=0.2, model__layer_sizes=[256, 128, 64], model__learning_rate=0.005; total time= 3.2min\n",
      "[CV] END batch_size=32, epochs=200, model__dropout_rate=0.0, model__layer_sizes=[32, 32, 32], model__learning_rate=0.005; total time= 2.5min\n",
      "[CV] END batch_size=32, epochs=200, model__dropout_rate=0.0, model__layer_sizes=[32, 32, 32], model__learning_rate=0.005; total time= 2.5min\n",
      "[CV] END batch_size=32, epochs=200, model__dropout_rate=0.2, model__layer_sizes=[64, 64], model__learning_rate=0.001; total time= 2.5min\n",
      "[CV] END batch_size=32, epochs=200, model__dropout_rate=0.2, model__layer_sizes=[64, 64], model__learning_rate=0.001; total time= 2.6min\n",
      "[CV] END batch_size=64, epochs=200, model__dropout_rate=0.3, model__layer_sizes=[256, 128, 64], model__learning_rate=0.0005; total time= 1.9min\n",
      "[CV] END batch_size=64, epochs=200, model__dropout_rate=0.3, model__layer_sizes=[256, 128, 64], model__learning_rate=0.0005; total time= 1.9min\n",
      "[CV] END batch_size=64, epochs=200, model__dropout_rate=0.5, model__layer_sizes=[256, 128, 64], model__learning_rate=0.001; total time= 2.1min\n",
      "[CV] END batch_size=64, epochs=200, model__dropout_rate=0.5, model__layer_sizes=[256, 128, 64], model__learning_rate=0.001; total time= 1.9min\n",
      "[CV] END batch_size=32, epochs=200, model__dropout_rate=0.5, model__layer_sizes=[128, 64, 32], model__learning_rate=0.0005; total time= 2.9min\n",
      "[CV] END batch_size=32, epochs=200, model__dropout_rate=0.5, model__layer_sizes=[128, 64, 32], model__learning_rate=0.0005; total time= 3.0min\n",
      "[CV] END batch_size=32, epochs=200, model__dropout_rate=0.5, model__layer_sizes=[32, 32, 32], model__learning_rate=0.0005; total time= 2.9min\n",
      "[CV] END batch_size=32, epochs=200, model__dropout_rate=0.5, model__layer_sizes=[32, 32, 32], model__learning_rate=0.0005; total time= 3.3min\n",
      "[CV] END batch_size=64, epochs=200, model__dropout_rate=0.2, model__layer_sizes=[32, 32, 32], model__learning_rate=0.0005; total time= 1.7min\n",
      "[CV] END batch_size=64, epochs=200, model__dropout_rate=0.2, model__layer_sizes=[32, 32, 32], model__learning_rate=0.0005; total time= 1.8min\n"
     ]
    }
   ],
   "source": [
    "scaler = StandardScaler()\n",
    "X_train_scaled = scaler.fit_transform(df_train[flow_features_same])\n",
    "X_test_scaled  = scaler.transform(df_test[flow_features_same])\n",
    "y_train = df_train[\"FLOW_future_sum\"]\n",
    "y_test = df_test[\"FLOW_future_sum\"]\n",
    "\n",
    "\n",
    "\n",
    "model_flow = KerasRegressor(\n",
    "    model=construct_network_model,\n",
    "    input_dim=X_train_scaled.shape[1],\n",
    "    verbose=0\n",
    ")\n",
    "\n",
    "#checkpoint = ModelCheckpoint(\"model/randomsearch_same_flow.keras\", monitor='val_mae', verbose=1, save_best_only=True, mode='min')\n",
    "callbacks = [early_stop, reduce_lr]#, checkpoint]\n",
    "\n",
    "random_search_flow = RandomizedSearchCV(\n",
    "    estimator=model_flow,\n",
    "    param_distributions=param_dist,\n",
    "    n_iter=10,  \n",
    "    cv=2,\n",
    "    scoring='neg_mean_absolute_error',\n",
    "    verbose=2,\n",
    "    n_jobs=1\n",
    ")\n",
    "\n",
    "random_search_flow.fit(\n",
    "    X_train_scaled, y_train,\n",
    "    validation_split=0.2,\n",
    "    callbacks=[early_stop]\n",
    ")\n",
    "\n",
    "# Bestes Modell speichern\n",
    "random_search_flow.best_estimator_.model_.save(\"model/randomsearch_same_flow.keras\")"
   ]
  },
  {
   "cell_type": "code",
   "execution_count": 56,
   "id": "9510c5bf-0598-42f9-abb4-2fd4aca2c748",
   "metadata": {},
   "outputs": [
    {
     "name": "stdout",
     "output_type": "stream",
     "text": [
      "\u001b[1m457/457\u001b[0m \u001b[32m━━━━━━━━━━━━━━━━━━━━\u001b[0m\u001b[37m\u001b[0m \u001b[1m0s\u001b[0m 614us/step\n",
      "Fast forward NN (FLOW) -> RMSE: 29.521, MAE: 20.533, R²: 0.873\n"
     ]
    },
    {
     "name": "stderr",
     "output_type": "stream",
     "text": [
      "C:\\Users\\Johanna\\anaconda3\\envs\\AI_project\\Lib\\site-packages\\sklearn\\metrics\\_regression.py:483: FutureWarning: 'squared' is deprecated in version 1.4 and will be removed in 1.6. To calculate the root mean squared error, use the function'root_mean_squared_error'.\n",
      "  warnings.warn(\n"
     ]
    }
   ],
   "source": [
    "y_pred=random_search_flow.best_estimator_.model_.predict(X_test_scaled)\n",
    "rmse = mean_squared_error(y_test, y_pred, squared=False)\n",
    "mae  = mean_absolute_error(y_test, y_pred)\n",
    "r2   = r2_score(y_test, y_pred)\n",
    "\n",
    "print(f\"Fast forward NN (FLOW) -> RMSE: {rmse:.3f}, MAE: {mae:.3f}, R²: {r2:.3f}\")\n"
   ]
  },
  {
   "cell_type": "code",
   "execution_count": null,
   "id": "8c2fd18d-ac98-4171-8b43-1061fc12254b",
   "metadata": {},
   "outputs": [],
   "source": [
    "scaler = StandardScaler()\n",
    "X_train_scaled = scaler.fit_transform(df_train[speed_features_same])\n",
    "X_test_scaled  = scaler.transform(df_test[speed_features_same])\n",
    "y_train = df_train[\"SPEED_future_mean\"]\n",
    "y_test = df_test[\"SPEED_future_mean\"]\n",
    "\n",
    "\n",
    "\n",
    "model_speed = KerasRegressor(\n",
    "    model=construct_network_model,\n",
    "    input_dim=X_train_scaled.shape[1],\n",
    "    verbose=0\n",
    ")\n",
    "\n",
    "#checkpoint = ModelCheckpoint(\"model/randomsearch_same_flow.keras\", monitor='val_mae', verbose=1, save_best_only=True, mode='min')\n",
    "callbacks = [early_stop, reduce_lr]#, checkpoint]\n",
    "\n",
    "random_search_speed = RandomizedSearchCV(\n",
    "    estimator=model_speed,\n",
    "    param_distributions=param_dist,\n",
    "    n_iter=10,  \n",
    "    scoring='neg_mean_absolute_error',\n",
    "    verbose=2,\n",
    "    n_jobs=4\n",
    ")\n",
    "\n",
    "random_search_speed.fit(\n",
    "    X_train_scaled, y_train,\n",
    "    validation_split=0.2,\n",
    "    callbacks=[early_stop]\n",
    ")\n",
    "\n",
    "# Bestes Modell speichern\n",
    "random_search_speed.best_estimator_.model_.save(\"model/randomsearch_same_speed.keras\")"
   ]
  },
  {
   "cell_type": "code",
   "execution_count": 33,
   "id": "14177efa-8919-49c5-9c1c-5b69343236dc",
   "metadata": {},
   "outputs": [
    {
     "name": "stderr",
     "output_type": "stream",
     "text": [
      "C:\\Users\\Johanna\\anaconda3\\envs\\AI_project\\Lib\\site-packages\\keras\\src\\layers\\core\\dense.py:92: UserWarning: Do not pass an `input_shape`/`input_dim` argument to a layer. When using Sequential models, prefer using an `Input(shape)` object as the first layer in the model instead.\n",
      "  super().__init__(activity_regularizer=activity_regularizer, **kwargs)\n"
     ]
    },
    {
     "name": "stdout",
     "output_type": "stream",
     "text": [
      "\u001b[1m457/457\u001b[0m \u001b[32m━━━━━━━━━━━━━━━━━━━━\u001b[0m\u001b[37m\u001b[0m \u001b[1m0s\u001b[0m 553us/step\n",
      "Fast forward NN (FLOW) -> RMSE: 29.420, MAE: 20.936, R²: 0.874\n"
     ]
    },
    {
     "name": "stderr",
     "output_type": "stream",
     "text": [
      "C:\\Users\\Johanna\\anaconda3\\envs\\AI_project\\Lib\\site-packages\\sklearn\\metrics\\_regression.py:483: FutureWarning: 'squared' is deprecated in version 1.4 and will be removed in 1.6. To calculate the root mean squared error, use the function'root_mean_squared_error'.\n",
      "  warnings.warn(\n",
      "C:\\Users\\Johanna\\anaconda3\\envs\\AI_project\\Lib\\site-packages\\keras\\src\\layers\\core\\dense.py:92: UserWarning: Do not pass an `input_shape`/`input_dim` argument to a layer. When using Sequential models, prefer using an `Input(shape)` object as the first layer in the model instead.\n",
      "  super().__init__(activity_regularizer=activity_regularizer, **kwargs)\n"
     ]
    },
    {
     "name": "stdout",
     "output_type": "stream",
     "text": [
      "\u001b[1m457/457\u001b[0m \u001b[32m━━━━━━━━━━━━━━━━━━━━\u001b[0m\u001b[37m\u001b[0m \u001b[1m0s\u001b[0m 549us/step\n",
      "Fast forward NN (SPEED) -> RMSE: 0.806, MAE: 0.411, R²: 0.744\n"
     ]
    },
    {
     "name": "stderr",
     "output_type": "stream",
     "text": [
      "C:\\Users\\Johanna\\anaconda3\\envs\\AI_project\\Lib\\site-packages\\sklearn\\metrics\\_regression.py:483: FutureWarning: 'squared' is deprecated in version 1.4 and will be removed in 1.6. To calculate the root mean squared error, use the function'root_mean_squared_error'.\n",
      "  warnings.warn(\n"
     ]
    }
   ],
   "source": [
    "\n",
    "scaler = StandardScaler()\n",
    "X_train_scaled = scaler.fit_transform(df_train[flow_features_same])\n",
    "X_test_scaled  = scaler.transform(df_test[flow_features_same])\n",
    "\n",
    "\n",
    "model_flow= Sequential([\n",
    "    Dense(64, activation='relu', input_shape=(X_train_scaled.shape[1],)),  # Eingabeschicht\n",
    "    Dense(32, activation='relu'),                                           # Versteckte Schicht\n",
    "    Dense(16, activation='relu'),                                           # Weitere versteckte Schicht\n",
    "    Dense(1)                                                                 # Ausgangsschicht für Regression\n",
    "])\n",
    "\n",
    "model_flow.compile(optimizer='adam', loss='mse', metrics=['mae'])\n",
    "\n",
    "\n",
    "history_flow = model_flow.fit(\n",
    "    X_train_scaled, df_train[\"FLOW_future_sum\"],\n",
    "    validation_split=0.2,  # 20% der Trainingsdaten für Validierung\n",
    "    epochs=50,\n",
    "    batch_size=32,\n",
    "    verbose=0\n",
    ")\n",
    "\n",
    "\n",
    "\n",
    "y_pred = model_flow.predict(X_test_scaled)\n",
    "y_test=df_test[\"FLOW_future_sum\"]\n",
    "\n",
    "rmse = mean_squared_error(y_test, y_pred, squared=False)\n",
    "mae  = mean_absolute_error(y_test, y_pred)\n",
    "r2   = r2_score(y_test, y_pred)\n",
    "\n",
    "print(f\"Fast forward NN (FLOW) -> RMSE: {rmse:.3f}, MAE: {mae:.3f}, R²: {r2:.3f}\")\n",
    "\n",
    "\n",
    "scaler = StandardScaler()\n",
    "X_train_scaled = scaler.fit_transform(df_train[speed_features_same])\n",
    "X_test_scaled  = scaler.transform(df_test[speed_features_same])\n",
    "\n",
    "model_speed = Sequential([\n",
    "    Dense(64, activation='relu', input_shape=(X_train_scaled.shape[1],)),  # Eingabeschicht\n",
    "    Dense(32, activation='relu'),                                           # Versteckte Schicht\n",
    "    Dense(16, activation='relu'),                                           # Weitere versteckte Schicht\n",
    "    Dense(1)                                                                 # Ausgangsschicht für Regression\n",
    "])\n",
    "\n",
    "model_speed.compile(optimizer='adam', loss='mse', metrics=['mae'])\n",
    "\n",
    "\n",
    "history_speed = model_speed.fit(\n",
    "    X_train_scaled, df_train[\"SPEED_future_mean\"],\n",
    "    validation_split=0.2,  # 20% der Trainingsdaten für Validierung\n",
    "    epochs=50,\n",
    "    batch_size=32,\n",
    "    verbose=0\n",
    ")\n",
    "\n",
    "\n",
    "y_pred = model_speed.predict(X_test_scaled)\n",
    "y_test=df_test[\"SPEED_future_mean\"]\n",
    "rmse = mean_squared_error(y_test, y_pred, squared=False)\n",
    "mae  = mean_absolute_error(y_test, y_pred)\n",
    "r2   = r2_score(y_test, y_pred)\n",
    "\n",
    "print(f\"Fast forward NN (SPEED) -> RMSE: {rmse:.3f}, MAE: {mae:.3f}, R²: {r2:.3f}\")\n",
    "\n"
   ]
  },
  {
   "cell_type": "code",
   "execution_count": 32,
   "id": "ca849db4-1240-4f02-947c-5ea3869862ac",
   "metadata": {},
   "outputs": [
    {
     "name": "stderr",
     "output_type": "stream",
     "text": [
      "C:\\Users\\Johanna\\anaconda3\\envs\\AI_project\\Lib\\site-packages\\keras\\src\\layers\\core\\dense.py:92: UserWarning: Do not pass an `input_shape`/`input_dim` argument to a layer. When using Sequential models, prefer using an `Input(shape)` object as the first layer in the model instead.\n",
      "  super().__init__(activity_regularizer=activity_regularizer, **kwargs)\n"
     ]
    },
    {
     "name": "stdout",
     "output_type": "stream",
     "text": [
      "\u001b[1m457/457\u001b[0m \u001b[32m━━━━━━━━━━━━━━━━━━━━\u001b[0m\u001b[37m\u001b[0m \u001b[1m0s\u001b[0m 555us/step\n",
      "Fast forward NN (FLOW) -> RMSE: 25.049, MAE: 18.017, R²: 0.908\n"
     ]
    },
    {
     "name": "stderr",
     "output_type": "stream",
     "text": [
      "C:\\Users\\Johanna\\anaconda3\\envs\\AI_project\\Lib\\site-packages\\sklearn\\metrics\\_regression.py:483: FutureWarning: 'squared' is deprecated in version 1.4 and will be removed in 1.6. To calculate the root mean squared error, use the function'root_mean_squared_error'.\n",
      "  warnings.warn(\n",
      "C:\\Users\\Johanna\\anaconda3\\envs\\AI_project\\Lib\\site-packages\\keras\\src\\layers\\core\\dense.py:92: UserWarning: Do not pass an `input_shape`/`input_dim` argument to a layer. When using Sequential models, prefer using an `Input(shape)` object as the first layer in the model instead.\n",
      "  super().__init__(activity_regularizer=activity_regularizer, **kwargs)\n"
     ]
    },
    {
     "name": "stdout",
     "output_type": "stream",
     "text": [
      "\u001b[1m457/457\u001b[0m \u001b[32m━━━━━━━━━━━━━━━━━━━━\u001b[0m\u001b[37m\u001b[0m \u001b[1m0s\u001b[0m 546us/step\n",
      "Fast forward NN (SPEED) -> RMSE: 0.988, MAE: 0.472, R²: 0.616\n"
     ]
    },
    {
     "name": "stderr",
     "output_type": "stream",
     "text": [
      "C:\\Users\\Johanna\\anaconda3\\envs\\AI_project\\Lib\\site-packages\\sklearn\\metrics\\_regression.py:483: FutureWarning: 'squared' is deprecated in version 1.4 and will be removed in 1.6. To calculate the root mean squared error, use the function'root_mean_squared_error'.\n",
      "  warnings.warn(\n"
     ]
    }
   ],
   "source": [
    "\n",
    "scaler = StandardScaler()\n",
    "X_train_scaled = scaler.fit_transform(df_train[flow_features_neighbour])\n",
    "X_test_scaled  = scaler.transform(df_test[flow_features_neighbour])\n",
    "\n",
    "\n",
    "model_flow= Sequential([\n",
    "    Dense(64, activation='relu', input_shape=(X_train_scaled.shape[1],)),  # Eingabeschicht\n",
    "    Dense(32, activation='relu'),                                           # Versteckte Schicht\n",
    "    Dense(16, activation='relu'),                                           # Weitere versteckte Schicht\n",
    "    Dense(1)                                                                 # Ausgangsschicht für Regression\n",
    "])\n",
    "\n",
    "model_flow.compile(optimizer='adam', loss='mse', metrics=['mae'])\n",
    "\n",
    "\n",
    "history_flow = model_flow.fit(\n",
    "    X_train_scaled, df_train[\"FLOW_future_sum\"],\n",
    "    validation_split=0.2,  # 20% der Trainingsdaten für Validierung\n",
    "    epochs=50,\n",
    "    batch_size=32,\n",
    "    verbose=0\n",
    ")\n",
    "\n",
    "\n",
    "\n",
    "y_pred = model_flow.predict(X_test_scaled)\n",
    "y_test=df_test[\"FLOW_future_sum\"]\n",
    "\n",
    "rmse = mean_squared_error(y_test, y_pred, squared=False)\n",
    "mae  = mean_absolute_error(y_test, y_pred)\n",
    "r2   = r2_score(y_test, y_pred)\n",
    "\n",
    "print(f\"Fast forward NN (FLOW) -> RMSE: {rmse:.3f}, MAE: {mae:.3f}, R²: {r2:.3f}\")\n",
    "\n",
    "\n",
    "scaler = StandardScaler()\n",
    "X_train_scaled = scaler.fit_transform(df_train[speed_features_neighbour])\n",
    "X_test_scaled  = scaler.transform(df_test[speed_features_neighbour])\n",
    "\n",
    "model_speed = Sequential([\n",
    "    Dense(64, activation='relu', input_shape=(X_train_scaled.shape[1],)),  # Eingabeschicht\n",
    "    Dense(32, activation='relu'),                                           # Versteckte Schicht\n",
    "    Dense(16, activation='relu'),                                           # Weitere versteckte Schicht\n",
    "    Dense(1)                                                                 # Ausgangsschicht für Regression\n",
    "])\n",
    "\n",
    "model_speed.compile(optimizer='adam', loss='mse', metrics=['mae'])\n",
    "\n",
    "\n",
    "history_speed = model_speed.fit(\n",
    "    X_train_scaled, df_train[\"SPEED_future_mean\"],\n",
    "    validation_split=0.2,  # 20% der Trainingsdaten für Validierung\n",
    "    epochs=50,\n",
    "    batch_size=32,\n",
    "    verbose=0\n",
    ")\n",
    "\n",
    "\n",
    "y_pred = model_speed.predict(X_test_scaled)\n",
    "y_test=df_test[\"SPEED_future_mean\"]\n",
    "rmse = mean_squared_error(y_test, y_pred, squared=False)\n",
    "mae  = mean_absolute_error(y_test, y_pred)\n",
    "r2   = r2_score(y_test, y_pred)\n",
    "\n",
    "print(f\"Fast forward NN (SPEED) -> RMSE: {rmse:.3f}, MAE: {mae:.3f}, R²: {r2:.3f}\")\n",
    "\n"
   ]
  },
  {
   "cell_type": "markdown",
   "id": "1d41bb8c-c0c6-4c9c-b240-9daeaac404bc",
   "metadata": {},
   "source": [
    "LSTM"
   ]
  },
  {
   "cell_type": "code",
   "execution_count": 34,
   "id": "b908c02c-d444-49fa-8820-dc973651104e",
   "metadata": {},
   "outputs": [],
   "source": [
    "def create_sequences(X, y, seq_length=15, horizon=15):\n",
    "    Xs, ys = [], []\n",
    "    for i in range(len(X) - seq_length - horizon + 1):\n",
    "        Xs.append(X[i:i+seq_length])\n",
    "        ys.append(y[i+seq_length:i+seq_length+horizon])\n",
    "    return np.array(Xs), np.array(ys)\n"
   ]
  },
  {
   "cell_type": "code",
   "execution_count": 35,
   "id": "65d84553-3e22-40d2-b77c-50fbab086b49",
   "metadata": {},
   "outputs": [],
   "source": [
    "\n",
    "\n",
    "X = df_lagged_all[flow_features_neighbour].values\n",
    "y = df_lagged_all['FLOW_filled'].values\n",
    "\n",
    "\n",
    "X_seq, y_seq = create_sequences(X, y, seq_length=15, horizon=15)\n"
   ]
  },
  {
   "cell_type": "code",
   "execution_count": 36,
   "id": "201fcd02-866e-47db-afec-c7f09e80d521",
   "metadata": {},
   "outputs": [
    {
     "name": "stderr",
     "output_type": "stream",
     "text": [
      "C:\\Users\\Johanna\\anaconda3\\envs\\AI_project\\Lib\\site-packages\\keras\\src\\layers\\rnn\\rnn.py:199: UserWarning: Do not pass an `input_shape`/`input_dim` argument to a layer. When using Sequential models, prefer using an `Input(shape)` object as the first layer in the model instead.\n",
      "  super().__init__(**kwargs)\n"
     ]
    }
   ],
   "source": [
    "n_features = X_seq.shape[2]\n",
    "\n",
    "model = Sequential([\n",
    "    LSTM(64, activation='tanh', input_shape=(15, n_features)),\n",
    "    Dense(15)  # 15 Output-Werte für 15-Minuten-Vorhersage\n",
    "])\n",
    "\n",
    "model.compile(optimizer='adam', loss='mse', metrics=['mae'])\n"
   ]
  },
  {
   "cell_type": "code",
   "execution_count": 37,
   "id": "10bef158-00e8-4da8-970e-219f1c8638cb",
   "metadata": {},
   "outputs": [
    {
     "name": "stdout",
     "output_type": "stream",
     "text": [
      "Epoch 1/20\n",
      "\u001b[1m1642/1642\u001b[0m \u001b[32m━━━━━━━━━━━━━━━━━━━━\u001b[0m\u001b[37m\u001b[0m \u001b[1m7s\u001b[0m 4ms/step - loss: 32.1948 - mae: 4.1489 - val_loss: 20.3755 - val_mae: 3.3618\n",
      "Epoch 2/20\n",
      "\u001b[1m1642/1642\u001b[0m \u001b[32m━━━━━━━━━━━━━━━━━━━━\u001b[0m\u001b[37m\u001b[0m \u001b[1m6s\u001b[0m 4ms/step - loss: 17.0597 - mae: 3.1468 - val_loss: 19.8722 - val_mae: 3.2647\n",
      "Epoch 3/20\n",
      "\u001b[1m1642/1642\u001b[0m \u001b[32m━━━━━━━━━━━━━━━━━━━━\u001b[0m\u001b[37m\u001b[0m \u001b[1m6s\u001b[0m 3ms/step - loss: 16.9467 - mae: 3.1308 - val_loss: 19.8680 - val_mae: 3.2506\n",
      "Epoch 4/20\n",
      "\u001b[1m1642/1642\u001b[0m \u001b[32m━━━━━━━━━━━━━━━━━━━━\u001b[0m\u001b[37m\u001b[0m \u001b[1m6s\u001b[0m 3ms/step - loss: 16.9074 - mae: 3.1260 - val_loss: 20.0148 - val_mae: 3.2685\n",
      "Epoch 5/20\n",
      "\u001b[1m1642/1642\u001b[0m \u001b[32m━━━━━━━━━━━━━━━━━━━━\u001b[0m\u001b[37m\u001b[0m \u001b[1m6s\u001b[0m 4ms/step - loss: 16.8527 - mae: 3.1213 - val_loss: 19.7370 - val_mae: 3.2497\n",
      "Epoch 6/20\n",
      "\u001b[1m1642/1642\u001b[0m \u001b[32m━━━━━━━━━━━━━━━━━━━━\u001b[0m\u001b[37m\u001b[0m \u001b[1m6s\u001b[0m 3ms/step - loss: 16.7988 - mae: 3.1159 - val_loss: 19.8592 - val_mae: 3.2885\n",
      "Epoch 7/20\n",
      "\u001b[1m1642/1642\u001b[0m \u001b[32m━━━━━━━━━━━━━━━━━━━━\u001b[0m\u001b[37m\u001b[0m \u001b[1m6s\u001b[0m 4ms/step - loss: 16.7502 - mae: 3.1085 - val_loss: 19.6280 - val_mae: 3.2491\n",
      "Epoch 8/20\n",
      "\u001b[1m1642/1642\u001b[0m \u001b[32m━━━━━━━━━━━━━━━━━━━━\u001b[0m\u001b[37m\u001b[0m \u001b[1m6s\u001b[0m 4ms/step - loss: 16.7225 - mae: 3.1058 - val_loss: 19.9907 - val_mae: 3.2482\n",
      "Epoch 9/20\n",
      "\u001b[1m1642/1642\u001b[0m \u001b[32m━━━━━━━━━━━━━━━━━━━━\u001b[0m\u001b[37m\u001b[0m \u001b[1m6s\u001b[0m 4ms/step - loss: 16.6914 - mae: 3.1016 - val_loss: 19.6436 - val_mae: 3.2333\n",
      "Epoch 10/20\n",
      "\u001b[1m1642/1642\u001b[0m \u001b[32m━━━━━━━━━━━━━━━━━━━━\u001b[0m\u001b[37m\u001b[0m \u001b[1m7s\u001b[0m 4ms/step - loss: 16.6153 - mae: 3.0903 - val_loss: 19.3966 - val_mae: 3.2041\n",
      "Epoch 11/20\n",
      "\u001b[1m1642/1642\u001b[0m \u001b[32m━━━━━━━━━━━━━━━━━━━━\u001b[0m\u001b[37m\u001b[0m \u001b[1m6s\u001b[0m 4ms/step - loss: 16.5828 - mae: 3.0848 - val_loss: 19.4465 - val_mae: 3.2088\n",
      "Epoch 12/20\n",
      "\u001b[1m1642/1642\u001b[0m \u001b[32m━━━━━━━━━━━━━━━━━━━━\u001b[0m\u001b[37m\u001b[0m \u001b[1m6s\u001b[0m 4ms/step - loss: 16.5990 - mae: 3.0878 - val_loss: 19.3226 - val_mae: 3.1992\n",
      "Epoch 13/20\n",
      "\u001b[1m1642/1642\u001b[0m \u001b[32m━━━━━━━━━━━━━━━━━━━━\u001b[0m\u001b[37m\u001b[0m \u001b[1m6s\u001b[0m 4ms/step - loss: 16.5201 - mae: 3.0791 - val_loss: 19.5793 - val_mae: 3.2083\n",
      "Epoch 14/20\n",
      "\u001b[1m1642/1642\u001b[0m \u001b[32m━━━━━━━━━━━━━━━━━━━━\u001b[0m\u001b[37m\u001b[0m \u001b[1m6s\u001b[0m 4ms/step - loss: 16.5441 - mae: 3.0820 - val_loss: 19.8114 - val_mae: 3.2486\n",
      "Epoch 15/20\n",
      "\u001b[1m1642/1642\u001b[0m \u001b[32m━━━━━━━━━━━━━━━━━━━━\u001b[0m\u001b[37m\u001b[0m \u001b[1m6s\u001b[0m 4ms/step - loss: 16.5635 - mae: 3.0874 - val_loss: 19.4961 - val_mae: 3.2077\n",
      "Epoch 16/20\n",
      "\u001b[1m1642/1642\u001b[0m \u001b[32m━━━━━━━━━━━━━━━━━━━━\u001b[0m\u001b[37m\u001b[0m \u001b[1m6s\u001b[0m 4ms/step - loss: 16.5508 - mae: 3.0877 - val_loss: 19.7068 - val_mae: 3.2500\n",
      "Epoch 17/20\n",
      "\u001b[1m1642/1642\u001b[0m \u001b[32m━━━━━━━━━━━━━━━━━━━━\u001b[0m\u001b[37m\u001b[0m \u001b[1m6s\u001b[0m 3ms/step - loss: 16.5306 - mae: 3.0841 - val_loss: 19.5261 - val_mae: 3.2065\n",
      "Epoch 18/20\n",
      "\u001b[1m1642/1642\u001b[0m \u001b[32m━━━━━━━━━━━━━━━━━━━━\u001b[0m\u001b[37m\u001b[0m \u001b[1m6s\u001b[0m 4ms/step - loss: 16.4957 - mae: 3.0813 - val_loss: 19.9824 - val_mae: 3.2938\n",
      "Epoch 19/20\n",
      "\u001b[1m1642/1642\u001b[0m \u001b[32m━━━━━━━━━━━━━━━━━━━━\u001b[0m\u001b[37m\u001b[0m \u001b[1m6s\u001b[0m 3ms/step - loss: 16.4873 - mae: 3.0803 - val_loss: 19.3499 - val_mae: 3.1876\n",
      "Epoch 20/20\n",
      "\u001b[1m1642/1642\u001b[0m \u001b[32m━━━━━━━━━━━━━━━━━━━━\u001b[0m\u001b[37m\u001b[0m \u001b[1m6s\u001b[0m 3ms/step - loss: 16.4568 - mae: 3.0763 - val_loss: 19.5225 - val_mae: 3.2146\n",
      "\u001b[1m457/457\u001b[0m \u001b[32m━━━━━━━━━━━━━━━━━━━━\u001b[0m\u001b[37m\u001b[0m \u001b[1m1s\u001b[0m 2ms/step\n"
     ]
    }
   ],
   "source": [
    "split = int(len(X_seq) * 0.8)\n",
    "X_train, X_test = X_seq[:split], X_seq[split:]\n",
    "y_train, y_test = y_seq[:split], y_seq[split:]\n",
    "\n",
    "model.fit(X_train, y_train, epochs=20, batch_size=32, validation_split=0.1,verbose=1)\n",
    "\n",
    "\n",
    "y_pred = model.predict(X_test)\n",
    "\n",
    "\n"
   ]
  },
  {
   "cell_type": "code",
   "execution_count": 38,
   "id": "8f1d00d5-fbab-4589-a70d-baa3b4ef175d",
   "metadata": {},
   "outputs": [
    {
     "name": "stdout",
     "output_type": "stream",
     "text": [
      "LSTM (FLOW) -> RMSE: 3.994, MAE: 2.911, R2: 0.633\n",
      "LSTM Sum Forecast (FLOW) → RMSE: 36.944, MAE: 22.799, R²: 0.820\n"
     ]
    },
    {
     "name": "stderr",
     "output_type": "stream",
     "text": [
      "C:\\Users\\Johanna\\anaconda3\\envs\\AI_project\\Lib\\site-packages\\sklearn\\metrics\\_regression.py:483: FutureWarning: 'squared' is deprecated in version 1.4 and will be removed in 1.6. To calculate the root mean squared error, use the function'root_mean_squared_error'.\n",
      "  warnings.warn(\n",
      "C:\\Users\\Johanna\\anaconda3\\envs\\AI_project\\Lib\\site-packages\\sklearn\\metrics\\_regression.py:483: FutureWarning: 'squared' is deprecated in version 1.4 and will be removed in 1.6. To calculate the root mean squared error, use the function'root_mean_squared_error'.\n",
      "  warnings.warn(\n"
     ]
    }
   ],
   "source": [
    "rmse = mean_squared_error(y_test, y_pred, squared=False)\n",
    "mae = mean_absolute_error(y_test, y_pred)\n",
    "r2 = r2_score(y_test, y_pred)\n",
    "\n",
    "print(f\"LSTM (FLOW) -> RMSE: {rmse:.3f}, MAE: {mae:.3f}, R2: {r2:.3f}\")\n",
    "\n",
    "y_test_sum = y_test.sum(axis=1)\n",
    "y_pred_sum = y_pred.sum(axis=1)\n",
    "\n",
    "# Metriken berechnen\n",
    "rmse = mean_squared_error(y_test_sum, y_pred_sum, squared=False)\n",
    "mae = mean_absolute_error(y_test_sum, y_pred_sum)\n",
    "r2 = r2_score(y_test_sum, y_pred_sum)\n",
    "\n",
    "print(f\"LSTM Sum Forecast (FLOW) → RMSE: {rmse:.3f}, MAE: {mae:.3f}, R²: {r2:.3f}\")"
   ]
  },
  {
   "cell_type": "code",
   "execution_count": null,
   "id": "c7aeb5b2-c985-47cb-9599-d777b013feaf",
   "metadata": {},
   "outputs": [],
   "source": []
  }
 ],
 "metadata": {
  "kernelspec": {
   "display_name": "Python 3 (ipykernel)",
   "language": "python",
   "name": "python3"
  },
  "language_info": {
   "codemirror_mode": {
    "name": "ipython",
    "version": 3
   },
   "file_extension": ".py",
   "mimetype": "text/x-python",
   "name": "python",
   "nbconvert_exporter": "python",
   "pygments_lexer": "ipython3",
   "version": "3.12.11"
  }
 },
 "nbformat": 4,
 "nbformat_minor": 5
}
