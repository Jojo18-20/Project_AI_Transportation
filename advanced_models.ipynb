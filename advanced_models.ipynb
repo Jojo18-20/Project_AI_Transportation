{
 "cells": [
  {
   "cell_type": "code",
   "execution_count": 1,
   "id": "7768fd51-9f7b-4fd1-89f7-ce9bb3043009",
   "metadata": {},
   "outputs": [
    {
     "name": "stdout",
     "output_type": "stream",
     "text": [
      "C:\\Users\\Johanna\\anaconda3\\envs\\AI_project\\python.exe\n"
     ]
    }
   ],
   "source": [
    "import sys\n",
    "print(sys.executable)\n",
    "\n",
    "\n"
   ]
  },
  {
   "cell_type": "code",
   "execution_count": 19,
   "id": "41a6217c-7087-4837-8f49-17e63cf13968",
   "metadata": {},
   "outputs": [],
   "source": [
    "import pandas as pd\n",
    "import numpy as np\n",
    "from tensorflow.keras.models import Sequential\n",
    "from tensorflow.keras.layers import LSTM, Dense\n",
    "from sklearn.metrics import mean_squared_error, mean_absolute_error,r2_score\n"
   ]
  },
  {
   "cell_type": "code",
   "execution_count": 4,
   "id": "aabf74bb-a1c9-4222-a454-9b31c8d8a0a1",
   "metadata": {},
   "outputs": [],
   "source": [
    "df_lagged_all = pd.read_parquet(\"data/processed/df_lagged_all.parquet\")\n",
    "df_2_full = pd.read_parquet(\"data/processed/df_2_full_v2.parquet\")\n",
    "\n",
    "\n"
   ]
  },
  {
   "cell_type": "code",
   "execution_count": 5,
   "id": "ac797839-78ec-4f39-b417-f351d8b13d83",
   "metadata": {},
   "outputs": [],
   "source": [
    "target_sensor = 1076\n",
    "same_portal=\"55620\"\n",
    "neighbour_portal = \"56160\"\n",
    "\n",
    "same_portal_sensors = df_2_full[df_2_full['PORTAL_clean'] == same_portal]['DP_ID'].unique()\n",
    "same_sensors = [s for s in same_portal_sensors if s != target_sensor]\n",
    "\n",
    "\n",
    "neighbour_sensors = df_2_full[df_2_full['PORTAL_clean'] == neighbour_portal]['DP_ID'].unique()\n",
    "all_sensors=df_2_full['DP_ID'].unique()\n",
    "except_target_sensors = [s for s in all_sensors if s != target_sensor]\n",
    "\n",
    "\n"
   ]
  },
  {
   "cell_type": "code",
   "execution_count": 6,
   "id": "3c27edb9-8c27-4658-8c63-b99c6a27ac71",
   "metadata": {},
   "outputs": [],
   "source": [
    "flow_features_neighbour = [\n",
    "    f'SENSOR_{sensor}_FLOW_lag_{i+1}'\n",
    "    for sensor in neighbour_sensors\n",
    "    for i in range(15)\n",
    "]"
   ]
  },
  {
   "cell_type": "code",
   "execution_count": 7,
   "id": "b908c02c-d444-49fa-8820-dc973651104e",
   "metadata": {},
   "outputs": [],
   "source": [
    "def create_sequences(X, y, seq_length=15, horizon=15):\n",
    "    Xs, ys = [], []\n",
    "    for i in range(len(X) - seq_length - horizon + 1):\n",
    "        Xs.append(X[i:i+seq_length])\n",
    "        ys.append(y[i+seq_length:i+seq_length+horizon])\n",
    "    return np.array(Xs), np.array(ys)\n"
   ]
  },
  {
   "cell_type": "code",
   "execution_count": 10,
   "id": "65d84553-3e22-40d2-b77c-50fbab086b49",
   "metadata": {},
   "outputs": [],
   "source": [
    "\n",
    "\n",
    "X = df_lagged_all[flow_features_neighbour].values\n",
    "y = df_lagged_all['FLOW_filled'].values\n",
    "\n",
    "\n",
    "X_seq, y_seq = create_sequences(X, y, seq_length=15, horizon=15)\n"
   ]
  },
  {
   "cell_type": "code",
   "execution_count": 11,
   "id": "201fcd02-866e-47db-afec-c7f09e80d521",
   "metadata": {},
   "outputs": [
    {
     "name": "stderr",
     "output_type": "stream",
     "text": [
      "C:\\Users\\Johanna\\anaconda3\\envs\\AI_project\\Lib\\site-packages\\keras\\src\\layers\\rnn\\rnn.py:199: UserWarning: Do not pass an `input_shape`/`input_dim` argument to a layer. When using Sequential models, prefer using an `Input(shape)` object as the first layer in the model instead.\n",
      "  super().__init__(**kwargs)\n"
     ]
    }
   ],
   "source": [
    "n_features = X_seq.shape[2]\n",
    "\n",
    "model = Sequential([\n",
    "    LSTM(64, activation='tanh', input_shape=(15, n_features)),\n",
    "    Dense(15)  # 15 Output-Werte für 15-Minuten-Vorhersage\n",
    "])\n",
    "\n",
    "model.compile(optimizer='adam', loss='mse', metrics=['mae'])\n"
   ]
  },
  {
   "cell_type": "code",
   "execution_count": 15,
   "id": "10bef158-00e8-4da8-970e-219f1c8638cb",
   "metadata": {},
   "outputs": [
    {
     "name": "stdout",
     "output_type": "stream",
     "text": [
      "Epoch 1/20\n",
      "\u001b[1m1642/1642\u001b[0m \u001b[32m━━━━━━━━━━━━━━━━━━━━\u001b[0m\u001b[37m\u001b[0m \u001b[1m14s\u001b[0m 8ms/step - loss: 16.1822 - mae: 3.0382 - val_loss: 19.1656 - val_mae: 3.2000\n",
      "Epoch 2/20\n",
      "\u001b[1m1642/1642\u001b[0m \u001b[32m━━━━━━━━━━━━━━━━━━━━\u001b[0m\u001b[37m\u001b[0m \u001b[1m14s\u001b[0m 8ms/step - loss: 16.1800 - mae: 3.0370 - val_loss: 19.5491 - val_mae: 3.2230\n",
      "Epoch 3/20\n",
      "\u001b[1m1642/1642\u001b[0m \u001b[32m━━━━━━━━━━━━━━━━━━━━\u001b[0m\u001b[37m\u001b[0m \u001b[1m14s\u001b[0m 8ms/step - loss: 16.1676 - mae: 3.0373 - val_loss: 19.3715 - val_mae: 3.2295\n",
      "Epoch 4/20\n",
      "\u001b[1m1642/1642\u001b[0m \u001b[32m━━━━━━━━━━━━━━━━━━━━\u001b[0m\u001b[37m\u001b[0m \u001b[1m14s\u001b[0m 8ms/step - loss: 16.1596 - mae: 3.0352 - val_loss: 19.4853 - val_mae: 3.2318\n",
      "Epoch 5/20\n",
      "\u001b[1m1642/1642\u001b[0m \u001b[32m━━━━━━━━━━━━━━━━━━━━\u001b[0m\u001b[37m\u001b[0m \u001b[1m20s\u001b[0m 8ms/step - loss: 16.1458 - mae: 3.0351 - val_loss: 19.3683 - val_mae: 3.2075\n",
      "Epoch 6/20\n",
      "\u001b[1m1642/1642\u001b[0m \u001b[32m━━━━━━━━━━━━━━━━━━━━\u001b[0m\u001b[37m\u001b[0m \u001b[1m14s\u001b[0m 8ms/step - loss: 16.1282 - mae: 3.0324 - val_loss: 19.3993 - val_mae: 3.2288\n",
      "Epoch 7/20\n",
      "\u001b[1m1642/1642\u001b[0m \u001b[32m━━━━━━━━━━━━━━━━━━━━\u001b[0m\u001b[37m\u001b[0m \u001b[1m14s\u001b[0m 8ms/step - loss: 16.1214 - mae: 3.0308 - val_loss: 19.4030 - val_mae: 3.2125\n",
      "Epoch 8/20\n",
      "\u001b[1m1642/1642\u001b[0m \u001b[32m━━━━━━━━━━━━━━━━━━━━\u001b[0m\u001b[37m\u001b[0m \u001b[1m14s\u001b[0m 9ms/step - loss: 16.1265 - mae: 3.0323 - val_loss: 19.5075 - val_mae: 3.2273\n",
      "Epoch 9/20\n",
      "\u001b[1m1642/1642\u001b[0m \u001b[32m━━━━━━━━━━━━━━━━━━━━\u001b[0m\u001b[37m\u001b[0m \u001b[1m14s\u001b[0m 9ms/step - loss: 16.1301 - mae: 3.0321 - val_loss: 19.4661 - val_mae: 3.2280\n",
      "Epoch 10/20\n",
      "\u001b[1m1642/1642\u001b[0m \u001b[32m━━━━━━━━━━━━━━━━━━━━\u001b[0m\u001b[37m\u001b[0m \u001b[1m14s\u001b[0m 8ms/step - loss: 16.1175 - mae: 3.0315 - val_loss: 19.8159 - val_mae: 3.2716\n",
      "Epoch 11/20\n",
      "\u001b[1m1642/1642\u001b[0m \u001b[32m━━━━━━━━━━━━━━━━━━━━\u001b[0m\u001b[37m\u001b[0m \u001b[1m14s\u001b[0m 9ms/step - loss: 16.0989 - mae: 3.0293 - val_loss: 19.4773 - val_mae: 3.2432\n",
      "Epoch 12/20\n",
      "\u001b[1m1642/1642\u001b[0m \u001b[32m━━━━━━━━━━━━━━━━━━━━\u001b[0m\u001b[37m\u001b[0m \u001b[1m21s\u001b[0m 9ms/step - loss: 16.0963 - mae: 3.0295 - val_loss: 19.3209 - val_mae: 3.2088\n",
      "Epoch 13/20\n",
      "\u001b[1m1642/1642\u001b[0m \u001b[32m━━━━━━━━━━━━━━━━━━━━\u001b[0m\u001b[37m\u001b[0m \u001b[1m14s\u001b[0m 9ms/step - loss: 16.1086 - mae: 3.0310 - val_loss: 19.4504 - val_mae: 3.2271\n",
      "Epoch 14/20\n",
      "\u001b[1m1642/1642\u001b[0m \u001b[32m━━━━━━━━━━━━━━━━━━━━\u001b[0m\u001b[37m\u001b[0m \u001b[1m14s\u001b[0m 9ms/step - loss: 16.0980 - mae: 3.0305 - val_loss: 19.6667 - val_mae: 3.2983\n",
      "Epoch 15/20\n",
      "\u001b[1m1642/1642\u001b[0m \u001b[32m━━━━━━━━━━━━━━━━━━━━\u001b[0m\u001b[37m\u001b[0m \u001b[1m14s\u001b[0m 9ms/step - loss: 16.1088 - mae: 3.0308 - val_loss: 19.3331 - val_mae: 3.2246\n",
      "Epoch 16/20\n",
      "\u001b[1m1642/1642\u001b[0m \u001b[32m━━━━━━━━━━━━━━━━━━━━\u001b[0m\u001b[37m\u001b[0m \u001b[1m21s\u001b[0m 9ms/step - loss: 16.0904 - mae: 3.0285 - val_loss: 19.5120 - val_mae: 3.2352\n",
      "Epoch 17/20\n",
      "\u001b[1m1642/1642\u001b[0m \u001b[32m━━━━━━━━━━━━━━━━━━━━\u001b[0m\u001b[37m\u001b[0m \u001b[1m14s\u001b[0m 8ms/step - loss: 16.0604 - mae: 3.0244 - val_loss: 19.5089 - val_mae: 3.2466\n",
      "Epoch 18/20\n",
      "\u001b[1m1642/1642\u001b[0m \u001b[32m━━━━━━━━━━━━━━━━━━━━\u001b[0m\u001b[37m\u001b[0m \u001b[1m14s\u001b[0m 9ms/step - loss: 16.1197 - mae: 3.0366 - val_loss: 19.3515 - val_mae: 3.2146\n",
      "Epoch 19/20\n",
      "\u001b[1m1642/1642\u001b[0m \u001b[32m━━━━━━━━━━━━━━━━━━━━\u001b[0m\u001b[37m\u001b[0m \u001b[1m15s\u001b[0m 9ms/step - loss: 16.1019 - mae: 3.0328 - val_loss: 19.3840 - val_mae: 3.2264\n",
      "Epoch 20/20\n",
      "\u001b[1m1642/1642\u001b[0m \u001b[32m━━━━━━━━━━━━━━━━━━━━\u001b[0m\u001b[37m\u001b[0m \u001b[1m14s\u001b[0m 8ms/step - loss: 16.1012 - mae: 3.0327 - val_loss: 19.5224 - val_mae: 3.2339\n",
      "\u001b[1m457/457\u001b[0m \u001b[32m━━━━━━━━━━━━━━━━━━━━\u001b[0m\u001b[37m\u001b[0m \u001b[1m3s\u001b[0m 5ms/step\n"
     ]
    },
    {
     "ename": "NameError",
     "evalue": "name 'mean_squared_error' is not defined",
     "output_type": "error",
     "traceback": [
      "\u001b[31m---------------------------------------------------------------------------\u001b[39m",
      "\u001b[31mNameError\u001b[39m                                 Traceback (most recent call last)",
      "\u001b[36mCell\u001b[39m\u001b[36m \u001b[39m\u001b[32mIn[15]\u001b[39m\u001b[32m, line 11\u001b[39m\n\u001b[32m      5\u001b[39m model.fit(X_train, y_train, epochs=\u001b[32m20\u001b[39m, batch_size=\u001b[32m32\u001b[39m, validation_split=\u001b[32m0.1\u001b[39m,verbose=\u001b[32m1\u001b[39m)\n\u001b[32m      8\u001b[39m y_pred = model.predict(X_test)\n\u001b[32m---> \u001b[39m\u001b[32m11\u001b[39m rmse = \u001b[43mmean_squared_error\u001b[49m(y_test, y_pred, squared=\u001b[38;5;28;01mFalse\u001b[39;00m)\n\u001b[32m     12\u001b[39m mae = mean_absolute_error(y_test, y_pred)\n\u001b[32m     13\u001b[39m r2 = r2_score(y_test, y_pred)\n",
      "\u001b[31mNameError\u001b[39m: name 'mean_squared_error' is not defined"
     ]
    }
   ],
   "source": [
    "split = int(len(X_seq) * 0.8)\n",
    "X_train, X_test = X_seq[:split], X_seq[split:]\n",
    "y_train, y_test = y_seq[:split], y_seq[split:]\n",
    "\n",
    "model.fit(X_train, y_train, epochs=20, batch_size=32, validation_split=0.1,verbose=1)\n",
    "\n",
    "\n",
    "y_pred = model.predict(X_test)\n",
    "\n",
    "\n"
   ]
  },
  {
   "cell_type": "code",
   "execution_count": 21,
   "id": "8f1d00d5-fbab-4589-a70d-baa3b4ef175d",
   "metadata": {},
   "outputs": [
    {
     "name": "stdout",
     "output_type": "stream",
     "text": [
      "LSTM (FLOW) -> RMSE: 4.012, MAE: 2.941, R2: 0.630\n",
      "LSTM Sum Forecast (FLOW) → RMSE: 37.275, MAE: 23.493, R²: 0.817\n"
     ]
    },
    {
     "name": "stderr",
     "output_type": "stream",
     "text": [
      "C:\\Users\\Johanna\\anaconda3\\envs\\AI_project\\Lib\\site-packages\\sklearn\\metrics\\_regression.py:483: FutureWarning: 'squared' is deprecated in version 1.4 and will be removed in 1.6. To calculate the root mean squared error, use the function'root_mean_squared_error'.\n",
      "  warnings.warn(\n",
      "C:\\Users\\Johanna\\anaconda3\\envs\\AI_project\\Lib\\site-packages\\sklearn\\metrics\\_regression.py:483: FutureWarning: 'squared' is deprecated in version 1.4 and will be removed in 1.6. To calculate the root mean squared error, use the function'root_mean_squared_error'.\n",
      "  warnings.warn(\n"
     ]
    }
   ],
   "source": [
    "rmse = mean_squared_error(y_test, y_pred, squared=False)\n",
    "mae = mean_absolute_error(y_test, y_pred)\n",
    "r2 = r2_score(y_test, y_pred)\n",
    "\n",
    "print(f\"LSTM (FLOW) -> RMSE: {rmse:.3f}, MAE: {mae:.3f}, R2: {r2:.3f}\")\n",
    "\n",
    "y_test_sum = y_test.sum(axis=1)\n",
    "y_pred_sum = y_pred.sum(axis=1)\n",
    "\n",
    "# Metriken berechnen\n",
    "rmse = mean_squared_error(y_test_sum, y_pred_sum, squared=False)\n",
    "mae = mean_absolute_error(y_test_sum, y_pred_sum)\n",
    "r2 = r2_score(y_test_sum, y_pred_sum)\n",
    "\n",
    "print(f\"LSTM Sum Forecast (FLOW) → RMSE: {rmse:.3f}, MAE: {mae:.3f}, R²: {r2:.3f}\")"
   ]
  },
  {
   "cell_type": "code",
   "execution_count": null,
   "id": "c7aeb5b2-c985-47cb-9599-d777b013feaf",
   "metadata": {},
   "outputs": [],
   "source": []
  }
 ],
 "metadata": {
  "kernelspec": {
   "display_name": "Python 3 (ipykernel)",
   "language": "python",
   "name": "python3"
  },
  "language_info": {
   "codemirror_mode": {
    "name": "ipython",
    "version": 3
   },
   "file_extension": ".py",
   "mimetype": "text/x-python",
   "name": "python",
   "nbconvert_exporter": "python",
   "pygments_lexer": "ipython3",
   "version": "3.12.11"
  }
 },
 "nbformat": 4,
 "nbformat_minor": 5
}
