{
 "cells": [
  {
   "cell_type": "code",
   "execution_count": 230,
   "id": "97cd5493-ef1c-4113-9cf0-31242894922f",
   "metadata": {},
   "outputs": [
    {
     "name": "stdout",
     "output_type": "stream",
     "text": [
      "C:\\Users\\Johanna\\anaconda3\\envs\\AI_project\\python.exe\n"
     ]
    }
   ],
   "source": [
    "import sys\n",
    "print(sys.executable)\n",
    "#should be AI project\n"
   ]
  },
  {
   "cell_type": "code",
   "execution_count": 241,
   "id": "a1449d30-c708-4d89-b65b-366ba495c4b6",
   "metadata": {},
   "outputs": [],
   "source": [
    "import pandas as pd\n",
    "import numpy as np\n",
    "from sklearn.linear_model import LinearRegression\n",
    "from sklearn.model_selection import train_test_split\n",
    "from sklearn.metrics import mean_squared_error, mean_absolute_error,r2_score\n",
    "from functools import reduce\n",
    "from datetime import time\n",
    "import seaborn as sns\n"
   ]
  },
  {
   "cell_type": "code",
   "execution_count": 3,
   "id": "5051e93f-7679-4adc-abef-5e5412ac2bc3",
   "metadata": {},
   "outputs": [
    {
     "data": {
      "text/html": [
       "<div>\n",
       "<style scoped>\n",
       "    .dataframe tbody tr th:only-of-type {\n",
       "        vertical-align: middle;\n",
       "    }\n",
       "\n",
       "    .dataframe tbody tr th {\n",
       "        vertical-align: top;\n",
       "    }\n",
       "\n",
       "    .dataframe thead th {\n",
       "        text-align: right;\n",
       "    }\n",
       "</style>\n",
       "<table border=\"1\" class=\"dataframe\">\n",
       "  <thead>\n",
       "    <tr style=\"text-align: right;\">\n",
       "      <th></th>\n",
       "      <th>Datetime</th>\n",
       "      <th>DP_ID</th>\n",
       "      <th>PORTAL</th>\n",
       "      <th>Interval_1</th>\n",
       "      <th>Interval_5</th>\n",
       "      <th>Interval_15</th>\n",
       "      <th>Interval_30</th>\n",
       "      <th>Interval_60</th>\n",
       "      <th>SPEED_MS_AVG</th>\n",
       "      <th>FLOW</th>\n",
       "      <th>Time_only</th>\n",
       "      <th>Date_only</th>\n",
       "      <th>PORTAL_clean</th>\n",
       "      <th>SPEED_MS_AVG_filled</th>\n",
       "      <th>FLOW_filled</th>\n",
       "    </tr>\n",
       "  </thead>\n",
       "  <tbody>\n",
       "    <tr>\n",
       "      <th>0</th>\n",
       "      <td>2021-06-01 04:00:00</td>\n",
       "      <td>539</td>\n",
       "      <td>E4S 56,160</td>\n",
       "      <td>240</td>\n",
       "      <td>48</td>\n",
       "      <td>16</td>\n",
       "      <td>8</td>\n",
       "      <td>4</td>\n",
       "      <td>19.64</td>\n",
       "      <td>9.0</td>\n",
       "      <td>04:00:00</td>\n",
       "      <td>2021-06-01</td>\n",
       "      <td>56160</td>\n",
       "      <td>19.64</td>\n",
       "      <td>9.0</td>\n",
       "    </tr>\n",
       "    <tr>\n",
       "      <th>1</th>\n",
       "      <td>2021-06-01 04:00:00</td>\n",
       "      <td>536</td>\n",
       "      <td>E4S 56,160</td>\n",
       "      <td>240</td>\n",
       "      <td>48</td>\n",
       "      <td>16</td>\n",
       "      <td>8</td>\n",
       "      <td>4</td>\n",
       "      <td>28.35</td>\n",
       "      <td>2.0</td>\n",
       "      <td>04:00:00</td>\n",
       "      <td>2021-06-01</td>\n",
       "      <td>56160</td>\n",
       "      <td>28.35</td>\n",
       "      <td>2.0</td>\n",
       "    </tr>\n",
       "    <tr>\n",
       "      <th>2</th>\n",
       "      <td>2021-06-01 04:00:00</td>\n",
       "      <td>751</td>\n",
       "      <td>E4S 55,620</td>\n",
       "      <td>240</td>\n",
       "      <td>48</td>\n",
       "      <td>16</td>\n",
       "      <td>8</td>\n",
       "      <td>4</td>\n",
       "      <td>21.53</td>\n",
       "      <td>19.0</td>\n",
       "      <td>04:00:00</td>\n",
       "      <td>2021-06-01</td>\n",
       "      <td>55620</td>\n",
       "      <td>21.53</td>\n",
       "      <td>19.0</td>\n",
       "    </tr>\n",
       "    <tr>\n",
       "      <th>3</th>\n",
       "      <td>2021-06-01 04:00:00</td>\n",
       "      <td>740</td>\n",
       "      <td>E4S 56,160</td>\n",
       "      <td>240</td>\n",
       "      <td>48</td>\n",
       "      <td>16</td>\n",
       "      <td>8</td>\n",
       "      <td>4</td>\n",
       "      <td>21.99</td>\n",
       "      <td>17.0</td>\n",
       "      <td>04:00:00</td>\n",
       "      <td>2021-06-01</td>\n",
       "      <td>56160</td>\n",
       "      <td>21.99</td>\n",
       "      <td>17.0</td>\n",
       "    </tr>\n",
       "    <tr>\n",
       "      <th>4</th>\n",
       "      <td>2021-06-01 04:00:00</td>\n",
       "      <td>1254</td>\n",
       "      <td>E4S 55,620</td>\n",
       "      <td>240</td>\n",
       "      <td>48</td>\n",
       "      <td>16</td>\n",
       "      <td>8</td>\n",
       "      <td>4</td>\n",
       "      <td>24.53</td>\n",
       "      <td>4.0</td>\n",
       "      <td>04:00:00</td>\n",
       "      <td>2021-06-01</td>\n",
       "      <td>55620</td>\n",
       "      <td>24.53</td>\n",
       "      <td>4.0</td>\n",
       "    </tr>\n",
       "  </tbody>\n",
       "</table>\n",
       "</div>"
      ],
      "text/plain": [
       "             Datetime  DP_ID      PORTAL  Interval_1  Interval_5  Interval_15  \\\n",
       "0 2021-06-01 04:00:00    539  E4S 56,160         240          48           16   \n",
       "1 2021-06-01 04:00:00    536  E4S 56,160         240          48           16   \n",
       "2 2021-06-01 04:00:00    751  E4S 55,620         240          48           16   \n",
       "3 2021-06-01 04:00:00    740  E4S 56,160         240          48           16   \n",
       "4 2021-06-01 04:00:00   1254  E4S 55,620         240          48           16   \n",
       "\n",
       "   Interval_30  Interval_60  SPEED_MS_AVG  FLOW Time_only   Date_only  \\\n",
       "0            8            4         19.64   9.0  04:00:00  2021-06-01   \n",
       "1            8            4         28.35   2.0  04:00:00  2021-06-01   \n",
       "2            8            4         21.53  19.0  04:00:00  2021-06-01   \n",
       "3            8            4         21.99  17.0  04:00:00  2021-06-01   \n",
       "4            8            4         24.53   4.0  04:00:00  2021-06-01   \n",
       "\n",
       "  PORTAL_clean  SPEED_MS_AVG_filled  FLOW_filled  \n",
       "0        56160                19.64          9.0  \n",
       "1        56160                28.35          2.0  \n",
       "2        55620                21.53         19.0  \n",
       "3        56160                21.99         17.0  \n",
       "4        55620                24.53          4.0  "
      ]
     },
     "execution_count": 3,
     "metadata": {},
     "output_type": "execute_result"
    }
   ],
   "source": [
    "df_2_full = pd.read_parquet(\"data/processed/df_2_full_v2.parquet\")\n",
    "df_2_full.head()\n",
    "\n",
    "##otherwise\n",
    "#df_2_full = pd.read_csv(\"data/processed/df_2_full.csv\",sep=\";\", parse_dates=['Datetime'])\n",
    "#df_2_full['Time_only'] = df_2_full['Datetime'].dt.time\n",
    "#df_2_full['Date_only']=df_2_full['Datetime'].dt.date##\n",
    "#df_2_full.head()\n",
    "\n",
    "\n"
   ]
  },
  {
   "cell_type": "code",
   "execution_count": 231,
   "id": "9dca7d9a-9f36-4413-9f54-2929bdca3b58",
   "metadata": {},
   "outputs": [
    {
     "data": {
      "text/html": [
       "<div>\n",
       "<style scoped>\n",
       "    .dataframe tbody tr th:only-of-type {\n",
       "        vertical-align: middle;\n",
       "    }\n",
       "\n",
       "    .dataframe tbody tr th {\n",
       "        vertical-align: top;\n",
       "    }\n",
       "\n",
       "    .dataframe thead th {\n",
       "        text-align: right;\n",
       "    }\n",
       "</style>\n",
       "<table border=\"1\" class=\"dataframe\">\n",
       "  <thead>\n",
       "    <tr style=\"text-align: right;\">\n",
       "      <th></th>\n",
       "      <th>Datetime</th>\n",
       "      <th>SENSOR_539_FLOW</th>\n",
       "      <th>SENSOR_539_SPEED</th>\n",
       "      <th>SENSOR_536_FLOW</th>\n",
       "      <th>SENSOR_536_SPEED</th>\n",
       "      <th>SENSOR_751_FLOW</th>\n",
       "      <th>SENSOR_751_SPEED</th>\n",
       "      <th>SENSOR_740_FLOW</th>\n",
       "      <th>SENSOR_740_SPEED</th>\n",
       "      <th>SENSOR_1254_FLOW</th>\n",
       "      <th>SENSOR_1254_SPEED</th>\n",
       "      <th>SENSOR_1076_FLOW</th>\n",
       "      <th>SENSOR_1076_SPEED</th>\n",
       "    </tr>\n",
       "  </thead>\n",
       "  <tbody>\n",
       "    <tr>\n",
       "      <th>0</th>\n",
       "      <td>2021-06-01 04:00:00</td>\n",
       "      <td>9.0</td>\n",
       "      <td>19.64</td>\n",
       "      <td>2.0</td>\n",
       "      <td>28.35</td>\n",
       "      <td>19.0</td>\n",
       "      <td>21.53</td>\n",
       "      <td>17.0</td>\n",
       "      <td>21.99</td>\n",
       "      <td>4.0</td>\n",
       "      <td>24.53</td>\n",
       "      <td>6.0</td>\n",
       "      <td>20.27</td>\n",
       "    </tr>\n",
       "    <tr>\n",
       "      <th>1</th>\n",
       "      <td>2021-06-01 04:01:00</td>\n",
       "      <td>11.0</td>\n",
       "      <td>22.04</td>\n",
       "      <td>7.0</td>\n",
       "      <td>27.03</td>\n",
       "      <td>13.0</td>\n",
       "      <td>22.26</td>\n",
       "      <td>15.0</td>\n",
       "      <td>24.16</td>\n",
       "      <td>1.0</td>\n",
       "      <td>27.20</td>\n",
       "      <td>12.0</td>\n",
       "      <td>21.14</td>\n",
       "    </tr>\n",
       "    <tr>\n",
       "      <th>2</th>\n",
       "      <td>2021-06-01 04:02:00</td>\n",
       "      <td>12.0</td>\n",
       "      <td>21.40</td>\n",
       "      <td>10.0</td>\n",
       "      <td>24.17</td>\n",
       "      <td>18.0</td>\n",
       "      <td>20.97</td>\n",
       "      <td>20.0</td>\n",
       "      <td>23.27</td>\n",
       "      <td>7.0</td>\n",
       "      <td>22.80</td>\n",
       "      <td>13.0</td>\n",
       "      <td>21.72</td>\n",
       "    </tr>\n",
       "    <tr>\n",
       "      <th>3</th>\n",
       "      <td>2021-06-01 04:03:00</td>\n",
       "      <td>4.0</td>\n",
       "      <td>20.78</td>\n",
       "      <td>13.0</td>\n",
       "      <td>24.63</td>\n",
       "      <td>17.0</td>\n",
       "      <td>22.67</td>\n",
       "      <td>13.0</td>\n",
       "      <td>23.78</td>\n",
       "      <td>7.0</td>\n",
       "      <td>23.21</td>\n",
       "      <td>10.0</td>\n",
       "      <td>22.33</td>\n",
       "    </tr>\n",
       "    <tr>\n",
       "      <th>4</th>\n",
       "      <td>2021-06-01 04:04:00</td>\n",
       "      <td>7.0</td>\n",
       "      <td>22.61</td>\n",
       "      <td>7.0</td>\n",
       "      <td>27.67</td>\n",
       "      <td>14.0</td>\n",
       "      <td>22.13</td>\n",
       "      <td>18.0</td>\n",
       "      <td>23.11</td>\n",
       "      <td>8.0</td>\n",
       "      <td>25.69</td>\n",
       "      <td>7.0</td>\n",
       "      <td>22.19</td>\n",
       "    </tr>\n",
       "  </tbody>\n",
       "</table>\n",
       "</div>"
      ],
      "text/plain": [
       "             Datetime  SENSOR_539_FLOW  SENSOR_539_SPEED  SENSOR_536_FLOW  \\\n",
       "0 2021-06-01 04:00:00              9.0             19.64              2.0   \n",
       "1 2021-06-01 04:01:00             11.0             22.04              7.0   \n",
       "2 2021-06-01 04:02:00             12.0             21.40             10.0   \n",
       "3 2021-06-01 04:03:00              4.0             20.78             13.0   \n",
       "4 2021-06-01 04:04:00              7.0             22.61              7.0   \n",
       "\n",
       "   SENSOR_536_SPEED  SENSOR_751_FLOW  SENSOR_751_SPEED  SENSOR_740_FLOW  \\\n",
       "0             28.35             19.0             21.53             17.0   \n",
       "1             27.03             13.0             22.26             15.0   \n",
       "2             24.17             18.0             20.97             20.0   \n",
       "3             24.63             17.0             22.67             13.0   \n",
       "4             27.67             14.0             22.13             18.0   \n",
       "\n",
       "   SENSOR_740_SPEED  SENSOR_1254_FLOW  SENSOR_1254_SPEED  SENSOR_1076_FLOW  \\\n",
       "0             21.99               4.0              24.53               6.0   \n",
       "1             24.16               1.0              27.20              12.0   \n",
       "2             23.27               7.0              22.80              13.0   \n",
       "3             23.78               7.0              23.21              10.0   \n",
       "4             23.11               8.0              25.69               7.0   \n",
       "\n",
       "   SENSOR_1076_SPEED  \n",
       "0              20.27  \n",
       "1              21.14  \n",
       "2              21.72  \n",
       "3              22.33  \n",
       "4              22.19  "
      ]
     },
     "execution_count": 231,
     "metadata": {},
     "output_type": "execute_result"
    }
   ],
   "source": [
    "df_all=pd.read_parquet(\"data/processed/df_all.parquet\")\n",
    "df_all.head()\n",
    "##otherwise\n",
    "#df_all = pd.read_csv(\"data/processed/df_all.csv\",sep=\";\", parse_dates=['Datetime'])\n",
    "#df_all.head()\n"
   ]
  },
  {
   "cell_type": "markdown",
   "id": "527f81f5-76bd-4857-8e2c-07bd5084ee9b",
   "metadata": {},
   "source": [
    "Variables"
   ]
  },
  {
   "cell_type": "code",
   "execution_count": 4,
   "id": "2bf1463e-7b14-423a-9af9-2d5a5a9ec054",
   "metadata": {},
   "outputs": [],
   "source": [
    "target_sensor = 1076\n",
    "same_portal=\"55620\"\n",
    "neighbour_portal = \"56160\"\n",
    "\n",
    "same_portal_sensors = df_2_full[df_2_full['PORTAL_clean'] == same_portal]['DP_ID'].unique()\n",
    "same_sensors = [s for s in same_portal_sensors if s != target_sensor]\n",
    "\n",
    "\n",
    "neighbour_sensors = df_2_full[df_2_full['PORTAL_clean'] == neighbour_portal]['DP_ID'].unique()\n",
    "all_sensors=df_2_full['DP_ID'].unique()\n",
    "except_target_sensors = [s for s in all_sensors if s != target_sensor]\n",
    "\n",
    "\n"
   ]
  },
  {
   "cell_type": "code",
   "execution_count": 233,
   "id": "3789d421-a5d9-4acc-bd8f-f27828fff5fe",
   "metadata": {},
   "outputs": [],
   "source": [
    "flow_features_same_nl = [\n",
    "    f'SENSOR_{sensor}_FLOW'\n",
    "    for sensor in same_sensors\n",
    "\n",
    "]\n",
    "flow_features_neighbour_nl = [\n",
    "    f'SENSOR_{sensor}_FLOW'\n",
    "    for sensor in neighbour_sensors\n",
    "\n",
    "]\n",
    "speed_features_same_nl = [\n",
    "    f'SENSOR_{sensor}_SPEED'\n",
    "    for sensor in same_sensors\n",
    "]\n",
    "speed_features_neighbour_nl = [\n",
    "    f'SENSOR_{sensor}_SPEED'\n",
    "    for sensor in neighbour_sensors\n",
    "]"
   ]
  },
  {
   "cell_type": "code",
   "execution_count": 234,
   "id": "f49c49be-e84a-472d-96d4-d9d7311a44ca",
   "metadata": {},
   "outputs": [],
   "source": [
    "flow_features_same = [\n",
    "    f'SENSOR_{sensor}_FLOW_lag_{i+1}'\n",
    "    for sensor in same_sensors\n",
    "    for i in range(nlags)\n",
    "]\n",
    "flow_features_neighbour = [\n",
    "    f'SENSOR_{sensor}_FLOW_lag_{i+1}'\n",
    "    for sensor in neighbour_sensors\n",
    "    for i in range(nlags)\n",
    "]\n",
    "speed_features_same = [\n",
    "    f'SENSOR_{sensor}_SPEED_lag_{i+1}'\n",
    "    for sensor in same_sensors\n",
    "    for i in range(nlags)\n",
    "]\n",
    "speed_features_neighbour = [\n",
    "    f'SENSOR_{sensor}_SPEED_lag_{i+1}'\n",
    "    for sensor in neighbour_sensors\n",
    "    for i in range(nlags)\n",
    "]"
   ]
  },
  {
   "cell_type": "code",
   "execution_count": 96,
   "id": "297d5e37-c5b4-41f8-9530-c5d726ff23b3",
   "metadata": {},
   "outputs": [
    {
     "name": "stdout",
     "output_type": "stream",
     "text": [
      "{'55620': array([ 751, 1254, 1076], dtype=int64), '56160': array([539, 536, 740], dtype=int64)}\n"
     ]
    }
   ],
   "source": [
    "portal_to_sensors = df_2_full.groupby(\"PORTAL_clean\")[\"DP_ID\"].unique().to_dict()\n",
    "print(portal_to_sensors)\n",
    "sensor_to_portal = {}\n",
    "for portal, sensor_list in portal_to_sensors.items():\n",
    "    for sensor in sensor_list:\n",
    "        sensor_to_portal[sensor] = portal"
   ]
  },
  {
   "cell_type": "markdown",
   "id": "83dc14a8-dcdb-44a8-8bce-0d6a3f0f9b4b",
   "metadata": {},
   "source": [
    "Lag features"
   ]
  },
  {
   "cell_type": "code",
   "execution_count": 200,
   "id": "dfb3f2b3-fda1-416e-a33c-d34c27ac727b",
   "metadata": {},
   "outputs": [
    {
     "data": {
      "image/png": "[encoded data removed]",
      "text/plain": [
       "<Figure size 1285.12x400 with 2 Axes>"
      ]
     },
     "metadata": {},
     "output_type": "display_data"
    },
    {
     "name": "stdout",
     "output_type": "stream",
     "text": [
      "feature  sensor\n",
      "SPEED    751       0.830716\n",
      "         1254      0.744050\n",
      "FLOW     539       0.723636\n",
      "SPEED    539       0.708879\n",
      "         740       0.702637\n",
      "         536       0.660361\n",
      "FLOW     740       0.604476\n",
      "         1254      0.565824\n",
      "         751       0.557476\n",
      "         536       0.556442\n",
      "Name: corr, dtype: float64\n"
     ]
    }
   ],
   "source": [
    "import numpy as np\n",
    "import pandas as pd\n",
    "import matplotlib.pyplot as plt\n",
    "\n",
    "features = [\"SPEED\", \"FLOW\"]\n",
    "max_lag = 60\n",
    "\n",
    "results = []\n",
    "\n",
    "for feat in features:\n",
    "    target_col = f\"SENSOR_{target_sensor}_{feat}\" #SENSOR_1076_FLOW\n",
    "    for sensor in except_target_sensors:\n",
    "        sensor_col = f\"SENSOR_{sensor}_{feat}\"\n",
    "        for lag in range(max_lag + 1):\n",
    "            corr = df_all_peak[target_col].corr(df_all_peak[sensor_col].shift(lag))\n",
    "            results.append({\n",
    "                \"feature\": feat,\n",
    "                \"sensor\": sensor,\n",
    "                \"lag\": lag,\n",
    "                \"corr\": corr\n",
    "            })\n",
    "\n",
    "lag_corr_df = pd.DataFrame(results)\n",
    "\n",
    "\n",
    "\n",
    "lag_corr_df[\"portal\"] = lag_corr_df[\"sensor\"].map(sensor_to_portal)\n",
    "portal_colors = {\n",
    "    \"56160\": \"blue\",\n",
    "    \"55620\": \"orange\",\n",
    "}\n",
    "\n",
    "\n",
    "\n",
    "g = sns.FacetGrid(lag_corr_df, col=\"feature\", sharey=False, height=4, aspect=1.5)\n",
    "\n",
    "def portal_lineplot(data, **kwargs):\n",
    "    for sensor, group in data.groupby(\"sensor\"):\n",
    "        portal = sensor_to_portal.get(sensor, \"unknown\")\n",
    "        color = portal_colors.get(portal, \"gray\")\n",
    "        kwargs_clean = {k: v for k, v in kwargs.items() if k != \"color\"}\n",
    "        sns.lineplot(\n",
    "            data=group,\n",
    "            x=\"lag\",\n",
    "            y=\"corr\",\n",
    "            label=sensor,\n",
    "            color=color,\n",
    "            **kwargs_clean\n",
    "        )\n",
    "\n",
    "g.map_dataframe(portal_lineplot)\n",
    "g.add_legend()\n",
    "g.set_axis_labels(\"Lag (minutes)\", \"Correlation\")\n",
    "g.set_titles(\"{col_name}\")\n",
    "plt.savefig(\"Plots/Correlation_lag_flow_speed_peak.eps\")\n",
    "plt.savefig(\"Plots/Correlation_lag_flow_speed_peak.png\")\n",
    "plt.show()\n",
    "\n",
    "\n"
   ]
  },
  {
   "cell_type": "code",
   "execution_count": 244,
   "id": "6bc160ba-a516-4a8b-9b93-161e96439e92",
   "metadata": {},
   "outputs": [
    {
     "name": "stdout",
     "output_type": "stream",
     "text": [
      "    feature  sensor  lag      corr portal\n",
      "0     SPEED     539    0  0.696572  56160\n",
      "1     SPEED     539    1  0.708879  56160\n",
      "2     SPEED     539    2  0.576724  56160\n",
      "3     SPEED     539    3  0.551420  56160\n",
      "4     SPEED     539    4  0.533617  56160\n",
      "..      ...     ...  ...       ...    ...\n",
      "557    FLOW    1254    8  0.414330  55620\n",
      "558    FLOW    1254    9  0.411669  55620\n",
      "559    FLOW    1254   10  0.407242  55620\n",
      "560    FLOW    1254   11  0.396553  55620\n",
      "561    FLOW    1254   12  0.401022  55620\n",
      "\n",
      "[101 rows x 5 columns]\n",
      "feature  sensor\n",
      "FLOW     536       13\n",
      "         539        4\n",
      "         740       16\n",
      "         751       14\n",
      "         1254      12\n",
      "SPEED    536        9\n",
      "         539        5\n",
      "         740        8\n",
      "         751        4\n",
      "         1254       6\n",
      "Name: lag, dtype: int64\n",
      "feature\n",
      "FLOW     11.8\n",
      "SPEED     6.4\n",
      "Name: lag, dtype: float64\n"
     ]
    }
   ],
   "source": [
    "selected_lags = lag_corr_df[lag_corr_df[\"corr\"] >= 0.7 * lag_corr_df.groupby([\"feature\", \"sensor\"])[\"corr\"].transform(\"max\")]\n",
    "print(selected_lags)\n",
    "print(selected_lags.groupby([\"feature\", \"sensor\"])[\"lag\"].max())\n",
    "print(selected_lags.groupby([\"feature\", \"sensor\"])[\"lag\"].max().groupby([\"feature\"]).mean())\n"
   ]
  },
  {
   "cell_type": "code",
   "execution_count": 119,
   "id": "3fe644d4-0288-4d39-85d9-98afee8e7f59",
   "metadata": {},
   "outputs": [],
   "source": [
    "#nlags=30\n",
    "nlags=15"
   ]
  },
  {
   "cell_type": "code",
   "execution_count": 153,
   "id": "1f6be8b4-6a0a-4ca7-9e37-55e73da06da0",
   "metadata": {},
   "outputs": [
    {
     "name": "stdout",
     "output_type": "stream",
     "text": [
      "Index(['Datetime', 'SENSOR_539_FLOW_lag_1', 'SENSOR_539_FLOW_lag_2',\n",
      "       'SENSOR_539_FLOW_lag_3', 'SENSOR_539_FLOW_lag_4',\n",
      "       'SENSOR_539_FLOW_lag_5', 'SENSOR_539_FLOW_lag_6',\n",
      "       'SENSOR_539_FLOW_lag_7', 'SENSOR_539_FLOW_lag_8',\n",
      "       'SENSOR_539_FLOW_lag_9',\n",
      "       ...\n",
      "       'SENSOR_1254_SPEED_lag_8', 'SENSOR_1254_SPEED_lag_9',\n",
      "       'SENSOR_1254_SPEED_lag_10', 'SENSOR_1254_SPEED_lag_11',\n",
      "       'SENSOR_1254_SPEED_lag_12', 'SENSOR_1254_SPEED_lag_13',\n",
      "       'SENSOR_1254_SPEED_lag_14', 'SENSOR_1254_SPEED_lag_15', 'FLOW_filled',\n",
      "       'SPEED_MS_AVG_filled'],\n",
      "      dtype='object', length=153)\n"
     ]
    }
   ],
   "source": [
    "df_lagged_all = []\n",
    "for sensor in except_target_sensors:\n",
    "    df_sensor = df_lagged[df_lagged['DP_ID'] == sensor].copy()\n",
    "    df_sensor = df_sensor.rename(columns={\n",
    "        f'FLOW_filled_lag_{i+1}': f'SENSOR_{sensor}_FLOW_lag_{i+1}' for i in range(nlags)\n",
    "    })\n",
    "    df_sensor = df_sensor.rename(columns={\n",
    "        f'SPEED_MS_AVG_filled_lag_{i+1}': f'SENSOR_{sensor}_SPEED_lag_{i+1}' for i in range(nlags)\n",
    "    })\n",
    "    df_sensor = df_sensor[['Datetime'] + [f'SENSOR_{sensor}_FLOW_lag_{i+1}' for i in range(nlags)]+[f'SENSOR_{sensor}_SPEED_lag_{i+1}' for i in range(nlags)]]\n",
    "    df_lagged_all.append(df_sensor)\n",
    "df_lagged_all = reduce(lambda l, r: pd.merge(l, r, on='Datetime', how='inner'), df_lagged_all)\n",
    "df_lagged_all=df_lagged_all.merge(df_2_full[df_2_full['DP_ID']==target_sensor][[\"Datetime\",\"FLOW_filled\",\"SPEED_MS_AVG_filled\"]], on=['Datetime'], how='left')\n",
    "df_lagged_all.head()\n",
    "print(df_lagged_all.columns)"
   ]
  },
  {
   "cell_type": "code",
   "execution_count": 151,
   "id": "27101373-46a0-42bc-ab90-69d67419eddc",
   "metadata": {},
   "outputs": [],
   "source": [
    "def build_lag_features(df, target_col, lags=nlags):\n",
    "    df = df.sort_values('Datetime')\n",
    "    for i in range(1, lags + 1):\n",
    "        df[f'{target_col}_lag_{i}'] = df.groupby('DP_ID')[target_col].shift(i)\n",
    "    return df\n"
   ]
  },
  {
   "cell_type": "code",
   "execution_count": 152,
   "id": "1c39e58a-347a-4256-9f5b-26ad60dc505e",
   "metadata": {},
   "outputs": [
    {
     "name": "stdout",
     "output_type": "stream",
     "text": [
      "Datetime                          0\n",
      "DP_ID                             0\n",
      "PORTAL                            0\n",
      "Interval_1                        0\n",
      "Interval_5                        0\n",
      "Interval_15                       0\n",
      "Interval_30                       0\n",
      "Interval_60                       0\n",
      "SPEED_MS_AVG                  22876\n",
      "FLOW                          22876\n",
      "Time_only                         0\n",
      "Date_only                         0\n",
      "PORTAL_clean                      0\n",
      "SPEED_MS_AVG_filled               0\n",
      "FLOW_filled                       0\n",
      "FLOW_future_sum                  84\n",
      "SPEED_future_mean                84\n",
      "FLOW_filled_lag_1                 0\n",
      "FLOW_filled_lag_2                 0\n",
      "FLOW_filled_lag_3                 0\n",
      "FLOW_filled_lag_4                 0\n",
      "FLOW_filled_lag_5                 0\n",
      "FLOW_filled_lag_6                 0\n",
      "FLOW_filled_lag_7                 0\n",
      "FLOW_filled_lag_8                 0\n",
      "FLOW_filled_lag_9                 0\n",
      "FLOW_filled_lag_10                0\n",
      "FLOW_filled_lag_11                0\n",
      "FLOW_filled_lag_12                0\n",
      "FLOW_filled_lag_13                0\n",
      "FLOW_filled_lag_14                0\n",
      "FLOW_filled_lag_15                0\n",
      "SPEED_MS_AVG_filled_lag_1         0\n",
      "SPEED_MS_AVG_filled_lag_2         0\n",
      "SPEED_MS_AVG_filled_lag_3         0\n",
      "SPEED_MS_AVG_filled_lag_4         0\n",
      "SPEED_MS_AVG_filled_lag_5         0\n",
      "SPEED_MS_AVG_filled_lag_6         0\n",
      "SPEED_MS_AVG_filled_lag_7         0\n",
      "SPEED_MS_AVG_filled_lag_8         0\n",
      "SPEED_MS_AVG_filled_lag_9         0\n",
      "SPEED_MS_AVG_filled_lag_10        0\n",
      "SPEED_MS_AVG_filled_lag_11        0\n",
      "SPEED_MS_AVG_filled_lag_12        0\n",
      "SPEED_MS_AVG_filled_lag_13        0\n",
      "SPEED_MS_AVG_filled_lag_14        0\n",
      "SPEED_MS_AVG_filled_lag_15        0\n",
      "dtype: int64\n",
      "(456936, 47)\n"
     ]
    }
   ],
   "source": [
    "df_lagged = build_lag_features(df_2_full, 'FLOW_filled', lags=nlags)\n",
    "df_lagged = build_lag_features(df_lagged,\"SPEED_MS_AVG_filled\", lags=nlags)\n",
    "df_lagged = df_lagged[df_lagged[f'FLOW_filled_lag_{nlags}'].notna()]\n",
    "\n",
    "print(df_lagged.isna().sum())\n",
    "print(df_lagged.shape)\n"
   ]
  },
  {
   "cell_type": "code",
   "execution_count": 161,
   "id": "67598625-ef47-496c-92a6-1dd6efe3813f",
   "metadata": {},
   "outputs": [
    {
     "name": "stdout",
     "output_type": "stream",
     "text": [
      "(76156, 155)\n",
      "(72991, 155)\n",
      "Datetime                    0\n",
      "SENSOR_539_FLOW_lag_1       0\n",
      "SENSOR_539_FLOW_lag_2       0\n",
      "SENSOR_539_FLOW_lag_3       0\n",
      "SENSOR_539_FLOW_lag_4       0\n",
      "                           ..\n",
      "SENSOR_1254_SPEED_lag_15    0\n",
      "FLOW_filled                 0\n",
      "SPEED_MS_AVG_filled         0\n",
      "FLOW_future_sum             0\n",
      "SPEED_future_mean           0\n",
      "Length: 155, dtype: int64\n"
     ]
    }
   ],
   "source": [
    "df_2_full['FLOW_future_sum'] = (\n",
    "    df_2_full.groupby('DP_ID')['FLOW_filled']\n",
    "    .rolling(15, min_periods=15)\n",
    "    .sum()\n",
    "    .shift(-14)  # damit die Summe bei t=07:02 die Werte von 07:02–07:16 enthält\n",
    "    .reset_index(level=0, drop=True)\n",
    ")\n",
    "df_2_full['SPEED_future_mean'] = (\n",
    "    df_2_full.groupby('DP_ID')['SPEED_MS_AVG_filled']\n",
    "    .rolling(15, min_periods=15)\n",
    "    .mean()\n",
    "    .shift(-14)  # damit die Summe bei t=07:02 die Werte von 07:02–07:16 enthält\n",
    "    .reset_index(level=0, drop=True)\n",
    ")\n",
    "\n",
    "\n",
    "df_lagged_all=df_lagged_all.merge(df_2_full[df_2_full['DP_ID']==target_sensor][[\"Datetime\",\"FLOW_future_sum\",\"SPEED_future_mean\"]], on=['Datetime'], how='left')\n",
    "print(df_lagged_all.shape)\n",
    "df_lagged_all = df_lagged_all[df_lagged_all['Datetime'].dt.time <= time(9, 45)]\n",
    "print(df_lagged_all.shape)\n",
    "\n",
    "#print(df_lagged_all[\"Datetime\"]dt.time.min(), df_lagged_all[\"Datetime\"].dt.date.max())\n",
    "df_lagged_all.head(20)\n",
    "print(df_lagged_all.isna().sum())\n"
   ]
  },
  {
   "cell_type": "code",
   "execution_count": null,
   "id": "3fafb430-ecd4-4589-8b7f-0ddcc118229e",
   "metadata": {},
   "outputs": [],
   "source": [
    "#df_lagged_all.to_parquet(\"data/processed/df_lagged_all.parquet\", index=False)\n",
    "#df_lagged_all.to_parquet(\"data/processed/df_lagged_30_all.parquet\", index=False)\n",
    "#df_lagged_all_peak.to_parquet(\"data/processed/df_lagged_all_peak.parquet\", index=False)"
   ]
  },
  {
   "cell_type": "markdown",
   "id": "a6f793b0-1f68-4bb1-b6bb-b2481e31276b",
   "metadata": {},
   "source": [
    "Train-Test-split"
   ]
  },
  {
   "cell_type": "code",
   "execution_count": 250,
   "id": "dc52815c-1b6c-4832-af32-1caec6b18af3",
   "metadata": {},
   "outputs": [],
   "source": [
    "df_train_nl, df_test_nl = train_test_split(df_all, test_size=0.2, random_state=42)\n",
    "df_test_nl_peak=df_test_nl.set_index(\"Datetime\").between_time(\"07:30\", \"08:30\").reset_index()\n",
    "\n",
    "df_train, df_test = train_test_split(df_lagged_all, test_size=0.2, random_state=42)\n",
    "df_test_peak=df_test.set_index(\"Datetime\").between_time(\"07:30\", \"08:30\").reset_index()\n"
   ]
  },
  {
   "cell_type": "markdown",
   "id": "ca8f2380-535c-4cee-8760-e94ff95f122e",
   "metadata": {},
   "source": [
    "prediction same time"
   ]
  },
  {
   "cell_type": "code",
   "execution_count": 251,
   "id": "21f4cb68-76db-41c8-87cd-880517e6f6a3",
   "metadata": {},
   "outputs": [
    {
     "name": "stdout",
     "output_type": "stream",
     "text": [
      "Baseline Linear Regression (FLOW) -> RMSE: 3.992, MAE: 3.167, R2: 0.618\n",
      "Baseline Linear Regression (SPEED) -> RMSE: 1.007, MAE: 0.732, R2: 0.723\n"
     ]
    },
    {
     "name": "stderr",
     "output_type": "stream",
     "text": [
      "C:\\Users\\Johanna\\anaconda3\\envs\\AI_project\\Lib\\site-packages\\sklearn\\metrics\\_regression.py:483: FutureWarning: 'squared' is deprecated in version 1.4 and will be removed in 1.6. To calculate the root mean squared error, use the function'root_mean_squared_error'.\n",
      "  warnings.warn(\n",
      "C:\\Users\\Johanna\\anaconda3\\envs\\AI_project\\Lib\\site-packages\\sklearn\\metrics\\_regression.py:483: FutureWarning: 'squared' is deprecated in version 1.4 and will be removed in 1.6. To calculate the root mean squared error, use the function'root_mean_squared_error'.\n",
      "  warnings.warn(\n"
     ]
    }
   ],
   "source": [
    "#same portal\n",
    "model_flow = LinearRegression()\n",
    "model_flow.fit(df_train_nl[flow_features_same_nl], df_train_nl[f'SENSOR_{target_sensor}_FLOW' ])\n",
    "\n",
    "model_speed = LinearRegression()\n",
    "model_speed.fit(df_train_nl[speed_features_same_nl], df_train_nl[f'SENSOR_{target_sensor}_SPEED' ])\n",
    "\n",
    "# prediction\n",
    "y_pred = model_flow.predict(df_test_nl[flow_features_same_nl])\n",
    "y_test=df_test_nl[f'SENSOR_{target_sensor}_FLOW']\n",
    "\n",
    "rmse = mean_squared_error(y_test, y_pred, squared=False)\n",
    "mae = mean_absolute_error(y_test, y_pred)\n",
    "r2 = r2_score(y_test, y_pred)\n",
    "\n",
    "print(f\"Baseline Linear Regression (FLOW) -> RMSE: {rmse:.3f}, MAE: {mae:.3f}, R2: {r2:.3f}\")\n",
    "\n",
    "y_pred = model_speed.predict(df_test_nl[speed_features_same_nl])\n",
    "y_test=df_test_nl[f'SENSOR_{target_sensor}_SPEED']\n",
    "\n",
    "rmse = mean_squared_error(y_test, y_pred, squared=False)\n",
    "mae = mean_absolute_error(y_test, y_pred)\n",
    "r2 = r2_score(y_test, y_pred)\n",
    "\n",
    "print(f\"Baseline Linear Regression (SPEED) -> RMSE: {rmse:.3f}, MAE: {mae:.3f}, R2: {r2:.3f}\")\n",
    "\n"
   ]
  },
  {
   "cell_type": "code",
   "execution_count": 253,
   "id": "a75f6401-8155-481c-98ac-19e1ffb0df5c",
   "metadata": {},
   "outputs": [
    {
     "name": "stdout",
     "output_type": "stream",
     "text": [
      "Baseline Linear Regression (FLOW) -> RMSE: 3.349, MAE: 2.604, R2: 0.731\n",
      "Baseline Linear Regression (SPEED) -> RMSE: 1.223, MAE: 0.808, R2: 0.591\n"
     ]
    },
    {
     "name": "stderr",
     "output_type": "stream",
     "text": [
      "C:\\Users\\Johanna\\anaconda3\\envs\\AI_project\\Lib\\site-packages\\sklearn\\metrics\\_regression.py:483: FutureWarning: 'squared' is deprecated in version 1.4 and will be removed in 1.6. To calculate the root mean squared error, use the function'root_mean_squared_error'.\n",
      "  warnings.warn(\n",
      "C:\\Users\\Johanna\\anaconda3\\envs\\AI_project\\Lib\\site-packages\\sklearn\\metrics\\_regression.py:483: FutureWarning: 'squared' is deprecated in version 1.4 and will be removed in 1.6. To calculate the root mean squared error, use the function'root_mean_squared_error'.\n",
      "  warnings.warn(\n"
     ]
    }
   ],
   "source": [
    "#neighbour portal\n",
    "model_flow = LinearRegression()\n",
    "model_flow.fit(df_train_nl[flow_features_neighbour_nl], df_train_nl[f'SENSOR_{target_sensor}_FLOW' ])\n",
    "\n",
    "model_speed = LinearRegression()\n",
    "model_speed.fit(df_train_nl[speed_features_neighbour_nl], df_train_nl[f'SENSOR_{target_sensor}_SPEED' ])\n",
    "\n",
    "# prediction\n",
    "y_pred = model_flow.predict(df_test_nl[flow_features_neighbour_nl])\n",
    "y_test=df_test_nl[f'SENSOR_{target_sensor}_FLOW']\n",
    "\n",
    "rmse = mean_squared_error(y_test, y_pred, squared=False)\n",
    "mae = mean_absolute_error(y_test, y_pred)\n",
    "r2 = r2_score(y_test, y_pred)\n",
    "\n",
    "print(f\"Baseline Linear Regression (FLOW) -> RMSE: {rmse:.3f}, MAE: {mae:.3f}, R2: {r2:.3f}\")\n",
    "\n",
    "y_pred = model_speed.predict(df_test_nl[speed_features_neighbour_nl])\n",
    "y_test=df_test_nl[f'SENSOR_{target_sensor}_SPEED']\n",
    "\n",
    "rmse = mean_squared_error(y_test, y_pred, squared=False)\n",
    "mae = mean_absolute_error(y_test, y_pred)\n",
    "r2 = r2_score(y_test, y_pred)\n",
    "\n",
    "print(f\"Baseline Linear Regression (SPEED) -> RMSE: {rmse:.3f}, MAE: {mae:.3f}, R2: {r2:.3f}\")\n",
    "\n"
   ]
  },
  {
   "cell_type": "markdown",
   "id": "d001206e-d356-4185-9ae6-fe625ecf7672",
   "metadata": {},
   "source": [
    "predict current time based on the last 15 min"
   ]
  },
  {
   "cell_type": "code",
   "execution_count": 257,
   "id": "b56820dc-7404-4d8d-afaa-9153e47c5a46",
   "metadata": {},
   "outputs": [
    {
     "name": "stdout",
     "output_type": "stream",
     "text": [
      "Baseline Linear Regression (FLOW) -> RMSE: 3.865, MAE: 3.001, R2: 0.642\n",
      "Baseline Linear Regression (SPEED) -> RMSE: 1.125, MAE: 0.817, R2: 0.634\n"
     ]
    },
    {
     "name": "stderr",
     "output_type": "stream",
     "text": [
      "C:\\Users\\Johanna\\anaconda3\\envs\\AI_project\\Lib\\site-packages\\sklearn\\metrics\\_regression.py:483: FutureWarning: 'squared' is deprecated in version 1.4 and will be removed in 1.6. To calculate the root mean squared error, use the function'root_mean_squared_error'.\n",
      "  warnings.warn(\n",
      "C:\\Users\\Johanna\\anaconda3\\envs\\AI_project\\Lib\\site-packages\\sklearn\\metrics\\_regression.py:483: FutureWarning: 'squared' is deprecated in version 1.4 and will be removed in 1.6. To calculate the root mean squared error, use the function'root_mean_squared_error'.\n",
      "  warnings.warn(\n"
     ]
    }
   ],
   "source": [
    "#saame portal\n",
    "\n",
    "\n",
    "model_flow = LinearRegression()\n",
    "model_flow.fit(df_train[flow_features_same], df_train['FLOW_filled'])\n",
    "\n",
    "model_speed = LinearRegression()\n",
    "model_speed.fit(df_train[speed_features_same], df_train['SPEED_MS_AVG_filled'])\n",
    "\n",
    "\n",
    "\n",
    "\n",
    "# prediction\n",
    "y_pred = model_flow.predict(df_test[flow_features_same])\n",
    "y_test=df_test['FLOW_filled']\n",
    "\n",
    "rmse = mean_squared_error(y_test, y_pred, squared=False)\n",
    "mae = mean_absolute_error(y_test, y_pred)\n",
    "r2 = r2_score(y_test, y_pred)\n",
    "print(f\"Baseline Linear Regression (FLOW) -> RMSE: {rmse:.3f}, MAE: {mae:.3f}, R2: {r2:.3f}\")\n",
    "\n",
    "y_pred = model_speed.predict(df_test[speed_features_same])\n",
    "y_test=df_test['SPEED_MS_AVG_filled']\n",
    "\n",
    "rmse = mean_squared_error(y_test, y_pred, squared=False)\n",
    "mae = mean_absolute_error(y_test, y_pred)\n",
    "r2 = r2_score(y_test, y_pred)\n",
    "\n",
    "print(f\"Baseline Linear Regression (SPEED) -> RMSE: {rmse:.3f}, MAE: {mae:.3f}, R2: {r2:.3f}\")\n",
    "\n"
   ]
  },
  {
   "cell_type": "code",
   "execution_count": 259,
   "id": "8e090e82-125b-4541-a0aa-d994eb4f29c0",
   "metadata": {},
   "outputs": [
    {
     "name": "stdout",
     "output_type": "stream",
     "text": [
      "Baseline Linear Regression (FLOW) -> RMSE: 3.261, MAE: 2.514, R2: 0.745\n",
      "Baseline Linear Regression (SPEED) -> RMSE: 1.212, MAE: 0.770, R2: 0.575\n"
     ]
    },
    {
     "name": "stderr",
     "output_type": "stream",
     "text": [
      "C:\\Users\\Johanna\\anaconda3\\envs\\AI_project\\Lib\\site-packages\\sklearn\\metrics\\_regression.py:483: FutureWarning: 'squared' is deprecated in version 1.4 and will be removed in 1.6. To calculate the root mean squared error, use the function'root_mean_squared_error'.\n",
      "  warnings.warn(\n",
      "C:\\Users\\Johanna\\anaconda3\\envs\\AI_project\\Lib\\site-packages\\sklearn\\metrics\\_regression.py:483: FutureWarning: 'squared' is deprecated in version 1.4 and will be removed in 1.6. To calculate the root mean squared error, use the function'root_mean_squared_error'.\n",
      "  warnings.warn(\n"
     ]
    }
   ],
   "source": [
    "#neighbour\n",
    "\n",
    "\n",
    "model_flow = LinearRegression()\n",
    "model_flow.fit(df_train[flow_features_neighbour], df_train['FLOW_filled'])\n",
    "\n",
    "model_speed = LinearRegression()\n",
    "model_speed.fit(df_train[speed_features_neighbour], df_train['SPEED_MS_AVG_filled'])\n",
    "\n",
    "\n",
    "\n",
    "#df_lagged['FLOW_future_mean'] = df_lagged.groupby('DP_ID')['FLOW_filled'].shift(-1).rolling(15).mean()\n",
    "\n",
    "# Vorhersage\n",
    "y_pred = model_flow.predict(df_test[flow_features_neighbour])\n",
    "y_test=df_test['FLOW_filled']\n",
    "\n",
    "rmse = mean_squared_error(y_test, y_pred, squared=False)\n",
    "mae = mean_absolute_error(y_test, y_pred)\n",
    "r2 = r2_score(y_test, y_pred)\n",
    "\n",
    "print(f\"Baseline Linear Regression (FLOW) -> RMSE: {rmse:.3f}, MAE: {mae:.3f}, R2: {r2:.3f}\")\n",
    "\n",
    "y_pred = model_speed.predict(df_test[speed_features_neighbour])\n",
    "y_test=df_test['SPEED_MS_AVG_filled']\n",
    "\n",
    "rmse = mean_squared_error(y_test, y_pred, squared=False)\n",
    "mae = mean_absolute_error(y_test, y_pred)\n",
    "r2 = r2_score(y_test, y_pred)\n",
    "\n",
    "print(f\"Baseline Linear Regression (SPEED) -> RMSE: {rmse:.3f}, MAE: {mae:.3f}, R2: {r2:.3f}\")\n",
    "\n"
   ]
  },
  {
   "cell_type": "markdown",
   "id": "7d448516-57ac-4140-b701-65d7e2c20ea4",
   "metadata": {},
   "source": [
    "Predict total flow /average speed for the next 15 mins"
   ]
  },
  {
   "cell_type": "code",
   "execution_count": 260,
   "id": "802dc183-277e-402b-aa68-1ed67569363a",
   "metadata": {},
   "outputs": [
    {
     "name": "stdout",
     "output_type": "stream",
     "text": [
      "Baseline Linear Regression (FLOW) -> RMSE: 33.543, MAE: 23.809, R2: 0.836\n",
      "Baseline Linear Regression (SPEED) -> RMSE: 0.861, MAE: 0.462, R2: 0.709\n"
     ]
    },
    {
     "name": "stderr",
     "output_type": "stream",
     "text": [
      "C:\\Users\\Johanna\\anaconda3\\envs\\AI_project\\Lib\\site-packages\\sklearn\\metrics\\_regression.py:483: FutureWarning: 'squared' is deprecated in version 1.4 and will be removed in 1.6. To calculate the root mean squared error, use the function'root_mean_squared_error'.\n",
      "  warnings.warn(\n",
      "C:\\Users\\Johanna\\anaconda3\\envs\\AI_project\\Lib\\site-packages\\sklearn\\metrics\\_regression.py:483: FutureWarning: 'squared' is deprecated in version 1.4 and will be removed in 1.6. To calculate the root mean squared error, use the function'root_mean_squared_error'.\n",
      "  warnings.warn(\n"
     ]
    }
   ],
   "source": [
    "#same portal\n",
    "model_flow = LinearRegression()\n",
    "model_flow.fit(df_train[flow_features_same], df_train['FLOW_future_sum'])\n",
    "\n",
    "model_speed = LinearRegression()\n",
    "model_speed.fit(df_train[speed_features_same], df_train['SPEED_future_mean'])\n",
    "\n",
    "\n",
    "# Vorhersage\n",
    "y_pred = model_flow.predict(df_test[flow_features_same])\n",
    "y_test=df_test['FLOW_future_sum']\n",
    "\n",
    "rmse = mean_squared_error(y_test, y_pred, squared=False)\n",
    "mae = mean_absolute_error(y_test, y_pred)\n",
    "r2 = r2_score(y_test, y_pred)\n",
    "\n",
    "print(f\"Baseline Linear Regression (FLOW) -> RMSE: {rmse:.3f}, MAE: {mae:.3f}, R2: {r2:.3f}\")\n",
    "\n",
    "\n",
    "y_pred = model_speed.predict(df_test[speed_features_same])\n",
    "y_test=df_test['SPEED_future_mean']\n",
    "\n",
    "rmse = mean_squared_error(y_test, y_pred, squared=False)\n",
    "mae = mean_absolute_error(y_test, y_pred)\n",
    "r2 = r2_score(y_test, y_pred)\n",
    "\n",
    "print(f\"Baseline Linear Regression (SPEED) -> RMSE: {rmse:.3f}, MAE: {mae:.3f}, R2: {r2:.3f}\")"
   ]
  },
  {
   "cell_type": "code",
   "execution_count": 261,
   "id": "67f87453-4ad5-488f-a9cd-af53cb952ad4",
   "metadata": {},
   "outputs": [
    {
     "name": "stdout",
     "output_type": "stream",
     "text": [
      "Baseline Linear Regression (FLOW) -> RMSE: 28.474, MAE: 19.559, R2: 0.882\n",
      "Baseline Linear Regression (SPEED) -> RMSE: 1.051, MAE: 0.513, R2: 0.566\n"
     ]
    },
    {
     "name": "stderr",
     "output_type": "stream",
     "text": [
      "C:\\Users\\Johanna\\anaconda3\\envs\\AI_project\\Lib\\site-packages\\sklearn\\metrics\\_regression.py:483: FutureWarning: 'squared' is deprecated in version 1.4 and will be removed in 1.6. To calculate the root mean squared error, use the function'root_mean_squared_error'.\n",
      "  warnings.warn(\n",
      "C:\\Users\\Johanna\\anaconda3\\envs\\AI_project\\Lib\\site-packages\\sklearn\\metrics\\_regression.py:483: FutureWarning: 'squared' is deprecated in version 1.4 and will be removed in 1.6. To calculate the root mean squared error, use the function'root_mean_squared_error'.\n",
      "  warnings.warn(\n"
     ]
    }
   ],
   "source": [
    "#neighbour portal\n",
    "model_flow = LinearRegression()\n",
    "model_flow.fit(df_train[flow_features_neighbour], df_train['FLOW_future_sum'])\n",
    "\n",
    "model_speed = LinearRegression()\n",
    "model_speed.fit(df_train[speed_features_neighbour], df_train['SPEED_future_mean'])\n",
    "\n",
    "\n",
    "# prediction\n",
    "y_pred = model_flow.predict(df_test[flow_features_neighbour])\n",
    "y_test=df_test['FLOW_future_sum']\n",
    "\n",
    "rmse = mean_squared_error(y_test, y_pred, squared=False)\n",
    "mae = mean_absolute_error(y_test, y_pred)\n",
    "r2 = r2_score(y_test, y_pred)\n",
    "\n",
    "print(f\"Baseline Linear Regression (FLOW) -> RMSE: {rmse:.3f}, MAE: {mae:.3f}, R2: {r2:.3f}\")\n",
    "\n",
    "\n",
    "y_pred = model_speed.predict(df_test[speed_features_neighbour])\n",
    "y_test=df_test['SPEED_future_mean']\n",
    "\n",
    "rmse = mean_squared_error(y_test, y_pred, squared=False)\n",
    "mae = mean_absolute_error(y_test, y_pred)\n",
    "r2 = r2_score(y_test, y_pred)\n",
    "\n",
    "print(f\"Baseline Linear Regression (SPEED) -> RMSE: {rmse:.3f}, MAE: {mae:.3f}, R2: {r2:.3f}\")"
   ]
  },
  {
   "cell_type": "code",
   "execution_count": 203,
   "id": "a9b9958e-cce2-4191-a592-9c870e764332",
   "metadata": {},
   "outputs": [],
   "source": []
  },
  {
   "cell_type": "code",
   "execution_count": null,
   "id": "7680fb69-1bba-4290-a877-51ad36b2466f",
   "metadata": {},
   "outputs": [],
   "source": []
  }
 ],
 "metadata": {
  "kernelspec": {
   "display_name": "Python 3 (ipykernel)",
   "language": "python",
   "name": "python3"
  },
  "language_info": {
   "codemirror_mode": {
    "name": "ipython",
    "version": 3
   },
   "file_extension": ".py",
   "mimetype": "text/x-python",
   "name": "python",
   "nbconvert_exporter": "python",
   "pygments_lexer": "ipython3",
   "version": "3.12.11"
  }
 },
 "nbformat": 4,
 "nbformat_minor": 5
}
