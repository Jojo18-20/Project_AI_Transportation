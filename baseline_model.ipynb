{
 "cells": [
  {
   "cell_type": "code",
   "execution_count": 1,
   "id": "97cd5493-ef1c-4113-9cf0-31242894922f",
   "metadata": {},
   "outputs": [
    {
     "name": "stdout",
     "output_type": "stream",
     "text": [
      "C:\\Users\\Johanna\\anaconda3\\envs\\AI_project\\python.exe\n"
     ]
    }
   ],
   "source": [
    "import sys\n",
    "print(sys.executable)\n",
    "#should be AI project\n"
   ]
  },
  {
   "cell_type": "code",
   "execution_count": 19,
   "id": "840e32fa-f8db-4072-bde2-439174cd908f",
   "metadata": {},
   "outputs": [
    {
     "name": "stdout",
     "output_type": "stream",
     "text": [
      "Collecting xgboost\n",
      "  Downloading xgboost-3.0.5-py3-none-win_amd64.whl.metadata (2.1 kB)\n",
      "Requirement already satisfied: numpy in c:\\users\\johanna\\anaconda3\\envs\\ai_project\\lib\\site-packages (from xgboost) (1.26.4)\n",
      "Requirement already satisfied: scipy in c:\\users\\johanna\\anaconda3\\envs\\ai_project\\lib\\site-packages (from xgboost) (1.16.2)\n",
      "Downloading xgboost-3.0.5-py3-none-win_amd64.whl (56.8 MB)\n",
      "   ---------------------------------------- 0.0/56.8 MB ? eta -:--:--\n",
      "   ---------------------------------------- 0.0/56.8 MB ? eta -:--:--\n",
      "   - -------------------------------------- 2.6/56.8 MB 12.5 MB/s eta 0:00:05\n",
      "   --- ------------------------------------ 5.2/56.8 MB 12.7 MB/s eta 0:00:05\n",
      "   ----- ---------------------------------- 8.1/56.8 MB 13.2 MB/s eta 0:00:04\n",
      "   -------- ------------------------------- 11.5/56.8 MB 13.9 MB/s eta 0:00:04\n",
      "   ---------- ----------------------------- 15.2/56.8 MB 14.5 MB/s eta 0:00:03\n",
      "   ------------- -------------------------- 18.6/56.8 MB 14.9 MB/s eta 0:00:03\n",
      "   --------------- ------------------------ 21.5/56.8 MB 14.8 MB/s eta 0:00:03\n",
      "   ----------------- ---------------------- 24.9/56.8 MB 15.0 MB/s eta 0:00:03\n",
      "   -------------------- ------------------- 28.6/56.8 MB 15.2 MB/s eta 0:00:02\n",
      "   ---------------------- ----------------- 32.2/56.8 MB 15.4 MB/s eta 0:00:02\n",
      "   ------------------------- -------------- 35.7/56.8 MB 15.5 MB/s eta 0:00:02\n",
      "   -------------------------- ------------- 37.5/56.8 MB 15.0 MB/s eta 0:00:02\n",
      "   ---------------------------- ----------- 40.9/56.8 MB 15.0 MB/s eta 0:00:02\n",
      "   ------------------------------- -------- 44.3/56.8 MB 15.1 MB/s eta 0:00:01\n",
      "   --------------------------------- ------ 47.7/56.8 MB 15.2 MB/s eta 0:00:01\n",
      "   ------------------------------------ --- 51.6/56.8 MB 15.2 MB/s eta 0:00:01\n",
      "   -------------------------------------- - 55.1/56.8 MB 15.3 MB/s eta 0:00:01\n",
      "   ---------------------------------------  56.6/56.8 MB 15.3 MB/s eta 0:00:01\n",
      "   ---------------------------------------- 56.8/56.8 MB 14.7 MB/s  0:00:04\n",
      "Installing collected packages: xgboost\n",
      "Successfully installed xgboost-3.0.5\n"
     ]
    }
   ],
   "source": [
    "!pip install xgboost"
   ]
  },
  {
   "cell_type": "code",
   "execution_count": 20,
   "id": "a1449d30-c708-4d89-b65b-366ba495c4b6",
   "metadata": {},
   "outputs": [],
   "source": [
    "import pandas as pd\n",
    "import numpy as np\n",
    "from sklearn.linear_model import LinearRegression\n",
    "from sklearn.model_selection import train_test_split\n",
    "from sklearn.metrics import mean_squared_error, mean_absolute_error,r2_score\n",
    "from functools import reduce\n",
    "from datetime import time\n",
    "from xgboost import XGBRegressor\n"
   ]
  },
  {
   "cell_type": "code",
   "execution_count": 3,
   "id": "5051e93f-7679-4adc-abef-5e5412ac2bc3",
   "metadata": {},
   "outputs": [
    {
     "data": {
      "text/html": [
       "<div>\n",
       "<style scoped>\n",
       "    .dataframe tbody tr th:only-of-type {\n",
       "        vertical-align: middle;\n",
       "    }\n",
       "\n",
       "    .dataframe tbody tr th {\n",
       "        vertical-align: top;\n",
       "    }\n",
       "\n",
       "    .dataframe thead th {\n",
       "        text-align: right;\n",
       "    }\n",
       "</style>\n",
       "<table border=\"1\" class=\"dataframe\">\n",
       "  <thead>\n",
       "    <tr style=\"text-align: right;\">\n",
       "      <th></th>\n",
       "      <th>Datetime</th>\n",
       "      <th>DP_ID</th>\n",
       "      <th>PORTAL</th>\n",
       "      <th>Interval_1</th>\n",
       "      <th>Interval_5</th>\n",
       "      <th>Interval_15</th>\n",
       "      <th>Interval_30</th>\n",
       "      <th>Interval_60</th>\n",
       "      <th>SPEED_MS_AVG</th>\n",
       "      <th>FLOW</th>\n",
       "      <th>Time_only</th>\n",
       "      <th>Date_only</th>\n",
       "      <th>PORTAL_clean</th>\n",
       "      <th>SPEED_MS_AVG_filled</th>\n",
       "      <th>FLOW_filled</th>\n",
       "    </tr>\n",
       "  </thead>\n",
       "  <tbody>\n",
       "    <tr>\n",
       "      <th>0</th>\n",
       "      <td>2021-06-01 04:00:00</td>\n",
       "      <td>539</td>\n",
       "      <td>E4S 56,160</td>\n",
       "      <td>240</td>\n",
       "      <td>48</td>\n",
       "      <td>16</td>\n",
       "      <td>8</td>\n",
       "      <td>4</td>\n",
       "      <td>19.64</td>\n",
       "      <td>9.0</td>\n",
       "      <td>04:00:00</td>\n",
       "      <td>2021-06-01</td>\n",
       "      <td>56160</td>\n",
       "      <td>19.64</td>\n",
       "      <td>9.0</td>\n",
       "    </tr>\n",
       "    <tr>\n",
       "      <th>1</th>\n",
       "      <td>2021-06-01 04:00:00</td>\n",
       "      <td>536</td>\n",
       "      <td>E4S 56,160</td>\n",
       "      <td>240</td>\n",
       "      <td>48</td>\n",
       "      <td>16</td>\n",
       "      <td>8</td>\n",
       "      <td>4</td>\n",
       "      <td>28.35</td>\n",
       "      <td>2.0</td>\n",
       "      <td>04:00:00</td>\n",
       "      <td>2021-06-01</td>\n",
       "      <td>56160</td>\n",
       "      <td>28.35</td>\n",
       "      <td>2.0</td>\n",
       "    </tr>\n",
       "    <tr>\n",
       "      <th>2</th>\n",
       "      <td>2021-06-01 04:00:00</td>\n",
       "      <td>751</td>\n",
       "      <td>E4S 55,620</td>\n",
       "      <td>240</td>\n",
       "      <td>48</td>\n",
       "      <td>16</td>\n",
       "      <td>8</td>\n",
       "      <td>4</td>\n",
       "      <td>21.53</td>\n",
       "      <td>19.0</td>\n",
       "      <td>04:00:00</td>\n",
       "      <td>2021-06-01</td>\n",
       "      <td>55620</td>\n",
       "      <td>21.53</td>\n",
       "      <td>19.0</td>\n",
       "    </tr>\n",
       "    <tr>\n",
       "      <th>3</th>\n",
       "      <td>2021-06-01 04:00:00</td>\n",
       "      <td>740</td>\n",
       "      <td>E4S 56,160</td>\n",
       "      <td>240</td>\n",
       "      <td>48</td>\n",
       "      <td>16</td>\n",
       "      <td>8</td>\n",
       "      <td>4</td>\n",
       "      <td>21.99</td>\n",
       "      <td>17.0</td>\n",
       "      <td>04:00:00</td>\n",
       "      <td>2021-06-01</td>\n",
       "      <td>56160</td>\n",
       "      <td>21.99</td>\n",
       "      <td>17.0</td>\n",
       "    </tr>\n",
       "    <tr>\n",
       "      <th>4</th>\n",
       "      <td>2021-06-01 04:00:00</td>\n",
       "      <td>1254</td>\n",
       "      <td>E4S 55,620</td>\n",
       "      <td>240</td>\n",
       "      <td>48</td>\n",
       "      <td>16</td>\n",
       "      <td>8</td>\n",
       "      <td>4</td>\n",
       "      <td>24.53</td>\n",
       "      <td>4.0</td>\n",
       "      <td>04:00:00</td>\n",
       "      <td>2021-06-01</td>\n",
       "      <td>55620</td>\n",
       "      <td>24.53</td>\n",
       "      <td>4.0</td>\n",
       "    </tr>\n",
       "  </tbody>\n",
       "</table>\n",
       "</div>"
      ],
      "text/plain": [
       "             Datetime  DP_ID      PORTAL  Interval_1  Interval_5  Interval_15  \\\n",
       "0 2021-06-01 04:00:00    539  E4S 56,160         240          48           16   \n",
       "1 2021-06-01 04:00:00    536  E4S 56,160         240          48           16   \n",
       "2 2021-06-01 04:00:00    751  E4S 55,620         240          48           16   \n",
       "3 2021-06-01 04:00:00    740  E4S 56,160         240          48           16   \n",
       "4 2021-06-01 04:00:00   1254  E4S 55,620         240          48           16   \n",
       "\n",
       "   Interval_30  Interval_60  SPEED_MS_AVG  FLOW Time_only   Date_only  \\\n",
       "0            8            4         19.64   9.0  04:00:00  2021-06-01   \n",
       "1            8            4         28.35   2.0  04:00:00  2021-06-01   \n",
       "2            8            4         21.53  19.0  04:00:00  2021-06-01   \n",
       "3            8            4         21.99  17.0  04:00:00  2021-06-01   \n",
       "4            8            4         24.53   4.0  04:00:00  2021-06-01   \n",
       "\n",
       "  PORTAL_clean  SPEED_MS_AVG_filled  FLOW_filled  \n",
       "0        56160                19.64          9.0  \n",
       "1        56160                28.35          2.0  \n",
       "2        55620                21.53         19.0  \n",
       "3        56160                21.99         17.0  \n",
       "4        55620                24.53          4.0  "
      ]
     },
     "execution_count": 3,
     "metadata": {},
     "output_type": "execute_result"
    }
   ],
   "source": [
    "df_2_full = pd.read_parquet(\"data/processed/df_2_full_v2.parquet\")\n",
    "df_2_full.head()\n",
    "\n",
    "##otherwise\n",
    "#df_2_full = pd.read_csv(\"data/processed/df_2_full.csv\",sep=\";\", parse_dates=['Datetime'])\n",
    "\n",
    "#df_2_full['Time_only'] = df_2_full['Datetime'].dt.time\n",
    "#df_2_full['Date_only']=df_2_full['Datetime'].dt.date##\n",
    "#df_2_full.head()\n"
   ]
  },
  {
   "cell_type": "code",
   "execution_count": 4,
   "id": "2bf1463e-7b14-423a-9af9-2d5a5a9ec054",
   "metadata": {},
   "outputs": [],
   "source": [
    "target_sensor = 1076\n",
    "same_portal=\"55620\"\n",
    "neighbour_portal = \"56160\"\n",
    "\n",
    "same_portal_sensors = df_2_full[df_2_full['PORTAL_clean'] == same_portal]['DP_ID'].unique()\n",
    "same_sensors = [s for s in same_portal_sensors if s != target_sensor]\n",
    "\n",
    "\n",
    "neighbour_sensors = df_2_full[df_2_full['PORTAL_clean'] == neighbour_portal]['DP_ID'].unique()\n",
    "all_sensors=df_2_full['DP_ID'].unique()\n",
    "except_target_sensors = [s for s in all_sensors if s != target_sensor]\n",
    "\n",
    "\n"
   ]
  },
  {
   "cell_type": "markdown",
   "id": "ca8f2380-535c-4cee-8760-e94ff95f122e",
   "metadata": {},
   "source": [
    "prediction same time"
   ]
  },
  {
   "cell_type": "code",
   "execution_count": 5,
   "id": "b8d147de-ac4f-4792-8f63-4fe48cd5c710",
   "metadata": {},
   "outputs": [
    {
     "name": "stdout",
     "output_type": "stream",
     "text": [
      "Index(['Datetime', 'SENSOR_539_FLOW', 'SENSOR_539_SPEED', 'SENSOR_536_FLOW',\n",
      "       'SENSOR_536_SPEED', 'SENSOR_751_FLOW', 'SENSOR_751_SPEED',\n",
      "       'SENSOR_740_FLOW', 'SENSOR_740_SPEED', 'SENSOR_1254_FLOW',\n",
      "       'SENSOR_1254_SPEED', 'SENSOR_1076_FLOW', 'SENSOR_1076_SPEED'],\n",
      "      dtype='object')\n"
     ]
    }
   ],
   "source": [
    "df_all = []\n",
    "for sensor in all_sensors:\n",
    "    df_sensor = df_2_full[df_2_full['DP_ID'] == sensor].copy()\n",
    "    df_sensor = df_sensor.rename(columns={\n",
    "        f'FLOW_filled': f'SENSOR_{sensor}_FLOW'\n",
    "    })\n",
    "    df_sensor = df_sensor.rename(columns={\n",
    "        f'SPEED_MS_AVG_filled': f'SENSOR_{sensor}_SPEED' \n",
    "    })\n",
    "    df_sensor = df_sensor[['Datetime'] + [f'SENSOR_{sensor}_FLOW' ]+[f'SENSOR_{sensor}_SPEED' ]]\n",
    "    df_all.append(df_sensor)\n",
    "df_all = reduce(lambda l, r: pd.merge(l, r, on='Datetime', how='inner'), df_all)\n",
    "df_all.head()\n",
    "print(df_all.columns)"
   ]
  },
  {
   "cell_type": "code",
   "execution_count": 6,
   "id": "3789d421-a5d9-4acc-bd8f-f27828fff5fe",
   "metadata": {},
   "outputs": [],
   "source": [
    "flow_features_same = [\n",
    "    f'SENSOR_{sensor}_FLOW'\n",
    "    for sensor in same_sensors\n",
    "    for i in range(15)\n",
    "]\n",
    "flow_features_neighbour = [\n",
    "    f'SENSOR_{sensor}_FLOW'\n",
    "    for sensor in neighbour_sensors\n",
    "    for i in range(15)\n",
    "]\n",
    "speed_features_same = [\n",
    "    f'SENSOR_{sensor}_SPEED'\n",
    "    for sensor in same_sensors\n",
    "    for i in range(15)\n",
    "]\n",
    "speed_features_neighbour = [\n",
    "    f'SENSOR_{sensor}_SPEED'\n",
    "    for sensor in neighbour_sensors\n",
    "    for i in range(15)\n",
    "]"
   ]
  },
  {
   "cell_type": "code",
   "execution_count": 7,
   "id": "21f4cb68-76db-41c8-87cd-880517e6f6a3",
   "metadata": {},
   "outputs": [
    {
     "name": "stdout",
     "output_type": "stream",
     "text": [
      "Baseline Linear Regression (FLOW) -> RMSE: 3.904, MAE: 3.101, R2: 0.653\n",
      "Baseline Linear Regression (SPEED) -> RMSE: 1.208, MAE: 0.858, R2: 0.657\n"
     ]
    },
    {
     "name": "stderr",
     "output_type": "stream",
     "text": [
      "C:\\Users\\Johanna\\anaconda3\\envs\\AI_project\\Lib\\site-packages\\sklearn\\metrics\\_regression.py:483: FutureWarning: 'squared' is deprecated in version 1.4 and will be removed in 1.6. To calculate the root mean squared error, use the function'root_mean_squared_error'.\n",
      "  warnings.warn(\n",
      "C:\\Users\\Johanna\\anaconda3\\envs\\AI_project\\Lib\\site-packages\\sklearn\\metrics\\_regression.py:483: FutureWarning: 'squared' is deprecated in version 1.4 and will be removed in 1.6. To calculate the root mean squared error, use the function'root_mean_squared_error'.\n",
      "  warnings.warn(\n"
     ]
    }
   ],
   "source": [
    "\n",
    "df_train, df_test = train_test_split(df_all, test_size=0.2, shuffle=False)\n",
    "\n",
    "model_flow = LinearRegression()\n",
    "model_flow.fit(df_train[flow_features_same], df_train[f'SENSOR_{target_sensor}_FLOW' ])\n",
    "\n",
    "model_speed = LinearRegression()\n",
    "model_speed.fit(df_train[speed_features_same], df_train[f'SENSOR_{target_sensor}_SPEED' ])\n",
    "\n",
    "# prediction\n",
    "y_pred = model_flow.predict(df_test[flow_features_same])\n",
    "y_test=df_test[f'SENSOR_{target_sensor}_FLOW']\n",
    "\n",
    "rmse = mean_squared_error(y_test, y_pred, squared=False)\n",
    "mae = mean_absolute_error(y_test, y_pred)\n",
    "r2 = r2_score(y_test, y_pred)\n",
    "\n",
    "print(f\"Baseline Linear Regression (FLOW) -> RMSE: {rmse:.3f}, MAE: {mae:.3f}, R2: {r2:.3f}\")\n",
    "\n",
    "y_pred = model_speed.predict(df_test[speed_features_same])\n",
    "y_test=df_test[f'SENSOR_{target_sensor}_SPEED']\n",
    "\n",
    "rmse = mean_squared_error(y_test, y_pred, squared=False)\n",
    "mae = mean_absolute_error(y_test, y_pred)\n",
    "r2 = r2_score(y_test, y_pred)\n",
    "\n",
    "print(f\"Baseline Linear Regression (SPEED) -> RMSE: {rmse:.3f}, MAE: {mae:.3f}, R2: {r2:.3f}\")\n",
    "\n"
   ]
  },
  {
   "cell_type": "code",
   "execution_count": 8,
   "id": "a75f6401-8155-481c-98ac-19e1ffb0df5c",
   "metadata": {},
   "outputs": [
    {
     "name": "stdout",
     "output_type": "stream",
     "text": [
      "Baseline Linear Regression (FLOW) -> RMSE: 3.136, MAE: 2.439, R2: 0.776\n",
      "Baseline Linear Regression (SPEED) -> RMSE: 1.297, MAE: 0.901, R2: 0.605\n"
     ]
    },
    {
     "name": "stderr",
     "output_type": "stream",
     "text": [
      "C:\\Users\\Johanna\\anaconda3\\envs\\AI_project\\Lib\\site-packages\\sklearn\\metrics\\_regression.py:483: FutureWarning: 'squared' is deprecated in version 1.4 and will be removed in 1.6. To calculate the root mean squared error, use the function'root_mean_squared_error'.\n",
      "  warnings.warn(\n",
      "C:\\Users\\Johanna\\anaconda3\\envs\\AI_project\\Lib\\site-packages\\sklearn\\metrics\\_regression.py:483: FutureWarning: 'squared' is deprecated in version 1.4 and will be removed in 1.6. To calculate the root mean squared error, use the function'root_mean_squared_error'.\n",
      "  warnings.warn(\n"
     ]
    }
   ],
   "source": [
    "\n",
    "df_train, df_test = train_test_split(df_all, test_size=0.2, shuffle=False)\n",
    "\n",
    "model_flow = LinearRegression()\n",
    "model_flow.fit(df_train[flow_features_neighbour], df_train[f'SENSOR_{target_sensor}_FLOW' ])\n",
    "\n",
    "model_speed = LinearRegression()\n",
    "model_speed.fit(df_train[speed_features_neighbour], df_train[f'SENSOR_{target_sensor}_SPEED' ])\n",
    "\n",
    "# prediction\n",
    "y_pred = model_flow.predict(df_test[flow_features_neighbour])\n",
    "y_test=df_test[f'SENSOR_{target_sensor}_FLOW']\n",
    "\n",
    "rmse = mean_squared_error(y_test, y_pred, squared=False)\n",
    "mae = mean_absolute_error(y_test, y_pred)\n",
    "r2 = r2_score(y_test, y_pred)\n",
    "\n",
    "print(f\"Baseline Linear Regression (FLOW) -> RMSE: {rmse:.3f}, MAE: {mae:.3f}, R2: {r2:.3f}\")\n",
    "\n",
    "y_pred = model_speed.predict(df_test[speed_features_neighbour])\n",
    "y_test=df_test[f'SENSOR_{target_sensor}_SPEED']\n",
    "\n",
    "rmse = mean_squared_error(y_test, y_pred, squared=False)\n",
    "mae = mean_absolute_error(y_test, y_pred)\n",
    "r2 = r2_score(y_test, y_pred)\n",
    "\n",
    "print(f\"Baseline Linear Regression (SPEED) -> RMSE: {rmse:.3f}, MAE: {mae:.3f}, R2: {r2:.3f}\")\n",
    "\n"
   ]
  },
  {
   "cell_type": "markdown",
   "id": "83dc14a8-dcdb-44a8-8bce-0d6a3f0f9b4b",
   "metadata": {},
   "source": [
    "prediction current time based on the last 15"
   ]
  },
  {
   "cell_type": "code",
   "execution_count": 9,
   "id": "27101373-46a0-42bc-ab90-69d67419eddc",
   "metadata": {},
   "outputs": [],
   "source": [
    "def build_lag_features(df, target_col, lags=15):\n",
    "    df = df.sort_values('Datetime')\n",
    "    for i in range(1, lags + 1):\n",
    "        df[f'{target_col}_lag_{i}'] = df.groupby('DP_ID')[target_col].shift(i)\n",
    "    return df\n"
   ]
  },
  {
   "cell_type": "code",
   "execution_count": 10,
   "id": "1c39e58a-347a-4256-9f5b-26ad60dc505e",
   "metadata": {},
   "outputs": [
    {
     "name": "stdout",
     "output_type": "stream",
     "text": [
      "Datetime                          0\n",
      "DP_ID                             0\n",
      "PORTAL                            0\n",
      "Interval_1                        0\n",
      "Interval_5                        0\n",
      "Interval_15                       0\n",
      "Interval_30                       0\n",
      "Interval_60                       0\n",
      "SPEED_MS_AVG                  22876\n",
      "FLOW                          22876\n",
      "Time_only                         0\n",
      "Date_only                         0\n",
      "PORTAL_clean                      0\n",
      "SPEED_MS_AVG_filled               0\n",
      "FLOW_filled                       0\n",
      "FLOW_filled_lag_1                 0\n",
      "FLOW_filled_lag_2                 0\n",
      "FLOW_filled_lag_3                 0\n",
      "FLOW_filled_lag_4                 0\n",
      "FLOW_filled_lag_5                 0\n",
      "FLOW_filled_lag_6                 0\n",
      "FLOW_filled_lag_7                 0\n",
      "FLOW_filled_lag_8                 0\n",
      "FLOW_filled_lag_9                 0\n",
      "FLOW_filled_lag_10                0\n",
      "FLOW_filled_lag_11                0\n",
      "FLOW_filled_lag_12                0\n",
      "FLOW_filled_lag_13                0\n",
      "FLOW_filled_lag_14                0\n",
      "FLOW_filled_lag_15                0\n",
      "SPEED_MS_AVG_filled_lag_1         0\n",
      "SPEED_MS_AVG_filled_lag_2         0\n",
      "SPEED_MS_AVG_filled_lag_3         0\n",
      "SPEED_MS_AVG_filled_lag_4         0\n",
      "SPEED_MS_AVG_filled_lag_5         0\n",
      "SPEED_MS_AVG_filled_lag_6         0\n",
      "SPEED_MS_AVG_filled_lag_7         0\n",
      "SPEED_MS_AVG_filled_lag_8         0\n",
      "SPEED_MS_AVG_filled_lag_9         0\n",
      "SPEED_MS_AVG_filled_lag_10        0\n",
      "SPEED_MS_AVG_filled_lag_11        0\n",
      "SPEED_MS_AVG_filled_lag_12        0\n",
      "SPEED_MS_AVG_filled_lag_13        0\n",
      "SPEED_MS_AVG_filled_lag_14        0\n",
      "SPEED_MS_AVG_filled_lag_15        0\n",
      "dtype: int64\n",
      "(456936, 45)\n"
     ]
    }
   ],
   "source": [
    "df_lagged = build_lag_features(df_2_full, 'FLOW_filled', lags=15)\n",
    "df_lagged = build_lag_features(df_lagged,\"SPEED_MS_AVG_filled\", lags=15)\n",
    "df_lagged = df_lagged[df_lagged['FLOW_filled_lag_15'].notna()]\n",
    "#decay_weights = np.exp(-np.linspace(0, 2, 15))  # z. B. λ=2\n",
    "#df_lagged['FLOW_decay_feature'] = sum(\n",
    "#    df_lagged[f'FLOW_filled_lag_{i+1}'] * decay_weights[i]\n",
    "#    for i in range(15)\n",
    "#)\n",
    "print(df_lagged.isna().sum())\n",
    "print(df_lagged.shape)\n"
   ]
  },
  {
   "cell_type": "code",
   "execution_count": 11,
   "id": "1f6be8b4-6a0a-4ca7-9e37-55e73da06da0",
   "metadata": {},
   "outputs": [
    {
     "name": "stdout",
     "output_type": "stream",
     "text": [
      "Index(['Datetime', 'SENSOR_539_FLOW_lag_1', 'SENSOR_539_FLOW_lag_2',\n",
      "       'SENSOR_539_FLOW_lag_3', 'SENSOR_539_FLOW_lag_4',\n",
      "       'SENSOR_539_FLOW_lag_5', 'SENSOR_539_FLOW_lag_6',\n",
      "       'SENSOR_539_FLOW_lag_7', 'SENSOR_539_FLOW_lag_8',\n",
      "       'SENSOR_539_FLOW_lag_9',\n",
      "       ...\n",
      "       'SENSOR_1254_SPEED_lag_8', 'SENSOR_1254_SPEED_lag_9',\n",
      "       'SENSOR_1254_SPEED_lag_10', 'SENSOR_1254_SPEED_lag_11',\n",
      "       'SENSOR_1254_SPEED_lag_12', 'SENSOR_1254_SPEED_lag_13',\n",
      "       'SENSOR_1254_SPEED_lag_14', 'SENSOR_1254_SPEED_lag_15', 'FLOW_filled',\n",
      "       'SPEED_MS_AVG_filled'],\n",
      "      dtype='object', length=153)\n"
     ]
    }
   ],
   "source": [
    "df_lagged_all = []\n",
    "for sensor in except_target_sensors:\n",
    "    df_sensor = df_lagged[df_lagged['DP_ID'] == sensor].copy()\n",
    "    df_sensor = df_sensor.rename(columns={\n",
    "        f'FLOW_filled_lag_{i+1}': f'SENSOR_{sensor}_FLOW_lag_{i+1}' for i in range(15)\n",
    "    })\n",
    "    df_sensor = df_sensor.rename(columns={\n",
    "        f'SPEED_MS_AVG_filled_lag_{i+1}': f'SENSOR_{sensor}_SPEED_lag_{i+1}' for i in range(15)\n",
    "    })\n",
    "    df_sensor = df_sensor[['Datetime'] + [f'SENSOR_{sensor}_FLOW_lag_{i+1}' for i in range(15)]+[f'SENSOR_{sensor}_SPEED_lag_{i+1}' for i in range(15)]]\n",
    "    df_lagged_all.append(df_sensor)\n",
    "df_lagged_all = reduce(lambda l, r: pd.merge(l, r, on='Datetime', how='inner'), df_lagged_all)\n",
    "df_lagged_all=df_lagged_all.merge(df_2_full[df_2_full['DP_ID']==target_sensor][[\"Datetime\",\"FLOW_filled\",\"SPEED_MS_AVG_filled\"]], on=['Datetime'], how='left')\n",
    "#df_lagged_all = df_lagged_all.rename(columns={f'FLOW_filled': f'SENSOR_{target_sensor}_FLOW_filled'})\n",
    "df_lagged_all.head()\n",
    "print(df_lagged_all.columns)"
   ]
  },
  {
   "cell_type": "code",
   "execution_count": 12,
   "id": "693161d0-68ad-4df2-ac9b-296d21d483a6",
   "metadata": {},
   "outputs": [],
   "source": [
    "flow_features_same = [\n",
    "    f'SENSOR_{sensor}_FLOW_lag_{i+1}'\n",
    "    for sensor in same_sensors\n",
    "    for i in range(15)\n",
    "]\n",
    "flow_features_neighbour = [\n",
    "    f'SENSOR_{sensor}_FLOW_lag_{i+1}'\n",
    "    for sensor in neighbour_sensors\n",
    "    for i in range(15)\n",
    "]\n",
    "speed_features_same = [\n",
    "    f'SENSOR_{sensor}_SPEED_lag_{i+1}'\n",
    "    for sensor in same_sensors\n",
    "    for i in range(15)\n",
    "]\n",
    "speed_features_neighbour = [\n",
    "    f'SENSOR_{sensor}_SPEED_lag_{i+1}'\n",
    "    for sensor in neighbour_sensors\n",
    "    for i in range(15)\n",
    "]"
   ]
  },
  {
   "cell_type": "code",
   "execution_count": 13,
   "id": "b56820dc-7404-4d8d-afaa-9153e47c5a46",
   "metadata": {},
   "outputs": [
    {
     "name": "stdout",
     "output_type": "stream",
     "text": [
      "2021-11-19 08:48:00\n",
      "Baseline Linear Regression (FLOW) -> RMSE: 3.650, MAE: 2.744, R2: 0.697\n",
      "Baseline Linear Regression (SPEED) -> RMSE: 1.261, MAE: 0.919, R2: 0.626\n"
     ]
    },
    {
     "name": "stderr",
     "output_type": "stream",
     "text": [
      "C:\\Users\\Johanna\\anaconda3\\envs\\AI_project\\Lib\\site-packages\\sklearn\\metrics\\_regression.py:483: FutureWarning: 'squared' is deprecated in version 1.4 and will be removed in 1.6. To calculate the root mean squared error, use the function'root_mean_squared_error'.\n",
      "  warnings.warn(\n",
      "C:\\Users\\Johanna\\anaconda3\\envs\\AI_project\\Lib\\site-packages\\sklearn\\metrics\\_regression.py:483: FutureWarning: 'squared' is deprecated in version 1.4 and will be removed in 1.6. To calculate the root mean squared error, use the function'root_mean_squared_error'.\n",
      "  warnings.warn(\n"
     ]
    }
   ],
   "source": [
    "#saame portal\n",
    "\n",
    "\n",
    "\n",
    "split_time = df_2_full['Datetime'].quantile(0.8)\n",
    "print(split_time)\n",
    "\n",
    "df_train = df_lagged_all[df_lagged_all['Datetime'] <= split_time]\n",
    "df_test = df_lagged_all[df_lagged_all['Datetime'] > split_time]\n",
    "\n",
    "model_flow = LinearRegression()\n",
    "model_flow.fit(df_train[flow_features_same], df_train['FLOW_filled'])\n",
    "\n",
    "model_speed = LinearRegression()\n",
    "model_speed.fit(df_train[speed_features_same], df_train['SPEED_MS_AVG_filled'])\n",
    "\n",
    "\n",
    "\n",
    "#df_lagged['FLOW_future_mean'] = df_lagged.groupby('DP_ID')['FLOW_filled'].shift(-1).rolling(15).mean()\n",
    "\n",
    "# Vorhersage\n",
    "y_pred = model_flow.predict(df_test[flow_features_same])\n",
    "y_test=df_test['FLOW_filled']\n",
    "\n",
    "rmse = mean_squared_error(y_test, y_pred, squared=False)\n",
    "mae = mean_absolute_error(y_test, y_pred)\n",
    "r2 = r2_score(y_test, y_pred)\n",
    "\n",
    "print(f\"Baseline Linear Regression (FLOW) -> RMSE: {rmse:.3f}, MAE: {mae:.3f}, R2: {r2:.3f}\")\n",
    "\n",
    "y_pred = model_speed.predict(df_test[speed_features_same])\n",
    "y_test=df_test['SPEED_MS_AVG_filled']\n",
    "\n",
    "rmse = mean_squared_error(y_test, y_pred, squared=False)\n",
    "mae = mean_absolute_error(y_test, y_pred)\n",
    "r2 = r2_score(y_test, y_pred)\n",
    "\n",
    "print(f\"Baseline Linear Regression (SPEED) -> RMSE: {rmse:.3f}, MAE: {mae:.3f}, R2: {r2:.3f}\")\n",
    "\n"
   ]
  },
  {
   "cell_type": "code",
   "execution_count": 14,
   "id": "8e090e82-125b-4541-a0aa-d994eb4f29c0",
   "metadata": {},
   "outputs": [
    {
     "name": "stdout",
     "output_type": "stream",
     "text": [
      "2021-11-19 08:48:00\n",
      "Baseline Linear Regression (FLOW) -> RMSE: 2.964, MAE: 2.239, R2: 0.800\n",
      "Baseline Linear Regression (SPEED) -> RMSE: 1.288, MAE: 0.868, R2: 0.610\n"
     ]
    },
    {
     "name": "stderr",
     "output_type": "stream",
     "text": [
      "C:\\Users\\Johanna\\anaconda3\\envs\\AI_project\\Lib\\site-packages\\sklearn\\metrics\\_regression.py:483: FutureWarning: 'squared' is deprecated in version 1.4 and will be removed in 1.6. To calculate the root mean squared error, use the function'root_mean_squared_error'.\n",
      "  warnings.warn(\n",
      "C:\\Users\\Johanna\\anaconda3\\envs\\AI_project\\Lib\\site-packages\\sklearn\\metrics\\_regression.py:483: FutureWarning: 'squared' is deprecated in version 1.4 and will be removed in 1.6. To calculate the root mean squared error, use the function'root_mean_squared_error'.\n",
      "  warnings.warn(\n"
     ]
    }
   ],
   "source": [
    "#neighbour\n",
    "\n",
    "#X = df_lagged_all[features]\n",
    "#y = df_lagged_all[\"FLOW_filled\"]\n",
    "\n",
    "split_time = df_2_full['Datetime'].quantile(0.8)\n",
    "print(split_time)\n",
    "\n",
    "df_train = df_lagged_all[df_lagged_all['Datetime'] <= split_time]\n",
    "df_test = df_lagged_all[df_lagged_all['Datetime'] > split_time]\n",
    "\n",
    "model_flow = LinearRegression()\n",
    "model_flow.fit(df_train[flow_features_neighbour], df_train['FLOW_filled'])\n",
    "\n",
    "model_speed = LinearRegression()\n",
    "model_speed.fit(df_train[speed_features_neighbour], df_train['SPEED_MS_AVG_filled'])\n",
    "\n",
    "\n",
    "#df_lagged['FLOW_future_mean'] = df_lagged.groupby('DP_ID')['FLOW_filled'].shift(-1).rolling(15).mean()\n",
    "\n",
    "# Vorhersage\n",
    "y_pred = model_flow.predict(df_test[flow_features_neighbour])\n",
    "y_test=df_test['FLOW_filled']\n",
    "\n",
    "rmse = mean_squared_error(y_test, y_pred, squared=False)\n",
    "mae = mean_absolute_error(y_test, y_pred)\n",
    "r2 = r2_score(y_test, y_pred)\n",
    "\n",
    "print(f\"Baseline Linear Regression (FLOW) -> RMSE: {rmse:.3f}, MAE: {mae:.3f}, R2: {r2:.3f}\")\n",
    "\n",
    "y_pred = model_speed.predict(df_test[speed_features_neighbour])\n",
    "y_test=df_test['SPEED_MS_AVG_filled']\n",
    "\n",
    "rmse = mean_squared_error(y_test, y_pred, squared=False)\n",
    "mae = mean_absolute_error(y_test, y_pred)\n",
    "r2 = r2_score(y_test, y_pred)\n",
    "\n",
    "print(f\"Baseline Linear Regression (SPEED) -> RMSE: {rmse:.3f}, MAE: {mae:.3f}, R2: {r2:.3f}\")\n",
    "\n"
   ]
  },
  {
   "cell_type": "markdown",
   "id": "7d448516-57ac-4140-b701-65d7e2c20ea4",
   "metadata": {},
   "source": [
    "Predict total flow for the next 15 mins"
   ]
  },
  {
   "cell_type": "code",
   "execution_count": 15,
   "id": "67598625-ef47-496c-92a6-1dd6efe3813f",
   "metadata": {},
   "outputs": [
    {
     "name": "stdout",
     "output_type": "stream",
     "text": [
      "(76156, 155)\n",
      "(72991, 155)\n",
      "Datetime                    0\n",
      "SENSOR_539_FLOW_lag_1       0\n",
      "SENSOR_539_FLOW_lag_2       0\n",
      "SENSOR_539_FLOW_lag_3       0\n",
      "SENSOR_539_FLOW_lag_4       0\n",
      "                           ..\n",
      "SENSOR_1254_SPEED_lag_15    0\n",
      "FLOW_filled                 0\n",
      "SPEED_MS_AVG_filled         0\n",
      "FLOW_future_sum             0\n",
      "SPEED_future_mean           0\n",
      "Length: 155, dtype: int64\n"
     ]
    }
   ],
   "source": [
    "df_2_full['FLOW_future_sum'] = (\n",
    "    df_2_full.groupby('DP_ID')['FLOW_filled']\n",
    "    .rolling(15, min_periods=15)\n",
    "    .sum()\n",
    "    .shift(-14)  # damit die Summe bei t=07:02 die Werte von 07:02–07:16 enthält\n",
    "    .reset_index(level=0, drop=True)\n",
    ")\n",
    "df_2_full['SPEED_future_mean'] = (\n",
    "    df_2_full.groupby('DP_ID')['SPEED_MS_AVG_filled']\n",
    "    .rolling(15, min_periods=15)\n",
    "    .mean()\n",
    "    .shift(-14)  # damit die Summe bei t=07:02 die Werte von 07:02–07:16 enthält\n",
    "    .reset_index(level=0, drop=True)\n",
    ")\n",
    "\n",
    "\n",
    "df_lagged_all=df_lagged_all.merge(df_2_full[df_2_full['DP_ID']==target_sensor][[\"Datetime\",\"FLOW_future_sum\",\"SPEED_future_mean\"]], on=['Datetime'], how='left')\n",
    "print(df_lagged_all.shape)\n",
    "df_lagged_all = df_lagged_all[df_lagged_all['Datetime'].dt.time <= time(9, 45)]\n",
    "print(df_lagged_all.shape)\n",
    "\n",
    "#print(df_lagged_all[\"Datetime\"]dt.time.min(), df_lagged_all[\"Datetime\"].dt.date.max())\n",
    "df_lagged_all.head(20)\n",
    "print(df_lagged_all.isna().sum())\n"
   ]
  },
  {
   "cell_type": "code",
   "execution_count": 16,
   "id": "802dc183-277e-402b-aa68-1ed67569363a",
   "metadata": {},
   "outputs": [
    {
     "name": "stdout",
     "output_type": "stream",
     "text": [
      "2021-11-19 08:48:00\n",
      "Baseline Linear Regression (FLOW) -> RMSE: 33.997, MAE: 22.698, R2: 0.850\n",
      "Baseline Linear Regression (SPEED) -> RMSE: 0.870, MAE: 0.507, R2: 0.741\n"
     ]
    },
    {
     "name": "stderr",
     "output_type": "stream",
     "text": [
      "C:\\Users\\Johanna\\anaconda3\\envs\\AI_project\\Lib\\site-packages\\sklearn\\metrics\\_regression.py:483: FutureWarning: 'squared' is deprecated in version 1.4 and will be removed in 1.6. To calculate the root mean squared error, use the function'root_mean_squared_error'.\n",
      "  warnings.warn(\n",
      "C:\\Users\\Johanna\\anaconda3\\envs\\AI_project\\Lib\\site-packages\\sklearn\\metrics\\_regression.py:483: FutureWarning: 'squared' is deprecated in version 1.4 and will be removed in 1.6. To calculate the root mean squared error, use the function'root_mean_squared_error'.\n",
      "  warnings.warn(\n"
     ]
    }
   ],
   "source": [
    "#same portal\n",
    "\n",
    "\n",
    "#X = df_lagged_all[features]\n",
    "#y = df_lagged_all[\"FLOW_future_sum\"]\n",
    "\n",
    "split_time = df_2_full['Datetime'].quantile(0.8)\n",
    "print(split_time)\n",
    "\n",
    "df_train = df_lagged_all[df_lagged_all['Datetime'] <= split_time]\n",
    "df_test = df_lagged_all[df_lagged_all['Datetime'] > split_time]\n",
    "\n",
    "model_flow = LinearRegression()\n",
    "model_flow.fit(df_train[flow_features_same], df_train['FLOW_future_sum'])\n",
    "\n",
    "model_speed = LinearRegression()\n",
    "model_speed.fit(df_train[speed_features_same], df_train['SPEED_future_mean'])\n",
    "\n",
    "#df_lagged['FLOW_future_mean'] = df_lagged.groupby('DP_ID')['FLOW_filled'].shift(-1).rolling(15).mean()\n",
    "\n",
    "# Vorhersage\n",
    "y_pred = model_flow.predict(df_test[flow_features_same])\n",
    "y_test=df_test['FLOW_future_sum']\n",
    "\n",
    "rmse = mean_squared_error(y_test, y_pred, squared=False)\n",
    "mae = mean_absolute_error(y_test, y_pred)\n",
    "r2 = r2_score(y_test, y_pred)\n",
    "\n",
    "print(f\"Baseline Linear Regression (FLOW) -> RMSE: {rmse:.3f}, MAE: {mae:.3f}, R2: {r2:.3f}\")\n",
    "\n",
    "\n",
    "y_pred = model_speed.predict(df_test[speed_features_same])\n",
    "y_test=df_test['SPEED_future_mean']\n",
    "\n",
    "rmse = mean_squared_error(y_test, y_pred, squared=False)\n",
    "mae = mean_absolute_error(y_test, y_pred)\n",
    "r2 = r2_score(y_test, y_pred)\n",
    "\n",
    "print(f\"Baseline Linear Regression (SPEED) -> RMSE: {rmse:.3f}, MAE: {mae:.3f}, R2: {r2:.3f}\")"
   ]
  },
  {
   "cell_type": "code",
   "execution_count": 17,
   "id": "67f87453-4ad5-488f-a9cd-af53cb952ad4",
   "metadata": {},
   "outputs": [
    {
     "name": "stdout",
     "output_type": "stream",
     "text": [
      "2021-11-19 08:48:00\n",
      "Baseline Linear Regression (FLOW) -> RMSE: 28.135, MAE: 18.771, R2: 0.897\n",
      "Baseline Linear Regression (SPEED) -> RMSE: 1.015, MAE: 0.580, R2: 0.648\n"
     ]
    },
    {
     "name": "stderr",
     "output_type": "stream",
     "text": [
      "C:\\Users\\Johanna\\anaconda3\\envs\\AI_project\\Lib\\site-packages\\sklearn\\metrics\\_regression.py:483: FutureWarning: 'squared' is deprecated in version 1.4 and will be removed in 1.6. To calculate the root mean squared error, use the function'root_mean_squared_error'.\n",
      "  warnings.warn(\n",
      "C:\\Users\\Johanna\\anaconda3\\envs\\AI_project\\Lib\\site-packages\\sklearn\\metrics\\_regression.py:483: FutureWarning: 'squared' is deprecated in version 1.4 and will be removed in 1.6. To calculate the root mean squared error, use the function'root_mean_squared_error'.\n",
      "  warnings.warn(\n"
     ]
    }
   ],
   "source": [
    "#neighbour portal\n",
    "\n",
    "\n",
    "#X = df_lagged_all[features]\n",
    "#y = df_lagged_all[\"FLOW_future_sum\"]\n",
    "\n",
    "split_time = df_2_full['Datetime'].quantile(0.8)\n",
    "print(split_time)\n",
    "\n",
    "df_train = df_lagged_all[df_lagged_all['Datetime'] <= split_time]\n",
    "df_test = df_lagged_all[df_lagged_all['Datetime'] > split_time]\n",
    "\n",
    "model_flow = LinearRegression()\n",
    "model_flow.fit(df_train[flow_features_neighbour], df_train['FLOW_future_sum'])\n",
    "\n",
    "model_speed = LinearRegression()\n",
    "model_speed.fit(df_train[speed_features_neighbour], df_train['SPEED_future_mean'])\n",
    "\n",
    "#df_lagged['FLOW_future_mean'] = df_lagged.groupby('DP_ID')['FLOW_filled'].shift(-1).rolling(15).mean()\n",
    "\n",
    "# Vorhersage\n",
    "y_pred = model_flow.predict(df_test[flow_features_neighbour])\n",
    "y_test=df_test['FLOW_future_sum']\n",
    "\n",
    "rmse = mean_squared_error(y_test, y_pred, squared=False)\n",
    "mae = mean_absolute_error(y_test, y_pred)\n",
    "r2 = r2_score(y_test, y_pred)\n",
    "\n",
    "print(f\"Baseline Linear Regression (FLOW) -> RMSE: {rmse:.3f}, MAE: {mae:.3f}, R2: {r2:.3f}\")\n",
    "\n",
    "\n",
    "y_pred = model_speed.predict(df_test[speed_features_neighbour])\n",
    "y_test=df_test['SPEED_future_mean']\n",
    "\n",
    "rmse = mean_squared_error(y_test, y_pred, squared=False)\n",
    "mae = mean_absolute_error(y_test, y_pred)\n",
    "r2 = r2_score(y_test, y_pred)\n",
    "\n",
    "print(f\"Baseline Linear Regression (SPEED) -> RMSE: {rmse:.3f}, MAE: {mae:.3f}, R2: {r2:.3f}\")"
   ]
  },
  {
   "cell_type": "markdown",
   "id": "b81b8720-e36f-4d67-bcae-d47cb512fbd5",
   "metadata": {},
   "source": [
    "XGB-Boost"
   ]
  },
  {
   "cell_type": "code",
   "execution_count": 21,
   "id": "3fbe3102-c9c7-4382-82bf-e34a8ef583aa",
   "metadata": {},
   "outputs": [
    {
     "name": "stdout",
     "output_type": "stream",
     "text": [
      "XGBoost Regression (FLOW) -> RMSE: 31.103, MAE: 20.831, R²: 0.875\n",
      "XGBoost Regression (SPEED) -> RMSE: 0.828, MAE: 0.466, R²: 0.766\n"
     ]
    },
    {
     "name": "stderr",
     "output_type": "stream",
     "text": [
      "C:\\Users\\Johanna\\anaconda3\\envs\\AI_project\\Lib\\site-packages\\sklearn\\metrics\\_regression.py:483: FutureWarning: 'squared' is deprecated in version 1.4 and will be removed in 1.6. To calculate the root mean squared error, use the function'root_mean_squared_error'.\n",
      "  warnings.warn(\n",
      "C:\\Users\\Johanna\\anaconda3\\envs\\AI_project\\Lib\\site-packages\\sklearn\\metrics\\_regression.py:483: FutureWarning: 'squared' is deprecated in version 1.4 and will be removed in 1.6. To calculate the root mean squared error, use the function'root_mean_squared_error'.\n",
      "  warnings.warn(\n"
     ]
    }
   ],
   "source": [
    "model_flow = XGBRegressor(\n",
    "    n_estimators=200,\n",
    "    max_depth=5,\n",
    "    learning_rate=0.05,\n",
    "    subsample=0.8,\n",
    "    colsample_bytree=0.8,\n",
    "    random_state=42\n",
    ")\n",
    "model_flow.fit(df_train[flow_features_same], df_train['FLOW_future_sum'])\n",
    "\n",
    "model_speed = XGBRegressor(\n",
    "    n_estimators=200,\n",
    "    max_depth=5,\n",
    "    learning_rate=0.05,\n",
    "    subsample=0.8,\n",
    "    colsample_bytree=0.8,\n",
    "    random_state=42\n",
    ")\n",
    "model_speed.fit(df_train[speed_features_same], df_train['SPEED_future_mean'])\n",
    "\n",
    "\n",
    "\n",
    "\n",
    "y_pred = model_flow.predict(df_test[flow_features_same])\n",
    "y_test = df_test['FLOW_future_sum']\n",
    "\n",
    "rmse = mean_squared_error(y_test, y_pred, squared=False)\n",
    "mae = mean_absolute_error(y_test, y_pred)\n",
    "r2 = r2_score(y_test, y_pred)\n",
    "\n",
    "print(f\"XGBoost Regression (FLOW) -> RMSE: {rmse:.3f}, MAE: {mae:.3f}, R²: {r2:.3f}\")\n",
    "\n",
    "y_pred = model_speed.predict(df_test[speed_features_same])\n",
    "y_test = df_test['SPEED_future_mean']\n",
    "\n",
    "rmse = mean_squared_error(y_test, y_pred, squared=False)\n",
    "mae = mean_absolute_error(y_test, y_pred)\n",
    "r2 = r2_score(y_test, y_pred)\n",
    "\n",
    "print(f\"XGBoost Regression (SPEED) -> RMSE: {rmse:.3f}, MAE: {mae:.3f}, R²: {r2:.3f}\")"
   ]
  },
  {
   "cell_type": "code",
   "execution_count": 22,
   "id": "7ad037b8-5831-455a-91bd-a46b0a446141",
   "metadata": {},
   "outputs": [
    {
     "name": "stdout",
     "output_type": "stream",
     "text": [
      "XGBoost Regression (FLOW) -> RMSE: 25.194, MAE: 17.609, R²: 0.918\n",
      "XGBoost Regression (SPEED) -> RMSE: 0.926, MAE: 0.490, R²: 0.707\n"
     ]
    },
    {
     "name": "stderr",
     "output_type": "stream",
     "text": [
      "C:\\Users\\Johanna\\anaconda3\\envs\\AI_project\\Lib\\site-packages\\sklearn\\metrics\\_regression.py:483: FutureWarning: 'squared' is deprecated in version 1.4 and will be removed in 1.6. To calculate the root mean squared error, use the function'root_mean_squared_error'.\n",
      "  warnings.warn(\n",
      "C:\\Users\\Johanna\\anaconda3\\envs\\AI_project\\Lib\\site-packages\\sklearn\\metrics\\_regression.py:483: FutureWarning: 'squared' is deprecated in version 1.4 and will be removed in 1.6. To calculate the root mean squared error, use the function'root_mean_squared_error'.\n",
      "  warnings.warn(\n"
     ]
    }
   ],
   "source": [
    "from xgboost import XGBRegressor\n",
    "model_flow = XGBRegressor(\n",
    "    n_estimators=200,\n",
    "    max_depth=5,\n",
    "    learning_rate=0.05,\n",
    "    subsample=0.8,\n",
    "    colsample_bytree=0.8,\n",
    "    random_state=42\n",
    ")\n",
    "model_flow.fit(df_train[flow_features_neighbour], df_train['FLOW_future_sum'])\n",
    "\n",
    "model_speed = XGBRegressor(\n",
    "    n_estimators=200,\n",
    "    max_depth=5,\n",
    "    learning_rate=0.05,\n",
    "    subsample=0.8,\n",
    "    colsample_bytree=0.8,\n",
    "    random_state=42\n",
    ")\n",
    "model_speed.fit(df_train[speed_features_neighbour], df_train['SPEED_future_mean'])\n",
    "\n",
    "\n",
    "\n",
    "\n",
    "y_pred = model_flow.predict(df_test[flow_features_neighbour])\n",
    "y_test = df_test['FLOW_future_sum']\n",
    "\n",
    "rmse = mean_squared_error(y_test, y_pred, squared=False)\n",
    "mae = mean_absolute_error(y_test, y_pred)\n",
    "r2 = r2_score(y_test, y_pred)\n",
    "\n",
    "print(f\"XGBoost Regression (FLOW) -> RMSE: {rmse:.3f}, MAE: {mae:.3f}, R²: {r2:.3f}\")\n",
    "\n",
    "y_pred = model_speed.predict(df_test[speed_features_neighbour])\n",
    "y_test = df_test['SPEED_future_mean']\n",
    "\n",
    "rmse = mean_squared_error(y_test, y_pred, squared=False)\n",
    "mae = mean_absolute_error(y_test, y_pred)\n",
    "r2 = r2_score(y_test, y_pred)\n",
    "\n",
    "print(f\"XGBoost Regression (SPEED) -> RMSE: {rmse:.3f}, MAE: {mae:.3f}, R²: {r2:.3f}\")"
   ]
  },
  {
   "cell_type": "code",
   "execution_count": 23,
   "id": "a9b9958e-cce2-4191-a592-9c870e764332",
   "metadata": {},
   "outputs": [],
   "source": [
    "df_lagged_all.to_parquet(\"data/processed/df_lagged_all.parquet\", index=False)\n"
   ]
  },
  {
   "cell_type": "code",
   "execution_count": null,
   "id": "3c7e2bf4-df1d-4cf8-8a61-db2a582619b7",
   "metadata": {},
   "outputs": [],
   "source": []
  }
 ],
 "metadata": {
  "kernelspec": {
   "display_name": "Python 3 (ipykernel)",
   "language": "python",
   "name": "python3"
  },
  "language_info": {
   "codemirror_mode": {
    "name": "ipython",
    "version": 3
   },
   "file_extension": ".py",
   "mimetype": "text/x-python",
   "name": "python",
   "nbconvert_exporter": "python",
   "pygments_lexer": "ipython3",
   "version": "3.12.11"
  }
 },
 "nbformat": 4,
 "nbformat_minor": 5
}
